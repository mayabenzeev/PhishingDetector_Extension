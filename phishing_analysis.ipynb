{
 "cells": [
  {
   "cell_type": "markdown",
   "id": "e3cb8486",
   "metadata": {},
   "source": [
    "# Phishing URL Dataset Analysis 📊"
   ]
  },
  {
   "cell_type": "markdown",
   "id": "84eb6c7f",
   "metadata": {},
   "source": [
    "### Preview of Dataset"
   ]
  },
  {
   "cell_type": "code",
   "execution_count": null,
   "id": "5378cd6f-cbe7-4388-b368-121d3bc81b02",
   "metadata": {},
   "outputs": [],
   "source": [
    "import pandas as pd"
   ]
  },
  {
   "cell_type": "code",
   "execution_count": null,
   "id": "1ca77cd1-4eee-424d-aa43-6e120fde3fb5",
   "metadata": {},
   "outputs": [],
   "source": [
    "df_physhing = pd.read_csv(\"SimpleExtension/datasets/verified_online.csv\")\n",
    "df_benign = pd.read_csv('SimpleExtension/datasets/top-1m.csv', header=None, names=['rank', 'domain'])\n"
   ]
  },
  {
   "cell_type": "code",
   "execution_count": 1,
   "id": "54815018",
   "metadata": {},
   "outputs": [
    {
     "ename": "NameError",
     "evalue": "name 'df_features' is not defined",
     "output_type": "error",
     "traceback": [
      "\u001b[0;31m---------------------------------------------------------------------------\u001b[0m",
      "\u001b[0;31mNameError\u001b[0m                                 Traceback (most recent call last)",
      "Cell \u001b[0;32mIn[1], line 1\u001b[0m\n\u001b[0;32m----> 1\u001b[0m df_features\u001b[38;5;241m.\u001b[39mhead()\n",
      "\u001b[0;31mNameError\u001b[0m: name 'df_features' is not defined"
     ]
    }
   ],
   "source": [
    "df_features.head()"
   ]
  },
  {
   "cell_type": "markdown",
   "id": "06ca203d",
   "metadata": {},
   "source": [
    "### Correlation Heatmap"
   ]
  },
  {
   "cell_type": "code",
   "execution_count": null,
   "id": "c523c342",
   "metadata": {},
   "outputs": [],
   "source": [
    "import seaborn as sns\n",
    "import matplotlib.pyplot as plt\n",
    "plt.figure(figsize=(10, 6))\n",
    "sns.heatmap(df_features.drop(columns=['url', 'cluster']).corr(), annot=True, cmap='coolwarm')\n",
    "plt.title('Feature Correlation Heatmap')\n",
    "plt.show()"
   ]
  },
  {
   "cell_type": "markdown",
   "id": "b083544a",
   "metadata": {},
   "source": [
    "### K-Means Clustering Result"
   ]
  },
  {
   "cell_type": "code",
   "execution_count": null,
   "id": "75a0c4d1",
   "metadata": {},
   "outputs": [],
   "source": [
    "plt.figure(figsize=(8, 5))\n",
    "sns.scatterplot(x=X_scaled[:, 0], y=X_scaled[:, 1], hue=df_features['cluster'], palette='viridis')\n",
    "plt.title('K-Means Clustering (2D Projection)')\n",
    "plt.xlabel('Feature 1 (scaled)')\n",
    "plt.ylabel('Feature 2 (scaled)')\n",
    "plt.show()"
   ]
  },
  {
   "cell_type": "markdown",
   "id": "e565b24e",
   "metadata": {},
   "source": [
    "### Logistic Regression Weights & Bias"
   ]
  },
  {
   "cell_type": "code",
   "execution_count": null,
   "id": "b70cc58e",
   "metadata": {},
   "outputs": [],
   "source": [
    "import pandas as pd\n",
    "feature_names = X.columns\n",
    "weights = pd.Series(model.coef_[0], index=feature_names)\n",
    "weights.plot(kind='barh', figsize=(8,6), title='Feature Weights')\n",
    "plt.axvline(0, color='red', linestyle='--')\n",
    "plt.show()\n",
    "print(f'Bias: {model.intercept_[0]:.4f}')"
   ]
  },
  {
   "cell_type": "markdown",
   "id": "8e1cd4b5",
   "metadata": {},
   "source": [
    "### Cross-Validation Accuracy"
   ]
  },
  {
   "cell_type": "code",
   "execution_count": null,
   "id": "278f130a",
   "metadata": {},
   "outputs": [],
   "source": [
    "from sklearn.model_selection import StratifiedKFold, cross_val_score\n",
    "k_values = [3, 5, 7, 10]\n",
    "for k in k_values:\n",
    "    skf = StratifiedKFold(n_splits=k, shuffle=True, random_state=42)\n",
    "    scores = cross_val_score(LogisticRegression(), X_scaled, y, cv=skf, scoring='accuracy')\n",
    "    print(f'k={k}: Accuracy = {scores.mean():.4f}')"
   ]
  }
 ],
 "metadata": {
  "kernelspec": {
   "display_name": "Python 3 (ipykernel)",
   "language": "python",
   "name": "python3"
  },
  "language_info": {
   "codemirror_mode": {
    "name": "ipython",
    "version": 3
   },
   "file_extension": ".py",
   "mimetype": "text/x-python",
   "name": "python",
   "nbconvert_exporter": "python",
   "pygments_lexer": "ipython3",
   "version": "3.11.7"
  }
 },
 "nbformat": 4,
 "nbformat_minor": 5
}
