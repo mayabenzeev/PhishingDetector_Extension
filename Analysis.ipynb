{
 "cells": [
  {
   "cell_type": "markdown",
   "id": "bd60b3b0-18d9-4f3c-94da-3aa4d49d3784",
   "metadata": {},
   "source": [
    "# Phishing URL Dataset Analysis"
   ]
  },
  {
   "cell_type": "code",
   "execution_count": 316,
   "id": "6e6bdca5-eb22-4066-a53d-ac596100f875",
   "metadata": {},
   "outputs": [],
   "source": [
    "import pandas as pd\n",
    "import numpy as np\n",
    "import time\n",
    "import matplotlib.pyplot as plt\n",
    "from sklearn.ensemble import RandomForestClassifier\n",
    "from sklearn.model_selection import StratifiedKFold, cross_val_score, train_test_split\n",
    "from sklearn.metrics import (\n",
    "    precision_score, recall_score, f1_score,\n",
    "    confusion_matrix, roc_curve\n",
    ")\n",
    "import joblib\n",
    "import m2cgen as m2c"
   ]
  },
  {
   "cell_type": "markdown",
   "id": "1525333c-01f9-4e01-be91-8bf1e1a9b54b",
   "metadata": {},
   "source": [
    "### Load the precomputed dataset"
   ]
  },
  {
   "cell_type": "code",
   "execution_count": 257,
   "id": "c057c76a-7d57-4b47-a90d-84ec09afde79",
   "metadata": {},
   "outputs": [
    {
     "name": "stdout",
     "output_type": "stream",
     "text": [
      "Analysis.ipynb     \u001b[34mdatasets\u001b[m\u001b[m/          package.json\n",
      "\u001b[34mSimpleExtension\u001b[m\u001b[m/   \u001b[34mnode_modules\u001b[m\u001b[m/      rf_model.pkl\n",
      "\u001b[34mdata_analysis\u001b[m\u001b[m/     package-lock.json  trainer.py\n"
     ]
    }
   ],
   "source": [
    "ls"
   ]
  },
  {
   "cell_type": "code",
   "execution_count": 258,
   "id": "c67eaa54-e41b-46fa-b2e7-0da49ff86362",
   "metadata": {},
   "outputs": [],
   "source": [
    "df = pd.read_csv(\"datasets/features.csv\")\n",
    "X = df.drop([\"label\",\"url\"], axis=1)\n",
    "\n",
    "#TODO: delete this if we want the url length because we already have the domain length\n",
    "# X = df.drop([\"label\",\"url\",\"url_length\"], axis=1)\n",
    "\n",
    "y = df[\"label\"]"
   ]
  },
  {
   "cell_type": "code",
   "execution_count": 259,
   "id": "58cead74-05ee-4f19-b059-f9a5cdec8075",
   "metadata": {},
   "outputs": [
    {
     "data": {
      "text/html": [
       "<div>\n",
       "<style scoped>\n",
       "    .dataframe tbody tr th:only-of-type {\n",
       "        vertical-align: middle;\n",
       "    }\n",
       "\n",
       "    .dataframe tbody tr th {\n",
       "        vertical-align: top;\n",
       "    }\n",
       "\n",
       "    .dataframe thead th {\n",
       "        text-align: right;\n",
       "    }\n",
       "</style>\n",
       "<table border=\"1\" class=\"dataframe\">\n",
       "  <thead>\n",
       "    <tr style=\"text-align: right;\">\n",
       "      <th></th>\n",
       "      <th>url</th>\n",
       "      <th>url_length</th>\n",
       "      <th>dot_count</th>\n",
       "      <th>has_at</th>\n",
       "      <th>special_char_count</th>\n",
       "      <th>entropy</th>\n",
       "      <th>suspicious_keywords</th>\n",
       "      <th>subdomain_length</th>\n",
       "      <th>is_free_hosting</th>\n",
       "      <th>has_hyphen</th>\n",
       "      <th>...</th>\n",
       "      <th>fetchCount</th>\n",
       "      <th>xhrCount</th>\n",
       "      <th>wsCount</th>\n",
       "      <th>scriptInjectionCount</th>\n",
       "      <th>eventListenerCount</th>\n",
       "      <th>domMutationCount</th>\n",
       "      <th>attributeMutationCount</th>\n",
       "      <th>pageLoadTime</th>\n",
       "      <th>memoryUsed</th>\n",
       "      <th>label</th>\n",
       "    </tr>\n",
       "  </thead>\n",
       "  <tbody>\n",
       "    <tr>\n",
       "      <th>0</th>\n",
       "      <td>https://bit.ly/3C67RTD</td>\n",
       "      <td>22</td>\n",
       "      <td>1</td>\n",
       "      <td>0</td>\n",
       "      <td>0</td>\n",
       "      <td>2.584963</td>\n",
       "      <td>0</td>\n",
       "      <td>0</td>\n",
       "      <td>0</td>\n",
       "      <td>0</td>\n",
       "      <td>...</td>\n",
       "      <td>0</td>\n",
       "      <td>0</td>\n",
       "      <td>0</td>\n",
       "      <td>0</td>\n",
       "      <td>0</td>\n",
       "      <td>0</td>\n",
       "      <td>0</td>\n",
       "      <td>6122</td>\n",
       "      <td>10000000</td>\n",
       "      <td>1</td>\n",
       "    </tr>\n",
       "    <tr>\n",
       "      <th>1</th>\n",
       "      <td>https://prod-rd-10040.firebaseapp.com/</td>\n",
       "      <td>38</td>\n",
       "      <td>2</td>\n",
       "      <td>0</td>\n",
       "      <td>2</td>\n",
       "      <td>3.952303</td>\n",
       "      <td>0</td>\n",
       "      <td>13</td>\n",
       "      <td>0</td>\n",
       "      <td>1</td>\n",
       "      <td>...</td>\n",
       "      <td>0</td>\n",
       "      <td>2</td>\n",
       "      <td>0</td>\n",
       "      <td>2</td>\n",
       "      <td>143</td>\n",
       "      <td>0</td>\n",
       "      <td>0</td>\n",
       "      <td>6437</td>\n",
       "      <td>19300000</td>\n",
       "      <td>1</td>\n",
       "    </tr>\n",
       "    <tr>\n",
       "      <th>2</th>\n",
       "      <td>https://blues.org</td>\n",
       "      <td>17</td>\n",
       "      <td>1</td>\n",
       "      <td>0</td>\n",
       "      <td>0</td>\n",
       "      <td>3.169925</td>\n",
       "      <td>0</td>\n",
       "      <td>0</td>\n",
       "      <td>0</td>\n",
       "      <td>0</td>\n",
       "      <td>...</td>\n",
       "      <td>2</td>\n",
       "      <td>4</td>\n",
       "      <td>0</td>\n",
       "      <td>5</td>\n",
       "      <td>562</td>\n",
       "      <td>5</td>\n",
       "      <td>0</td>\n",
       "      <td>9974</td>\n",
       "      <td>16100000</td>\n",
       "      <td>0</td>\n",
       "    </tr>\n",
       "    <tr>\n",
       "      <th>3</th>\n",
       "      <td>http://farmerregistry.co.in</td>\n",
       "      <td>27</td>\n",
       "      <td>2</td>\n",
       "      <td>0</td>\n",
       "      <td>0</td>\n",
       "      <td>3.621928</td>\n",
       "      <td>0</td>\n",
       "      <td>14</td>\n",
       "      <td>0</td>\n",
       "      <td>0</td>\n",
       "      <td>...</td>\n",
       "      <td>0</td>\n",
       "      <td>0</td>\n",
       "      <td>0</td>\n",
       "      <td>0</td>\n",
       "      <td>0</td>\n",
       "      <td>0</td>\n",
       "      <td>0</td>\n",
       "      <td>6021</td>\n",
       "      <td>10000000</td>\n",
       "      <td>0</td>\n",
       "    </tr>\n",
       "    <tr>\n",
       "      <th>4</th>\n",
       "      <td>https://mediacombb-100205.weeblysite.com/</td>\n",
       "      <td>41</td>\n",
       "      <td>2</td>\n",
       "      <td>0</td>\n",
       "      <td>1</td>\n",
       "      <td>4.054229</td>\n",
       "      <td>0</td>\n",
       "      <td>17</td>\n",
       "      <td>1</td>\n",
       "      <td>1</td>\n",
       "      <td>...</td>\n",
       "      <td>0</td>\n",
       "      <td>0</td>\n",
       "      <td>0</td>\n",
       "      <td>0</td>\n",
       "      <td>0</td>\n",
       "      <td>0</td>\n",
       "      <td>0</td>\n",
       "      <td>6029</td>\n",
       "      <td>10000000</td>\n",
       "      <td>1</td>\n",
       "    </tr>\n",
       "    <tr>\n",
       "      <th>...</th>\n",
       "      <td>...</td>\n",
       "      <td>...</td>\n",
       "      <td>...</td>\n",
       "      <td>...</td>\n",
       "      <td>...</td>\n",
       "      <td>...</td>\n",
       "      <td>...</td>\n",
       "      <td>...</td>\n",
       "      <td>...</td>\n",
       "      <td>...</td>\n",
       "      <td>...</td>\n",
       "      <td>...</td>\n",
       "      <td>...</td>\n",
       "      <td>...</td>\n",
       "      <td>...</td>\n",
       "      <td>...</td>\n",
       "      <td>...</td>\n",
       "      <td>...</td>\n",
       "      <td>...</td>\n",
       "      <td>...</td>\n",
       "      <td>...</td>\n",
       "    </tr>\n",
       "    <tr>\n",
       "      <th>2740</th>\n",
       "      <td>https://americasbps.com</td>\n",
       "      <td>23</td>\n",
       "      <td>1</td>\n",
       "      <td>0</td>\n",
       "      <td>0</td>\n",
       "      <td>3.373557</td>\n",
       "      <td>0</td>\n",
       "      <td>0</td>\n",
       "      <td>0</td>\n",
       "      <td>0</td>\n",
       "      <td>...</td>\n",
       "      <td>0</td>\n",
       "      <td>0</td>\n",
       "      <td>0</td>\n",
       "      <td>0</td>\n",
       "      <td>0</td>\n",
       "      <td>7</td>\n",
       "      <td>0</td>\n",
       "      <td>6234</td>\n",
       "      <td>10000000</td>\n",
       "      <td>0</td>\n",
       "    </tr>\n",
       "    <tr>\n",
       "      <th>2741</th>\n",
       "      <td>https://9k6688.vip</td>\n",
       "      <td>18</td>\n",
       "      <td>1</td>\n",
       "      <td>0</td>\n",
       "      <td>0</td>\n",
       "      <td>2.921928</td>\n",
       "      <td>0</td>\n",
       "      <td>0</td>\n",
       "      <td>0</td>\n",
       "      <td>0</td>\n",
       "      <td>...</td>\n",
       "      <td>0</td>\n",
       "      <td>0</td>\n",
       "      <td>0</td>\n",
       "      <td>0</td>\n",
       "      <td>0</td>\n",
       "      <td>0</td>\n",
       "      <td>0</td>\n",
       "      <td>6067</td>\n",
       "      <td>10000000</td>\n",
       "      <td>0</td>\n",
       "    </tr>\n",
       "    <tr>\n",
       "      <th>2742</th>\n",
       "      <td>https://sites.google.com/view/attnewestforu/home</td>\n",
       "      <td>48</td>\n",
       "      <td>2</td>\n",
       "      <td>0</td>\n",
       "      <td>0</td>\n",
       "      <td>3.202820</td>\n",
       "      <td>0</td>\n",
       "      <td>5</td>\n",
       "      <td>0</td>\n",
       "      <td>0</td>\n",
       "      <td>...</td>\n",
       "      <td>0</td>\n",
       "      <td>0</td>\n",
       "      <td>0</td>\n",
       "      <td>0</td>\n",
       "      <td>0</td>\n",
       "      <td>0</td>\n",
       "      <td>0</td>\n",
       "      <td>6186</td>\n",
       "      <td>10000000</td>\n",
       "      <td>1</td>\n",
       "    </tr>\n",
       "    <tr>\n",
       "      <th>2743</th>\n",
       "      <td>https://bemytravelmuse.com</td>\n",
       "      <td>26</td>\n",
       "      <td>1</td>\n",
       "      <td>0</td>\n",
       "      <td>0</td>\n",
       "      <td>3.641604</td>\n",
       "      <td>0</td>\n",
       "      <td>0</td>\n",
       "      <td>0</td>\n",
       "      <td>0</td>\n",
       "      <td>...</td>\n",
       "      <td>0</td>\n",
       "      <td>0</td>\n",
       "      <td>0</td>\n",
       "      <td>0</td>\n",
       "      <td>0</td>\n",
       "      <td>4</td>\n",
       "      <td>0</td>\n",
       "      <td>7017</td>\n",
       "      <td>10000000</td>\n",
       "      <td>0</td>\n",
       "    </tr>\n",
       "    <tr>\n",
       "      <th>2744</th>\n",
       "      <td>https://1xbet059727.top</td>\n",
       "      <td>23</td>\n",
       "      <td>1</td>\n",
       "      <td>0</td>\n",
       "      <td>0</td>\n",
       "      <td>3.640224</td>\n",
       "      <td>0</td>\n",
       "      <td>0</td>\n",
       "      <td>0</td>\n",
       "      <td>0</td>\n",
       "      <td>...</td>\n",
       "      <td>0</td>\n",
       "      <td>0</td>\n",
       "      <td>0</td>\n",
       "      <td>0</td>\n",
       "      <td>0</td>\n",
       "      <td>0</td>\n",
       "      <td>0</td>\n",
       "      <td>7181</td>\n",
       "      <td>10000000</td>\n",
       "      <td>0</td>\n",
       "    </tr>\n",
       "  </tbody>\n",
       "</table>\n",
       "<p>2745 rows × 22 columns</p>\n",
       "</div>"
      ],
      "text/plain": [
       "                                                   url  url_length  dot_count  \\\n",
       "0                               https://bit.ly/3C67RTD          22          1   \n",
       "1               https://prod-rd-10040.firebaseapp.com/          38          2   \n",
       "2                                    https://blues.org          17          1   \n",
       "3                          http://farmerregistry.co.in          27          2   \n",
       "4            https://mediacombb-100205.weeblysite.com/          41          2   \n",
       "...                                                ...         ...        ...   \n",
       "2740                           https://americasbps.com          23          1   \n",
       "2741                                https://9k6688.vip          18          1   \n",
       "2742  https://sites.google.com/view/attnewestforu/home          48          2   \n",
       "2743                        https://bemytravelmuse.com          26          1   \n",
       "2744                           https://1xbet059727.top          23          1   \n",
       "\n",
       "      has_at  special_char_count   entropy  suspicious_keywords  \\\n",
       "0          0                   0  2.584963                    0   \n",
       "1          0                   2  3.952303                    0   \n",
       "2          0                   0  3.169925                    0   \n",
       "3          0                   0  3.621928                    0   \n",
       "4          0                   1  4.054229                    0   \n",
       "...      ...                 ...       ...                  ...   \n",
       "2740       0                   0  3.373557                    0   \n",
       "2741       0                   0  2.921928                    0   \n",
       "2742       0                   0  3.202820                    0   \n",
       "2743       0                   0  3.641604                    0   \n",
       "2744       0                   0  3.640224                    0   \n",
       "\n",
       "      subdomain_length  is_free_hosting  has_hyphen  ...  fetchCount  \\\n",
       "0                    0                0           0  ...           0   \n",
       "1                   13                0           1  ...           0   \n",
       "2                    0                0           0  ...           2   \n",
       "3                   14                0           0  ...           0   \n",
       "4                   17                1           1  ...           0   \n",
       "...                ...              ...         ...  ...         ...   \n",
       "2740                 0                0           0  ...           0   \n",
       "2741                 0                0           0  ...           0   \n",
       "2742                 5                0           0  ...           0   \n",
       "2743                 0                0           0  ...           0   \n",
       "2744                 0                0           0  ...           0   \n",
       "\n",
       "      xhrCount  wsCount  scriptInjectionCount  eventListenerCount  \\\n",
       "0            0        0                     0                   0   \n",
       "1            2        0                     2                 143   \n",
       "2            4        0                     5                 562   \n",
       "3            0        0                     0                   0   \n",
       "4            0        0                     0                   0   \n",
       "...        ...      ...                   ...                 ...   \n",
       "2740         0        0                     0                   0   \n",
       "2741         0        0                     0                   0   \n",
       "2742         0        0                     0                   0   \n",
       "2743         0        0                     0                   0   \n",
       "2744         0        0                     0                   0   \n",
       "\n",
       "      domMutationCount  attributeMutationCount  pageLoadTime  memoryUsed  \\\n",
       "0                    0                       0          6122    10000000   \n",
       "1                    0                       0          6437    19300000   \n",
       "2                    5                       0          9974    16100000   \n",
       "3                    0                       0          6021    10000000   \n",
       "4                    0                       0          6029    10000000   \n",
       "...                ...                     ...           ...         ...   \n",
       "2740                 7                       0          6234    10000000   \n",
       "2741                 0                       0          6067    10000000   \n",
       "2742                 0                       0          6186    10000000   \n",
       "2743                 4                       0          7017    10000000   \n",
       "2744                 0                       0          7181    10000000   \n",
       "\n",
       "      label  \n",
       "0         1  \n",
       "1         1  \n",
       "2         0  \n",
       "3         0  \n",
       "4         1  \n",
       "...     ...  \n",
       "2740      0  \n",
       "2741      0  \n",
       "2742      1  \n",
       "2743      0  \n",
       "2744      0  \n",
       "\n",
       "[2745 rows x 22 columns]"
      ]
     },
     "execution_count": 259,
     "metadata": {},
     "output_type": "execute_result"
    }
   ],
   "source": [
    "df"
   ]
  },
  {
   "cell_type": "markdown",
   "id": "6bc96444-ef38-475e-9ab1-6259c2fba235",
   "metadata": {},
   "source": [
    "### 1. Optimize n_estimators via OOB error"
   ]
  },
  {
   "cell_type": "code",
   "execution_count": 260,
   "id": "2289f8f1-d1fe-4b66-b474-c2c08f3f2b44",
   "metadata": {},
   "outputs": [
    {
     "name": "stderr",
     "output_type": "stream",
     "text": [
      "/opt/anaconda3/envs/TaskLighthouseENV/lib/python3.9/site-packages/sklearn/ensemble/_forest.py:612: UserWarning: Some inputs do not have OOB scores. This probably means too few trees were used to compute any reliable OOB estimates.\n",
      "  warn(\n"
     ]
    }
   ],
   "source": [
    "tree_range = list(range(10, 301, 10))\n",
    "oob_errors = []\n",
    "for n in tree_range:\n",
    "    rf = RandomForestClassifier(n_estimators=n, oob_score=True, n_jobs=-1, random_state=42)\n",
    "    rf.fit(X, y)\n",
    "    oob_errors.append(1 - rf.oob_score_)"
   ]
  },
  {
   "cell_type": "code",
   "execution_count": 261,
   "id": "7bed8d3d-56d0-4ee5-a66b-ed99615d070b",
   "metadata": {},
   "outputs": [
    {
     "name": "stdout",
     "output_type": "stream",
     "text": [
      "label\n",
      "0    1680\n",
      "1    1065\n",
      "Name: count, dtype: int64\n"
     ]
    }
   ],
   "source": [
    "# verify labels\n",
    "print(y.value_counts())\n"
   ]
  },
  {
   "cell_type": "markdown",
   "id": "3de529c5-ab86-48ca-8e99-efe493bbdab2",
   "metadata": {},
   "source": [
    "draw the data"
   ]
  },
  {
   "cell_type": "code",
   "execution_count": 268,
   "id": "22e9e815-1034-43a3-86d8-7387e85f7bc9",
   "metadata": {},
   "outputs": [],
   "source": [
    "# min_error = min(oob_errors)\n",
    "# tolerance = 0.005  # Acceptable margin from minimum\n",
    "\n",
    "# # Find the number of trees which it's error tends to be stable and close to the minimum \n",
    "# # by defining a sliding window size and approve that every point in that tree slice must be at most tolerance worse \n",
    "# #than the best error ever seen.\n",
    "# window_size = 10\n",
    "\n",
    "# # Find the first region near the minimum that is stable\n",
    "# best_n = tree_range[-1]  # fallback to max n\n",
    "# for i in range(len(oob_errors) - window_size + 1):\n",
    "#     window = oob_errors[i:i + window_size]\n",
    "#     if (np.max(window) - min_error <= tolerance):\n",
    "#         best_n = tree_range[i + window_size - 1]\n",
    "#         break\n",
    "        \n",
    "# plt.figure()\n",
    "# plt.plot(tree_range, oob_errors, label=\"OOB Error\")\n",
    "# plt.axvline(best_n, color='red', linestyle='--', label=f\"Selected n = {best_n}\")\n",
    "# plt.title(\"OOB Error vs. Number of Trees\")\n",
    "# plt.xlabel(\"Number of Trees\")\n",
    "# plt.ylabel(\"OOB Error\")\n",
    "# plt.legend()\n",
    "# plt.show()"
   ]
  },
  {
   "cell_type": "code",
   "execution_count": 269,
   "id": "eedc8f18-0d6b-42e8-9159-82262970ff76",
   "metadata": {},
   "outputs": [],
   "source": [
    "# best_n"
   ]
  },
  {
   "cell_type": "code",
   "execution_count": 270,
   "id": "704500f7-4f97-4b2c-a753-513b8ec8e9fc",
   "metadata": {},
   "outputs": [],
   "source": [
    "# oob_errors[tree_range.index(best_n)]"
   ]
  },
  {
   "cell_type": "code",
   "execution_count": 302,
   "id": "82b163cd-fc4f-4b5e-99c5-b716386543d2",
   "metadata": {},
   "outputs": [
    {
     "data": {
      "image/png": "[encoded data removed]",
      "text/plain": [
       "<Figure size 600x400 with 1 Axes>"
      ]
     },
     "metadata": {},
     "output_type": "display_data"
    }
   ],
   "source": [
    "# find the global minimum\n",
    "best_idx = np.argmin(oob_errors)\n",
    "best_n = tree_range[best_idx]\n",
    "        \n",
    "plt.figure(figsize=(6, 4))\n",
    "plt.plot(tree_range, oob_errors, label=\"OOB Error\")\n",
    "plt.axvline(best_n, color='red', linestyle='--', label=f\"Selected n = {best_n}\")\n",
    "plt.grid(True, linestyle='--', alpha=0.5)\n",
    "plt.title(\"OOB Error vs. Number of Trees\")\n",
    "plt.xlabel(\"Number of Trees\")\n",
    "plt.ylabel(\"OOB Error\")\n",
    "plt.legend()\n",
    "plt.show()"
   ]
  },
  {
   "cell_type": "code",
   "execution_count": 272,
   "id": "3ebd219a-6c23-4cca-953e-8f27ff07e6db",
   "metadata": {},
   "outputs": [
    {
     "data": {
      "text/plain": [
       "40"
      ]
     },
     "execution_count": 272,
     "metadata": {},
     "output_type": "execute_result"
    }
   ],
   "source": [
    "best_n"
   ]
  },
  {
   "cell_type": "code",
   "execution_count": 273,
   "id": "f6896523-6e58-4157-9c94-95f0c9df2226",
   "metadata": {},
   "outputs": [
    {
     "data": {
      "text/plain": [
       "0.020765027322404372"
      ]
     },
     "execution_count": 273,
     "metadata": {},
     "output_type": "execute_result"
    }
   ],
   "source": [
    "oob_errors[tree_range.index(best_n)]"
   ]
  },
  {
   "cell_type": "markdown",
   "id": "ba2137f4-eefa-4fd9-803f-9c7bf50e59f9",
   "metadata": {},
   "source": [
    "### 2. Feature importances"
   ]
  },
  {
   "cell_type": "markdown",
   "id": "0097c895-1a86-4ff2-b676-8249cb4cd1ea",
   "metadata": {},
   "source": [
    " Find out the most informative features"
   ]
  },
  {
   "cell_type": "code",
   "execution_count": 274,
   "id": "11fd575b-2dfd-42a4-a4a6-85b9ef32f0f9",
   "metadata": {},
   "outputs": [],
   "source": [
    "# calculate the importance score of each feature based on the informationgain\n",
    "rf_sel = RandomForestClassifier(n_estimators=best_n, n_jobs=-1, random_state=42)\n",
    "rf_sel.fit(X, y)\n",
    "importances = rf_sel.feature_importances_\n",
    "indices = np.argsort(importances)[::-1]"
   ]
  },
  {
   "cell_type": "markdown",
   "id": "81b0e5a9-8202-4619-a093-04b1d2dce615",
   "metadata": {},
   "source": [
    "Draw the data"
   ]
  },
  {
   "cell_type": "code",
   "execution_count": 275,
   "id": "441ce7c1-04c2-44fb-81fb-5fc6b467c16e",
   "metadata": {},
   "outputs": [
    {
     "data": {
      "image/png": "[encoded data removed]",
      "text/plain": [
       "<Figure size 640x480 with 1 Axes>"
      ]
     },
     "metadata": {},
     "output_type": "display_data"
    }
   ],
   "source": [
    "top_n = 20\n",
    "plt.figure()\n",
    "plt.bar(range(top_n), importances[indices][:top_n])\n",
    "plt.xticks(range(top_n), [X.columns[i] for i in indices[:top_n]], rotation=90)\n",
    "plt.title(\"Top 20 Feature Importances\")\n",
    "plt.xlabel(\"Feature\")\n",
    "plt.ylabel(\"Importance\")\n",
    "plt.tight_layout()\n",
    "plt.show()"
   ]
  },
  {
   "cell_type": "markdown",
   "id": "91ff2fd3-ff39-4a35-8f12-95608ce5ab9f",
   "metadata": {},
   "source": [
    "### 3. Feature Selection"
   ]
  },
  {
   "cell_type": "markdown",
   "id": "888878c5-efa7-4fc4-a72d-28bab7324a0f",
   "metadata": {},
   "source": [
    "### 3.1. Eliminate by feature–feature correlations"
   ]
  },
  {
   "cell_type": "code",
   "execution_count": 276,
   "id": "d14bfc64-82fd-4ff7-a22e-b68f1bb2cf4f",
   "metadata": {},
   "outputs": [
    {
     "name": "stdout",
     "output_type": "stream",
     "text": [
      "Feature pairs with |r| bigger then 0.8:\n",
      "\n",
      "* feature url_length           is highly correlated with special_char_count   : r = 0.923\n",
      "* feature suspicious_keywords  is highly correlated with is_ip                : r = 0.838\n"
     ]
    }
   ],
   "source": [
    "corr = X.corr().abs() # correlation matrix\n",
    "\n",
    "upper = corr.where(np.triu(np.ones(corr.shape), k=1).astype(bool))\n",
    "\n",
    "# Find index pairs where correlation bigger then 0.8\n",
    "high_corr_pairs = [\n",
    "    (upper.columns[i], upper.columns[j], upper.iat[i, j])\n",
    "    for i in range(len(upper.columns))\n",
    "    for j in range(i+1, len(upper.columns))\n",
    "    if upper.iat[i, j] >= 0.8\n",
    "]\n",
    "\n",
    "print(\"Feature pairs with |r| bigger then 0.8:\\n\")\n",
    "for f1, f2, r in high_corr_pairs:\n",
    "    print(f\"* feature {f1:20s} is highly correlated with {f2:20s} : r = {r:.3f}\")\n"
   ]
  },
  {
   "cell_type": "markdown",
   "id": "517b7912-2f37-41fd-9b09-86f3e1db2c8c",
   "metadata": {},
   "source": [
    "1) We will drop special_char_count sing we have already seen that url_length is the 1st importance feature, so special_char_count adds almost no new information.\n",
    "2) We will drop the is_ip since normaly rarely an IP-based URL also contains suspicious words (two ways to catch anomalies in the host). suspicious_keywords has a bit higher importance then is_ip."
   ]
  },
  {
   "cell_type": "markdown",
   "id": "3912fc14-7429-4f13-b740-8c5da1db8d1e",
   "metadata": {},
   "source": [
    "#### Drop correlated columns"
   ]
  },
  {
   "cell_type": "code",
   "execution_count": 281,
   "id": "8255ca5e-139d-460e-ba66-322b82d1077a",
   "metadata": {},
   "outputs": [],
   "source": [
    "to_drop = [\"special_char_count\", \"is_ip\"]\n",
    "X_reduced = X.drop(columns=to_drop)\n",
    "\n",
    "# Retain all features ordered by importance\n",
    "orig_order = [X.columns[i] for i in indices]\n",
    "ordered_feats = [f for f in orig_order if f in X_reduced.columns]"
   ]
  },
  {
   "cell_type": "markdown",
   "id": "eb8ccbfa-a608-4848-b90f-6e5509bdd565",
   "metadata": {},
   "source": [
    "### 3.2 Wrapper-Based Feature Selection"
   ]
  },
  {
   "cell_type": "markdown",
   "id": "e4400d7d-7ea1-46a6-bd5f-775355a6769a",
   "metadata": {},
   "source": [
    "We care about making the TPR >= 0.98 and minimizing the FPR.\n",
    "We want to choose the smallest feature‐set that minimizes false alerts under this recall constraint ensuring that the vast majority of phishing attempts are correctly identified.\n",
    "So for each k, we compute the ROC curve and find the FPR at the point where TPR ≥ 0.98 to return the k where FPR is the lowest."
   ]
  },
  {
   "cell_type": "markdown",
   "id": "8a7328bf-2e1b-40ec-a332-677875b6b04c",
   "metadata": {},
   "source": [
    "Build models on the top k features for k = 1…N and cross‐validate each k"
   ]
  },
  {
   "cell_type": "code",
   "execution_count": 293,
   "id": "c8a09349-a44f-4635-ada1-b3bf8189f7d2",
   "metadata": {},
   "outputs": [],
   "source": [
    "# Define number of features to evaluate\n",
    "ks = list(range(1, len(ordered_feats) + 1))\n",
    "\n",
    "skf = StratifiedKFold(n_splits=5, shuffle=True, random_state=42)\n",
    "results = []\n",
    "\n",
    "for k in ks:\n",
    "    feats = ordered_feats[:k] \n",
    "    oof_true, oof_prob = [], []  # Collect out-of-fold labels and predicted probabilities\n",
    "\n",
    "    for tr_idx, te_idx in skf.split(X_reduced[feats], y):\n",
    "        clf = RandomForestClassifier(n_estimators=best_n, random_state=42)\n",
    "        clf.fit(X_reduced.iloc[tr_idx][feats], y[tr_idx])\n",
    "        probs = clf.predict_proba(X_reduced.iloc[te_idx][feats])[:, 1]\n",
    "\n",
    "        oof_true.extend(y[te_idx])\n",
    "        oof_prob.extend(probs)\n",
    "\n",
    "    # Compute ROC curve for all predictions\n",
    "    fpr, tpr, thresholds = roc_curve(oof_true, oof_prob)\n",
    "\n",
    "    # Find first threshold where TPR ≥ 98%\n",
    "    idx98 = np.argmax(tpr >= 0.98)\n",
    "    threshold_98 = thresholds[idx98]\n",
    "    fpr_98 = fpr[idx98]\n",
    "\n",
    "    results.append((k, threshold_98, fpr_98))\n",
    "\n",
    "best_k, best_thr, best_fpr = min(results, key=lambda x: x[2])"
   ]
  },
  {
   "cell_type": "markdown",
   "id": "068f159c-73e8-473e-9861-55587fa2aa4b",
   "metadata": {},
   "source": [
    "Draw the data"
   ]
  },
  {
   "cell_type": "code",
   "execution_count": 301,
   "id": "51e0eec6-9265-4863-a54b-60dd9ed6c66c",
   "metadata": {},
   "outputs": [
    {
     "data": {
      "image/png": "[encoded data removed]",
      "text/plain": [
       "<Figure size 600x400 with 1 Axes>"
      ]
     },
     "metadata": {},
     "output_type": "display_data"
    }
   ],
   "source": [
    "ks, thresholds, fprs = zip(*results)\n",
    "\n",
    "plt.figure(figsize=(6, 4))\n",
    "plt.plot(ks, fprs, marker='o', color='royalblue', label=\"FPR where TPR at least 98%\")\n",
    "plt.axvline(best_k, color='red', linestyle='--', label=f\"Selected k = {best_k}\")\n",
    "plt.title(\"FPR vs. Number of Selected Features\\nWhere TPR At Least 98%\")\n",
    "plt.xlabel(\"Number of Features (k)\")\n",
    "plt.ylabel(\"False Positive Rate (FPR)\")\n",
    "plt.ylim(0, max(fprs)*1.1)\n",
    "plt.xticks(ks)\n",
    "plt.grid(True, linestyle='--', alpha=0.5)\n",
    "plt.legend()\n",
    "plt.tight_layout()\n",
    "plt.show()"
   ]
  },
  {
   "cell_type": "markdown",
   "id": "9f7fd041-83e6-447e-b98e-2afbcb9326c9",
   "metadata": {},
   "source": [
    "We Choose the smallest k whose FPR where TPR-98% is the lowest."
   ]
  },
  {
   "cell_type": "code",
   "execution_count": 295,
   "id": "06e5ab7b-f966-40bd-8e1b-33008385fa4f",
   "metadata": {},
   "outputs": [
    {
     "name": "stdout",
     "output_type": "stream",
     "text": [
      "Selected k = 7 features\n",
      "Threshold achieving TPR at least 98% : 0.325\n",
      "corresponding FPR: 0.021\n"
     ]
    }
   ],
   "source": [
    "print(f\"Selected k = {best_k} features\")\n",
    "print(f\"Threshold achieving TPR at least 98% : {best_thr:.3f}\")\n",
    "print(f\"corresponding FPR: {best_fpr:.3f}\")"
   ]
  },
  {
   "cell_type": "markdown",
   "id": "8c0349e8-1e8d-4907-855c-41dac1eb7589",
   "metadata": {},
   "source": [
    "<!-- ### 3.2. Select Features by MAE -->"
   ]
  },
  {
   "cell_type": "markdown",
   "id": "fe01fb62-3d32-4d85-84b8-e41f147d1d70",
   "metadata": {},
   "source": [
    "<!-- We will select the features involved in the classifier producing the lowest mean absolute error (MAE). -->"
   ]
  },
  {
   "cell_type": "markdown",
   "id": "8b0a4a8a-93a1-4391-86cd-6e84c3d71041",
   "metadata": {},
   "source": [
    "<!-- #### MAE vs number of selected features -->"
   ]
  },
  {
   "cell_type": "code",
   "execution_count": 236,
   "id": "5267942b-c2ce-4c24-bb31-d701468d60cd",
   "metadata": {},
   "outputs": [],
   "source": [
    "# plt.figure()\n",
    "# plt.plot(ks, mae_scores)\n",
    "# plt.title(\"MAE vs. Number of Features\")\n",
    "# plt.xlabel(\"Number of Selected Features\")\n",
    "# plt.ylabel(\"MAE\")\n",
    "# plt.show()"
   ]
  },
  {
   "cell_type": "code",
   "execution_count": 237,
   "id": "5ae89578-7ac2-4503-8a62-9cb4688d514d",
   "metadata": {},
   "outputs": [],
   "source": [
    "# best_k = ks[np.argmin(mae_scores)]\n",
    "# best_k"
   ]
  },
  {
   "cell_type": "markdown",
   "id": "462cfc23-6ae2-456d-8b47-a2603eebc6b5",
   "metadata": {},
   "source": [
    "<!-- MAE minimises if 4 features are considered in the subset. Meaning that if we will select more then 4 features for the classification,\n",
    "MAE will not decrease significantly.  -->"
   ]
  },
  {
   "cell_type": "markdown",
   "id": "6d9cbeae-ad52-42c4-b752-6f8a75b8c4d5",
   "metadata": {},
   "source": [
    "#### Select the optimal subset among 20 features."
   ]
  },
  {
   "cell_type": "code",
   "execution_count": 285,
   "id": "cf6be17a-ccf6-4dda-b8eb-13d7f84f2687",
   "metadata": {},
   "outputs": [
    {
     "name": "stdout",
     "output_type": "stream",
     "text": [
      "selected_features:  ['url_length', 'entropy', 'subdomain_length', 'pageLoadTime', 'dot_count', 'eventListenerCount', 'memoryUsed']\n"
     ]
    }
   ],
   "source": [
    "selected_features = ordered_feats[:best_k]\n",
    "print(\"selected_features: \", selected_features)\n",
    "\n",
    "X_sel = X_reduced[selected_features]"
   ]
  },
  {
   "cell_type": "markdown",
   "id": "213c4134-7f33-4ace-96d6-676fff6a18e8",
   "metadata": {},
   "source": [
    "### 4. ROC curve using the final selected features and model"
   ]
  },
  {
   "cell_type": "markdown",
   "id": "dae92809-e116-4d34-b407-0b18a4f391c8",
   "metadata": {},
   "source": [
    "We will check the usage of different thresholds from 0 to 1 since different threshold for classification can\n",
    "lead to different performance of the classifier. \n",
    "ROC curve will be used for evaluation of the effectiveness of each threshold, comparing false positive (FP) rate versus \n",
    "truepositive (TP) rate across a range of thresholds."
   ]
  },
  {
   "cell_type": "markdown",
   "id": "53f5b620-6cc2-4b2f-bccc-abe185ab7d6b",
   "metadata": {},
   "source": [
    "Decided to use 5-folds for evaluation"
   ]
  },
  {
   "cell_type": "code",
   "execution_count": 305,
   "id": "2fd2570b-9159-428d-afe6-cb6265a511a9",
   "metadata": {},
   "outputs": [],
   "source": [
    "feats = ordered_feats[:best_k]\n",
    "skf = StratifiedKFold(n_splits=5, shuffle=True, random_state=42)\n",
    "oof_true, oof_prob = [], []"
   ]
  },
  {
   "cell_type": "code",
   "execution_count": 306,
   "id": "9227a8b2-9cf5-4846-8fca-08f2d53beb0d",
   "metadata": {},
   "outputs": [],
   "source": [
    "for tr_idx, te_idx in skf.split(X_sel[feats], y):\n",
    "    clf = RandomForestClassifier(n_estimators=best_n, random_state=42)\n",
    "    clf.fit(X_sel.iloc[tr_idx][feats], y[tr_idx])\n",
    "    probs = clf.predict_proba(X_sel.iloc[te_idx][feats])[:, 1]\n",
    "    oof_true.extend(y[te_idx])\n",
    "    oof_prob.extend(probs)\n",
    "\n",
    "# Plot the ROC curve\n",
    "fpr_arr, tpr_arr, thr_arr = roc_curve(oof_true, oof_prob)"
   ]
  },
  {
   "cell_type": "code",
   "execution_count": 307,
   "id": "6eaaa98d-93e2-4900-a4da-bde1476a8fdb",
   "metadata": {},
   "outputs": [
    {
     "data": {
      "image/png": "[encoded data removed]",
      "text/plain": [
       "<Figure size 600x400 with 1 Axes>"
      ]
     },
     "metadata": {},
     "output_type": "display_data"
    }
   ],
   "source": [
    "plt.figure(figsize=(6, 4))\n",
    "plt.plot(fpr_arr, tpr_arr, label=\"ROC Curve\")\n",
    "plt.xlabel(\"False Positive Rate\")\n",
    "plt.ylabel(\"True Positive Rate\")\n",
    "plt.title(\"ROC Curve on Final Selected Features\")\n",
    "plt.legend()\n",
    "plt.show()"
   ]
  },
  {
   "cell_type": "code",
   "execution_count": 308,
   "id": "03f39ada-40a3-48da-86d7-9f72ae56ac11",
   "metadata": {},
   "outputs": [
    {
     "name": "stdout",
     "output_type": "stream",
     "text": [
      "Optimal threshold:  0.325\n"
     ]
    }
   ],
   "source": [
    "print(\"Optimal threshold: \", best_thr)"
   ]
  },
  {
   "cell_type": "markdown",
   "id": "d27701df-b1b4-4f05-a833-cb024d716777",
   "metadata": {},
   "source": [
    "### 5. Final Cross-Validated Evaluation (Fixed Features & Threshold)"
   ]
  },
  {
   "cell_type": "markdown",
   "id": "72f8ee83-616e-4612-a7e9-195590a46041",
   "metadata": {},
   "source": [
    "Decided to use 5-folds for evaluation"
   ]
  },
  {
   "cell_type": "code",
   "execution_count": 312,
   "id": "23425334-13fe-4927-b1d0-dd970cbbec52",
   "metadata": {},
   "outputs": [],
   "source": [
    "skf = StratifiedKFold(n_splits=5, shuffle=True, random_state=42)\n",
    "\n",
    "precisions = []\n",
    "recalls = []\n",
    "f1s = []\n",
    "fprs = []\n",
    "tprs = []\n",
    "\n",
    "for train_idx, test_idx in skf.split(X_sel, y):\n",
    "    X_train, X_test = X_sel.iloc[train_idx], X_sel.iloc[test_idx]\n",
    "    y_train, y_test = y.iloc[train_idx], y.iloc[test_idx]\n",
    "\n",
    "    model = RandomForestClassifier(n_estimators=best_n, random_state=42)\n",
    "    model.fit(X_train, y_train)\n",
    "\n",
    "    y_probs = model.predict_proba(X_test)[:, 1]\n",
    "    y_pred = (y_probs >= best_thr).astype(int)\n",
    "\n",
    "    cm = confusion_matrix(y_test, y_pred)\n",
    "    tp, fn, fp, tn = cm[1,1], cm[1,0], cm[0,1], cm[0,0]\n",
    "\n",
    "    precisions.append(precision_score(y_test, y_pred))\n",
    "    recalls.append(recall_score(y_test, y_pred))\n",
    "    f1s.append(f1_score(y_test, y_pred))\n",
    "    tprs.append(tp / (tp + fn))\n",
    "    fprs.append(fp / (fp + tn))"
   ]
  },
  {
   "cell_type": "code",
   "execution_count": 313,
   "id": "12b9cf5c-9f5e-43f5-bab2-2926375316ae",
   "metadata": {},
   "outputs": [
    {
     "name": "stdout",
     "output_type": "stream",
     "text": [
      "Cross-Validation Performance:\n",
      "\n",
      "Precision: 0.9677\n",
      "Recall (TPR): 0.9803\n",
      "False Positive Rate (FPR): 0.0208\n",
      "F1 Score: 0.9739\n"
     ]
    }
   ],
   "source": [
    "# Print mean scores\n",
    "print(\"Cross-Validation Performance:\\n\")\n",
    "print(f\"Precision: {np.mean(precisions):.4f}\")\n",
    "print(f\"Recall (TPR): {np.mean(tprs):.4f}\")\n",
    "print(f\"False Positive Rate (FPR): {np.mean(fprs):.4f}\")\n",
    "print(f\"F1 Score: {np.mean(f1s):.4f}\")"
   ]
  },
  {
   "cell_type": "markdown",
   "id": "cb457737-99bf-41ed-967b-e0e4e70ca386",
   "metadata": {},
   "source": [
    "## DELETE AFTER: Export the model to the extension!!"
   ]
  },
  {
   "cell_type": "markdown",
   "id": "b927d0ce-4988-4b85-b722-d74dc405572b",
   "metadata": {},
   "source": [
    "## Train the final model"
   ]
  },
  {
   "cell_type": "code",
   "execution_count": 311,
   "id": "8ebb9780-ee2b-472e-9e52-11c323a65b66",
   "metadata": {},
   "outputs": [
    {
     "data": {
      "text/html": [
       "<style>#sk-container-id-1 {\n",
       "  /* Definition of color scheme common for light and dark mode */\n",
       "  --sklearn-color-text: #000;\n",
       "  --sklearn-color-text-muted: #666;\n",
       "  --sklearn-color-line: gray;\n",
       "  /* Definition of color scheme for unfitted estimators */\n",
       "  --sklearn-color-unfitted-level-0: #fff5e6;\n",
       "  --sklearn-color-unfitted-level-1: #f6e4d2;\n",
       "  --sklearn-color-unfitted-level-2: #ffe0b3;\n",
       "  --sklearn-color-unfitted-level-3: chocolate;\n",
       "  /* Definition of color scheme for fitted estimators */\n",
       "  --sklearn-color-fitted-level-0: #f0f8ff;\n",
       "  --sklearn-color-fitted-level-1: #d4ebff;\n",
       "  --sklearn-color-fitted-level-2: #b3dbfd;\n",
       "  --sklearn-color-fitted-level-3: cornflowerblue;\n",
       "\n",
       "  /* Specific color for light theme */\n",
       "  --sklearn-color-text-on-default-background: var(--sg-text-color, var(--theme-code-foreground, var(--jp-content-font-color1, black)));\n",
       "  --sklearn-color-background: var(--sg-background-color, var(--theme-background, var(--jp-layout-color0, white)));\n",
       "  --sklearn-color-border-box: var(--sg-text-color, var(--theme-code-foreground, var(--jp-content-font-color1, black)));\n",
       "  --sklearn-color-icon: #696969;\n",
       "\n",
       "  @media (prefers-color-scheme: dark) {\n",
       "    /* Redefinition of color scheme for dark theme */\n",
       "    --sklearn-color-text-on-default-background: var(--sg-text-color, var(--theme-code-foreground, var(--jp-content-font-color1, white)));\n",
       "    --sklearn-color-background: var(--sg-background-color, var(--theme-background, var(--jp-layout-color0, #111)));\n",
       "    --sklearn-color-border-box: var(--sg-text-color, var(--theme-code-foreground, var(--jp-content-font-color1, white)));\n",
       "    --sklearn-color-icon: #878787;\n",
       "  }\n",
       "}\n",
       "\n",
       "#sk-container-id-1 {\n",
       "  color: var(--sklearn-color-text);\n",
       "}\n",
       "\n",
       "#sk-container-id-1 pre {\n",
       "  padding: 0;\n",
       "}\n",
       "\n",
       "#sk-container-id-1 input.sk-hidden--visually {\n",
       "  border: 0;\n",
       "  clip: rect(1px 1px 1px 1px);\n",
       "  clip: rect(1px, 1px, 1px, 1px);\n",
       "  height: 1px;\n",
       "  margin: -1px;\n",
       "  overflow: hidden;\n",
       "  padding: 0;\n",
       "  position: absolute;\n",
       "  width: 1px;\n",
       "}\n",
       "\n",
       "#sk-container-id-1 div.sk-dashed-wrapped {\n",
       "  border: 1px dashed var(--sklearn-color-line);\n",
       "  margin: 0 0.4em 0.5em 0.4em;\n",
       "  box-sizing: border-box;\n",
       "  padding-bottom: 0.4em;\n",
       "  background-color: var(--sklearn-color-background);\n",
       "}\n",
       "\n",
       "#sk-container-id-1 div.sk-container {\n",
       "  /* jupyter's `normalize.less` sets `[hidden] { display: none; }`\n",
       "     but bootstrap.min.css set `[hidden] { display: none !important; }`\n",
       "     so we also need the `!important` here to be able to override the\n",
       "     default hidden behavior on the sphinx rendered scikit-learn.org.\n",
       "     See: https://github.com/scikit-learn/scikit-learn/issues/21755 */\n",
       "  display: inline-block !important;\n",
       "  position: relative;\n",
       "}\n",
       "\n",
       "#sk-container-id-1 div.sk-text-repr-fallback {\n",
       "  display: none;\n",
       "}\n",
       "\n",
       "div.sk-parallel-item,\n",
       "div.sk-serial,\n",
       "div.sk-item {\n",
       "  /* draw centered vertical line to link estimators */\n",
       "  background-image: linear-gradient(var(--sklearn-color-text-on-default-background), var(--sklearn-color-text-on-default-background));\n",
       "  background-size: 2px 100%;\n",
       "  background-repeat: no-repeat;\n",
       "  background-position: center center;\n",
       "}\n",
       "\n",
       "/* Parallel-specific style estimator block */\n",
       "\n",
       "#sk-container-id-1 div.sk-parallel-item::after {\n",
       "  content: \"\";\n",
       "  width: 100%;\n",
       "  border-bottom: 2px solid var(--sklearn-color-text-on-default-background);\n",
       "  flex-grow: 1;\n",
       "}\n",
       "\n",
       "#sk-container-id-1 div.sk-parallel {\n",
       "  display: flex;\n",
       "  align-items: stretch;\n",
       "  justify-content: center;\n",
       "  background-color: var(--sklearn-color-background);\n",
       "  position: relative;\n",
       "}\n",
       "\n",
       "#sk-container-id-1 div.sk-parallel-item {\n",
       "  display: flex;\n",
       "  flex-direction: column;\n",
       "}\n",
       "\n",
       "#sk-container-id-1 div.sk-parallel-item:first-child::after {\n",
       "  align-self: flex-end;\n",
       "  width: 50%;\n",
       "}\n",
       "\n",
       "#sk-container-id-1 div.sk-parallel-item:last-child::after {\n",
       "  align-self: flex-start;\n",
       "  width: 50%;\n",
       "}\n",
       "\n",
       "#sk-container-id-1 div.sk-parallel-item:only-child::after {\n",
       "  width: 0;\n",
       "}\n",
       "\n",
       "/* Serial-specific style estimator block */\n",
       "\n",
       "#sk-container-id-1 div.sk-serial {\n",
       "  display: flex;\n",
       "  flex-direction: column;\n",
       "  align-items: center;\n",
       "  background-color: var(--sklearn-color-background);\n",
       "  padding-right: 1em;\n",
       "  padding-left: 1em;\n",
       "}\n",
       "\n",
       "\n",
       "/* Toggleable style: style used for estimator/Pipeline/ColumnTransformer box that is\n",
       "clickable and can be expanded/collapsed.\n",
       "- Pipeline and ColumnTransformer use this feature and define the default style\n",
       "- Estimators will overwrite some part of the style using the `sk-estimator` class\n",
       "*/\n",
       "\n",
       "/* Pipeline and ColumnTransformer style (default) */\n",
       "\n",
       "#sk-container-id-1 div.sk-toggleable {\n",
       "  /* Default theme specific background. It is overwritten whether we have a\n",
       "  specific estimator or a Pipeline/ColumnTransformer */\n",
       "  background-color: var(--sklearn-color-background);\n",
       "}\n",
       "\n",
       "/* Toggleable label */\n",
       "#sk-container-id-1 label.sk-toggleable__label {\n",
       "  cursor: pointer;\n",
       "  display: flex;\n",
       "  width: 100%;\n",
       "  margin-bottom: 0;\n",
       "  padding: 0.5em;\n",
       "  box-sizing: border-box;\n",
       "  text-align: center;\n",
       "  align-items: start;\n",
       "  justify-content: space-between;\n",
       "  gap: 0.5em;\n",
       "}\n",
       "\n",
       "#sk-container-id-1 label.sk-toggleable__label .caption {\n",
       "  font-size: 0.6rem;\n",
       "  font-weight: lighter;\n",
       "  color: var(--sklearn-color-text-muted);\n",
       "}\n",
       "\n",
       "#sk-container-id-1 label.sk-toggleable__label-arrow:before {\n",
       "  /* Arrow on the left of the label */\n",
       "  content: \"▸\";\n",
       "  float: left;\n",
       "  margin-right: 0.25em;\n",
       "  color: var(--sklearn-color-icon);\n",
       "}\n",
       "\n",
       "#sk-container-id-1 label.sk-toggleable__label-arrow:hover:before {\n",
       "  color: var(--sklearn-color-text);\n",
       "}\n",
       "\n",
       "/* Toggleable content - dropdown */\n",
       "\n",
       "#sk-container-id-1 div.sk-toggleable__content {\n",
       "  max-height: 0;\n",
       "  max-width: 0;\n",
       "  overflow: hidden;\n",
       "  text-align: left;\n",
       "  /* unfitted */\n",
       "  background-color: var(--sklearn-color-unfitted-level-0);\n",
       "}\n",
       "\n",
       "#sk-container-id-1 div.sk-toggleable__content.fitted {\n",
       "  /* fitted */\n",
       "  background-color: var(--sklearn-color-fitted-level-0);\n",
       "}\n",
       "\n",
       "#sk-container-id-1 div.sk-toggleable__content pre {\n",
       "  margin: 0.2em;\n",
       "  border-radius: 0.25em;\n",
       "  color: var(--sklearn-color-text);\n",
       "  /* unfitted */\n",
       "  background-color: var(--sklearn-color-unfitted-level-0);\n",
       "}\n",
       "\n",
       "#sk-container-id-1 div.sk-toggleable__content.fitted pre {\n",
       "  /* unfitted */\n",
       "  background-color: var(--sklearn-color-fitted-level-0);\n",
       "}\n",
       "\n",
       "#sk-container-id-1 input.sk-toggleable__control:checked~div.sk-toggleable__content {\n",
       "  /* Expand drop-down */\n",
       "  max-height: 200px;\n",
       "  max-width: 100%;\n",
       "  overflow: auto;\n",
       "}\n",
       "\n",
       "#sk-container-id-1 input.sk-toggleable__control:checked~label.sk-toggleable__label-arrow:before {\n",
       "  content: \"▾\";\n",
       "}\n",
       "\n",
       "/* Pipeline/ColumnTransformer-specific style */\n",
       "\n",
       "#sk-container-id-1 div.sk-label input.sk-toggleable__control:checked~label.sk-toggleable__label {\n",
       "  color: var(--sklearn-color-text);\n",
       "  background-color: var(--sklearn-color-unfitted-level-2);\n",
       "}\n",
       "\n",
       "#sk-container-id-1 div.sk-label.fitted input.sk-toggleable__control:checked~label.sk-toggleable__label {\n",
       "  background-color: var(--sklearn-color-fitted-level-2);\n",
       "}\n",
       "\n",
       "/* Estimator-specific style */\n",
       "\n",
       "/* Colorize estimator box */\n",
       "#sk-container-id-1 div.sk-estimator input.sk-toggleable__control:checked~label.sk-toggleable__label {\n",
       "  /* unfitted */\n",
       "  background-color: var(--sklearn-color-unfitted-level-2);\n",
       "}\n",
       "\n",
       "#sk-container-id-1 div.sk-estimator.fitted input.sk-toggleable__control:checked~label.sk-toggleable__label {\n",
       "  /* fitted */\n",
       "  background-color: var(--sklearn-color-fitted-level-2);\n",
       "}\n",
       "\n",
       "#sk-container-id-1 div.sk-label label.sk-toggleable__label,\n",
       "#sk-container-id-1 div.sk-label label {\n",
       "  /* The background is the default theme color */\n",
       "  color: var(--sklearn-color-text-on-default-background);\n",
       "}\n",
       "\n",
       "/* On hover, darken the color of the background */\n",
       "#sk-container-id-1 div.sk-label:hover label.sk-toggleable__label {\n",
       "  color: var(--sklearn-color-text);\n",
       "  background-color: var(--sklearn-color-unfitted-level-2);\n",
       "}\n",
       "\n",
       "/* Label box, darken color on hover, fitted */\n",
       "#sk-container-id-1 div.sk-label.fitted:hover label.sk-toggleable__label.fitted {\n",
       "  color: var(--sklearn-color-text);\n",
       "  background-color: var(--sklearn-color-fitted-level-2);\n",
       "}\n",
       "\n",
       "/* Estimator label */\n",
       "\n",
       "#sk-container-id-1 div.sk-label label {\n",
       "  font-family: monospace;\n",
       "  font-weight: bold;\n",
       "  display: inline-block;\n",
       "  line-height: 1.2em;\n",
       "}\n",
       "\n",
       "#sk-container-id-1 div.sk-label-container {\n",
       "  text-align: center;\n",
       "}\n",
       "\n",
       "/* Estimator-specific */\n",
       "#sk-container-id-1 div.sk-estimator {\n",
       "  font-family: monospace;\n",
       "  border: 1px dotted var(--sklearn-color-border-box);\n",
       "  border-radius: 0.25em;\n",
       "  box-sizing: border-box;\n",
       "  margin-bottom: 0.5em;\n",
       "  /* unfitted */\n",
       "  background-color: var(--sklearn-color-unfitted-level-0);\n",
       "}\n",
       "\n",
       "#sk-container-id-1 div.sk-estimator.fitted {\n",
       "  /* fitted */\n",
       "  background-color: var(--sklearn-color-fitted-level-0);\n",
       "}\n",
       "\n",
       "/* on hover */\n",
       "#sk-container-id-1 div.sk-estimator:hover {\n",
       "  /* unfitted */\n",
       "  background-color: var(--sklearn-color-unfitted-level-2);\n",
       "}\n",
       "\n",
       "#sk-container-id-1 div.sk-estimator.fitted:hover {\n",
       "  /* fitted */\n",
       "  background-color: var(--sklearn-color-fitted-level-2);\n",
       "}\n",
       "\n",
       "/* Specification for estimator info (e.g. \"i\" and \"?\") */\n",
       "\n",
       "/* Common style for \"i\" and \"?\" */\n",
       "\n",
       ".sk-estimator-doc-link,\n",
       "a:link.sk-estimator-doc-link,\n",
       "a:visited.sk-estimator-doc-link {\n",
       "  float: right;\n",
       "  font-size: smaller;\n",
       "  line-height: 1em;\n",
       "  font-family: monospace;\n",
       "  background-color: var(--sklearn-color-background);\n",
       "  border-radius: 1em;\n",
       "  height: 1em;\n",
       "  width: 1em;\n",
       "  text-decoration: none !important;\n",
       "  margin-left: 0.5em;\n",
       "  text-align: center;\n",
       "  /* unfitted */\n",
       "  border: var(--sklearn-color-unfitted-level-1) 1pt solid;\n",
       "  color: var(--sklearn-color-unfitted-level-1);\n",
       "}\n",
       "\n",
       ".sk-estimator-doc-link.fitted,\n",
       "a:link.sk-estimator-doc-link.fitted,\n",
       "a:visited.sk-estimator-doc-link.fitted {\n",
       "  /* fitted */\n",
       "  border: var(--sklearn-color-fitted-level-1) 1pt solid;\n",
       "  color: var(--sklearn-color-fitted-level-1);\n",
       "}\n",
       "\n",
       "/* On hover */\n",
       "div.sk-estimator:hover .sk-estimator-doc-link:hover,\n",
       ".sk-estimator-doc-link:hover,\n",
       "div.sk-label-container:hover .sk-estimator-doc-link:hover,\n",
       ".sk-estimator-doc-link:hover {\n",
       "  /* unfitted */\n",
       "  background-color: var(--sklearn-color-unfitted-level-3);\n",
       "  color: var(--sklearn-color-background);\n",
       "  text-decoration: none;\n",
       "}\n",
       "\n",
       "div.sk-estimator.fitted:hover .sk-estimator-doc-link.fitted:hover,\n",
       ".sk-estimator-doc-link.fitted:hover,\n",
       "div.sk-label-container:hover .sk-estimator-doc-link.fitted:hover,\n",
       ".sk-estimator-doc-link.fitted:hover {\n",
       "  /* fitted */\n",
       "  background-color: var(--sklearn-color-fitted-level-3);\n",
       "  color: var(--sklearn-color-background);\n",
       "  text-decoration: none;\n",
       "}\n",
       "\n",
       "/* Span, style for the box shown on hovering the info icon */\n",
       ".sk-estimator-doc-link span {\n",
       "  display: none;\n",
       "  z-index: 9999;\n",
       "  position: relative;\n",
       "  font-weight: normal;\n",
       "  right: .2ex;\n",
       "  padding: .5ex;\n",
       "  margin: .5ex;\n",
       "  width: min-content;\n",
       "  min-width: 20ex;\n",
       "  max-width: 50ex;\n",
       "  color: var(--sklearn-color-text);\n",
       "  box-shadow: 2pt 2pt 4pt #999;\n",
       "  /* unfitted */\n",
       "  background: var(--sklearn-color-unfitted-level-0);\n",
       "  border: .5pt solid var(--sklearn-color-unfitted-level-3);\n",
       "}\n",
       "\n",
       ".sk-estimator-doc-link.fitted span {\n",
       "  /* fitted */\n",
       "  background: var(--sklearn-color-fitted-level-0);\n",
       "  border: var(--sklearn-color-fitted-level-3);\n",
       "}\n",
       "\n",
       ".sk-estimator-doc-link:hover span {\n",
       "  display: block;\n",
       "}\n",
       "\n",
       "/* \"?\"-specific style due to the `<a>` HTML tag */\n",
       "\n",
       "#sk-container-id-1 a.estimator_doc_link {\n",
       "  float: right;\n",
       "  font-size: 1rem;\n",
       "  line-height: 1em;\n",
       "  font-family: monospace;\n",
       "  background-color: var(--sklearn-color-background);\n",
       "  border-radius: 1rem;\n",
       "  height: 1rem;\n",
       "  width: 1rem;\n",
       "  text-decoration: none;\n",
       "  /* unfitted */\n",
       "  color: var(--sklearn-color-unfitted-level-1);\n",
       "  border: var(--sklearn-color-unfitted-level-1) 1pt solid;\n",
       "}\n",
       "\n",
       "#sk-container-id-1 a.estimator_doc_link.fitted {\n",
       "  /* fitted */\n",
       "  border: var(--sklearn-color-fitted-level-1) 1pt solid;\n",
       "  color: var(--sklearn-color-fitted-level-1);\n",
       "}\n",
       "\n",
       "/* On hover */\n",
       "#sk-container-id-1 a.estimator_doc_link:hover {\n",
       "  /* unfitted */\n",
       "  background-color: var(--sklearn-color-unfitted-level-3);\n",
       "  color: var(--sklearn-color-background);\n",
       "  text-decoration: none;\n",
       "}\n",
       "\n",
       "#sk-container-id-1 a.estimator_doc_link.fitted:hover {\n",
       "  /* fitted */\n",
       "  background-color: var(--sklearn-color-fitted-level-3);\n",
       "}\n",
       "</style><div id=\"sk-container-id-1\" class=\"sk-top-container\"><div class=\"sk-text-repr-fallback\"><pre>RandomForestClassifier(n_estimators=40, random_state=42)</pre><b>In a Jupyter environment, please rerun this cell to show the HTML representation or trust the notebook. <br />On GitHub, the HTML representation is unable to render, please try loading this page with nbviewer.org.</b></div><div class=\"sk-container\" hidden><div class=\"sk-item\"><div class=\"sk-estimator fitted sk-toggleable\"><input class=\"sk-toggleable__control sk-hidden--visually\" id=\"sk-estimator-id-1\" type=\"checkbox\" checked><label for=\"sk-estimator-id-1\" class=\"sk-toggleable__label fitted sk-toggleable__label-arrow\"><div><div>RandomForestClassifier</div></div><div><a class=\"sk-estimator-doc-link fitted\" rel=\"noreferrer\" target=\"_blank\" href=\"https://scikit-learn.org/1.6/modules/generated/sklearn.ensemble.RandomForestClassifier.html\">?<span>Documentation for RandomForestClassifier</span></a><span class=\"sk-estimator-doc-link fitted\">i<span>Fitted</span></span></div></label><div class=\"sk-toggleable__content fitted\"><pre>RandomForestClassifier(n_estimators=40, random_state=42)</pre></div> </div></div></div></div>"
      ],
      "text/plain": [
       "RandomForestClassifier(n_estimators=40, random_state=42)"
      ]
     },
     "execution_count": 311,
     "metadata": {},
     "output_type": "execute_result"
    }
   ],
   "source": [
    "final_model = RandomForestClassifier(n_estimators=best_n, random_state=42)\n",
    "final_model.fit(X_sel, y)"
   ]
  },
  {
   "cell_type": "markdown",
   "id": "c34942e2-b9f6-44d1-9efe-68f835ed2e45",
   "metadata": {},
   "source": [
    "1. save the model to a pkl file"
   ]
  },
  {
   "cell_type": "code",
   "execution_count": 314,
   "id": "8035c076-a18f-48ca-b1fb-4af6e927ee6a",
   "metadata": {},
   "outputs": [
    {
     "data": {
      "text/plain": [
       "['rf_model.pkl']"
      ]
     },
     "execution_count": 314,
     "metadata": {},
     "output_type": "execute_result"
    }
   ],
   "source": [
    "joblib.dump(final_model, \"rf_model.pkl\")"
   ]
  },
  {
   "cell_type": "markdown",
   "id": "9b54332b-b7fc-4a3e-9d37-24579659bcac",
   "metadata": {},
   "source": [
    "2. use m2cgen to emit JS"
   ]
  },
  {
   "cell_type": "code",
   "execution_count": 318,
   "id": "eabd55ae-f611-460a-9c8a-298773f75bed",
   "metadata": {},
   "outputs": [],
   "source": [
    "rf = joblib.load(\"rf_model.pkl\")\n",
    "js_code = m2c.export_to_javascript(rf, function_name=\"predictPhishScore\")\n",
    "\n",
    "# write it into the extension folder\n",
    "with open(\"./SimpleExtension/predict_model.js\", \"w\") as f:\n",
    "    f.write(js_code)"
   ]
  }
 ],
 "metadata": {
  "kernelspec": {
   "display_name": "Python 3 (ipykernel)",
   "language": "python",
   "name": "python3"
  },
  "language_info": {
   "codemirror_mode": {
    "name": "ipython",
    "version": 3
   },
   "file_extension": ".py",
   "mimetype": "text/x-python",
   "name": "python",
   "nbconvert_exporter": "python",
   "pygments_lexer": "ipython3",
   "version": "3.9.19"
  }
 },
 "nbformat": 4,
 "nbformat_minor": 5
}
