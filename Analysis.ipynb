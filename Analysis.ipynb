{
 "cells": [
  {
   "cell_type": "markdown",
   "id": "bd60b3b0-18d9-4f3c-94da-3aa4d49d3784",
   "metadata": {},
   "source": [
    "# Phishing URL Dataset Analysis"
   ]
  },
  {
   "cell_type": "code",
   "execution_count": 1,
   "id": "6e6bdca5-eb22-4066-a53d-ac596100f875",
   "metadata": {},
   "outputs": [],
   "source": [
    "# !pip install m2cgen\n",
    "\n",
    "import pandas as pd\n",
    "import numpy as np\n",
    "import time\n",
    "import matplotlib.pyplot as plt\n",
    "from sklearn.ensemble import RandomForestClassifier\n",
    "from sklearn.model_selection import StratifiedKFold, cross_val_score, train_test_split\n",
    "from sklearn.metrics import (\n",
    "    precision_score, recall_score, f1_score,\n",
    "    confusion_matrix, roc_curve\n",
    ")\n",
    "import joblib\n",
    "import m2cgen as m2c"
   ]
  },
  {
   "cell_type": "markdown",
   "id": "1525333c-01f9-4e01-be91-8bf1e1a9b54b",
   "metadata": {},
   "source": [
    "### Load the precomputed dataset"
   ]
  },
  {
   "cell_type": "code",
   "execution_count": 89,
   "id": "c057c76a-7d57-4b47-a90d-84ec09afde79",
   "metadata": {},
   "outputs": [
    {
     "name": "stdout",
     "output_type": "stream",
     "text": [
      "Analysis.ipynb             package.json\n",
      "\u001b[34mSimpleExtension\u001b[m\u001b[m/           phishing_analysis 2.ipynb\n",
      "benign_urls_5000.csv       phishing_analysis.ipynb\n",
      "\u001b[34mdata_analysis\u001b[m\u001b[m/             rf_model.json\n",
      "\u001b[34mdatasets\u001b[m\u001b[m/                  rf_model.pkl\n",
      "\u001b[34mnode_modules\u001b[m\u001b[m/              trainer.py\n",
      "package-lock.json\n"
     ]
    }
   ],
   "source": [
    "ls"
   ]
  },
  {
   "cell_type": "code",
   "execution_count": 90,
   "id": "c67eaa54-e41b-46fa-b2e7-0da49ff86362",
   "metadata": {},
   "outputs": [],
   "source": [
    "df = pd.read_csv(\"datasets/features.csv\")\n",
    "X = df.drop([\"label\",\"url\"], axis=1)\n",
    "\n",
    "#TODO: delete this if we want the url length because we already have the domain length\n",
    "# X = df.drop([\"label\",\"url\",\"url_length\"], axis=1)\n",
    "\n",
    "y = df[\"label\"]"
   ]
  },
  {
   "cell_type": "code",
   "execution_count": 91,
   "id": "58cead74-05ee-4f19-b059-f9a5cdec8075",
   "metadata": {},
   "outputs": [
    {
     "data": {
      "text/html": [
       "<div>\n",
       "<style scoped>\n",
       "    .dataframe tbody tr th:only-of-type {\n",
       "        vertical-align: middle;\n",
       "    }\n",
       "\n",
       "    .dataframe tbody tr th {\n",
       "        vertical-align: top;\n",
       "    }\n",
       "\n",
       "    .dataframe thead th {\n",
       "        text-align: right;\n",
       "    }\n",
       "</style>\n",
       "<table border=\"1\" class=\"dataframe\">\n",
       "  <thead>\n",
       "    <tr style=\"text-align: right;\">\n",
       "      <th></th>\n",
       "      <th>url</th>\n",
       "      <th>url_length</th>\n",
       "      <th>dot_count</th>\n",
       "      <th>has_at</th>\n",
       "      <th>special_char_count</th>\n",
       "      <th>entropy</th>\n",
       "      <th>suspicious_keywords</th>\n",
       "      <th>subdomain_length</th>\n",
       "      <th>is_free_hosting</th>\n",
       "      <th>has_hyphen</th>\n",
       "      <th>...</th>\n",
       "      <th>fetchCount</th>\n",
       "      <th>xhrCount</th>\n",
       "      <th>wsCount</th>\n",
       "      <th>scriptInjectionCount</th>\n",
       "      <th>eventListenerCount</th>\n",
       "      <th>domMutationCount</th>\n",
       "      <th>attributeMutationCount</th>\n",
       "      <th>pageLoadTime</th>\n",
       "      <th>memoryUsed</th>\n",
       "      <th>label</th>\n",
       "    </tr>\n",
       "  </thead>\n",
       "  <tbody>\n",
       "    <tr>\n",
       "      <th>0</th>\n",
       "      <td>https://bit.ly/3C67RTD</td>\n",
       "      <td>22</td>\n",
       "      <td>1</td>\n",
       "      <td>0</td>\n",
       "      <td>0</td>\n",
       "      <td>2.584963</td>\n",
       "      <td>0</td>\n",
       "      <td>0</td>\n",
       "      <td>0</td>\n",
       "      <td>0</td>\n",
       "      <td>...</td>\n",
       "      <td>0</td>\n",
       "      <td>0</td>\n",
       "      <td>0</td>\n",
       "      <td>0</td>\n",
       "      <td>0</td>\n",
       "      <td>0</td>\n",
       "      <td>0</td>\n",
       "      <td>6122.0</td>\n",
       "      <td>10000000</td>\n",
       "      <td>1</td>\n",
       "    </tr>\n",
       "    <tr>\n",
       "      <th>1</th>\n",
       "      <td>https://prod-rd-10040.firebaseapp.com/</td>\n",
       "      <td>38</td>\n",
       "      <td>2</td>\n",
       "      <td>0</td>\n",
       "      <td>2</td>\n",
       "      <td>3.952303</td>\n",
       "      <td>0</td>\n",
       "      <td>13</td>\n",
       "      <td>0</td>\n",
       "      <td>1</td>\n",
       "      <td>...</td>\n",
       "      <td>0</td>\n",
       "      <td>2</td>\n",
       "      <td>0</td>\n",
       "      <td>2</td>\n",
       "      <td>143</td>\n",
       "      <td>0</td>\n",
       "      <td>0</td>\n",
       "      <td>6437.0</td>\n",
       "      <td>19300000</td>\n",
       "      <td>1</td>\n",
       "    </tr>\n",
       "    <tr>\n",
       "      <th>2</th>\n",
       "      <td>https://blues.org</td>\n",
       "      <td>17</td>\n",
       "      <td>1</td>\n",
       "      <td>0</td>\n",
       "      <td>0</td>\n",
       "      <td>3.169925</td>\n",
       "      <td>0</td>\n",
       "      <td>0</td>\n",
       "      <td>0</td>\n",
       "      <td>0</td>\n",
       "      <td>...</td>\n",
       "      <td>2</td>\n",
       "      <td>4</td>\n",
       "      <td>0</td>\n",
       "      <td>5</td>\n",
       "      <td>562</td>\n",
       "      <td>5</td>\n",
       "      <td>0</td>\n",
       "      <td>9974.0</td>\n",
       "      <td>16100000</td>\n",
       "      <td>0</td>\n",
       "    </tr>\n",
       "    <tr>\n",
       "      <th>3</th>\n",
       "      <td>http://farmerregistry.co.in</td>\n",
       "      <td>27</td>\n",
       "      <td>2</td>\n",
       "      <td>0</td>\n",
       "      <td>0</td>\n",
       "      <td>3.621928</td>\n",
       "      <td>0</td>\n",
       "      <td>14</td>\n",
       "      <td>0</td>\n",
       "      <td>0</td>\n",
       "      <td>...</td>\n",
       "      <td>0</td>\n",
       "      <td>0</td>\n",
       "      <td>0</td>\n",
       "      <td>0</td>\n",
       "      <td>0</td>\n",
       "      <td>0</td>\n",
       "      <td>0</td>\n",
       "      <td>6021.0</td>\n",
       "      <td>10000000</td>\n",
       "      <td>0</td>\n",
       "    </tr>\n",
       "    <tr>\n",
       "      <th>4</th>\n",
       "      <td>https://mediacombb-100205.weeblysite.com/</td>\n",
       "      <td>41</td>\n",
       "      <td>2</td>\n",
       "      <td>0</td>\n",
       "      <td>1</td>\n",
       "      <td>4.054229</td>\n",
       "      <td>0</td>\n",
       "      <td>17</td>\n",
       "      <td>1</td>\n",
       "      <td>1</td>\n",
       "      <td>...</td>\n",
       "      <td>0</td>\n",
       "      <td>0</td>\n",
       "      <td>0</td>\n",
       "      <td>0</td>\n",
       "      <td>0</td>\n",
       "      <td>0</td>\n",
       "      <td>0</td>\n",
       "      <td>6029.0</td>\n",
       "      <td>10000000</td>\n",
       "      <td>1</td>\n",
       "    </tr>\n",
       "    <tr>\n",
       "      <th>...</th>\n",
       "      <td>...</td>\n",
       "      <td>...</td>\n",
       "      <td>...</td>\n",
       "      <td>...</td>\n",
       "      <td>...</td>\n",
       "      <td>...</td>\n",
       "      <td>...</td>\n",
       "      <td>...</td>\n",
       "      <td>...</td>\n",
       "      <td>...</td>\n",
       "      <td>...</td>\n",
       "      <td>...</td>\n",
       "      <td>...</td>\n",
       "      <td>...</td>\n",
       "      <td>...</td>\n",
       "      <td>...</td>\n",
       "      <td>...</td>\n",
       "      <td>...</td>\n",
       "      <td>...</td>\n",
       "      <td>...</td>\n",
       "      <td>...</td>\n",
       "    </tr>\n",
       "    <tr>\n",
       "      <th>4932</th>\n",
       "      <td>https://ring.com/users/sign_in</td>\n",
       "      <td>30</td>\n",
       "      <td>1</td>\n",
       "      <td>0</td>\n",
       "      <td>0</td>\n",
       "      <td>3.000000</td>\n",
       "      <td>0</td>\n",
       "      <td>0</td>\n",
       "      <td>0</td>\n",
       "      <td>0</td>\n",
       "      <td>...</td>\n",
       "      <td>0</td>\n",
       "      <td>0</td>\n",
       "      <td>0</td>\n",
       "      <td>0</td>\n",
       "      <td>0</td>\n",
       "      <td>0</td>\n",
       "      <td>0</td>\n",
       "      <td>20126.0</td>\n",
       "      <td>10000000</td>\n",
       "      <td>0</td>\n",
       "    </tr>\n",
       "    <tr>\n",
       "      <th>4933</th>\n",
       "      <td>https://support.ring.com/</td>\n",
       "      <td>25</td>\n",
       "      <td>2</td>\n",
       "      <td>0</td>\n",
       "      <td>0</td>\n",
       "      <td>3.500000</td>\n",
       "      <td>0</td>\n",
       "      <td>7</td>\n",
       "      <td>0</td>\n",
       "      <td>0</td>\n",
       "      <td>...</td>\n",
       "      <td>0</td>\n",
       "      <td>0</td>\n",
       "      <td>0</td>\n",
       "      <td>0</td>\n",
       "      <td>0</td>\n",
       "      <td>0</td>\n",
       "      <td>0</td>\n",
       "      <td>17366.5</td>\n",
       "      <td>42100000</td>\n",
       "      <td>0</td>\n",
       "    </tr>\n",
       "    <tr>\n",
       "      <th>4934</th>\n",
       "      <td>https://ring.com/collections/tech-lovers</td>\n",
       "      <td>40</td>\n",
       "      <td>1</td>\n",
       "      <td>0</td>\n",
       "      <td>1</td>\n",
       "      <td>3.000000</td>\n",
       "      <td>0</td>\n",
       "      <td>0</td>\n",
       "      <td>0</td>\n",
       "      <td>0</td>\n",
       "      <td>...</td>\n",
       "      <td>0</td>\n",
       "      <td>0</td>\n",
       "      <td>0</td>\n",
       "      <td>0</td>\n",
       "      <td>0</td>\n",
       "      <td>0</td>\n",
       "      <td>2</td>\n",
       "      <td>17905.7</td>\n",
       "      <td>50400000</td>\n",
       "      <td>0</td>\n",
       "    </tr>\n",
       "    <tr>\n",
       "      <th>4935</th>\n",
       "      <td>https://ring.com/</td>\n",
       "      <td>17</td>\n",
       "      <td>1</td>\n",
       "      <td>0</td>\n",
       "      <td>0</td>\n",
       "      <td>3.000000</td>\n",
       "      <td>0</td>\n",
       "      <td>0</td>\n",
       "      <td>0</td>\n",
       "      <td>0</td>\n",
       "      <td>...</td>\n",
       "      <td>0</td>\n",
       "      <td>0</td>\n",
       "      <td>0</td>\n",
       "      <td>0</td>\n",
       "      <td>0</td>\n",
       "      <td>2</td>\n",
       "      <td>22</td>\n",
       "      <td>14605.9</td>\n",
       "      <td>24500000</td>\n",
       "      <td>0</td>\n",
       "    </tr>\n",
       "    <tr>\n",
       "      <th>4936</th>\n",
       "      <td>https://ring.com/collections/business-security...</td>\n",
       "      <td>54</td>\n",
       "      <td>1</td>\n",
       "      <td>0</td>\n",
       "      <td>2</td>\n",
       "      <td>3.000000</td>\n",
       "      <td>0</td>\n",
       "      <td>0</td>\n",
       "      <td>0</td>\n",
       "      <td>0</td>\n",
       "      <td>...</td>\n",
       "      <td>0</td>\n",
       "      <td>0</td>\n",
       "      <td>0</td>\n",
       "      <td>0</td>\n",
       "      <td>0</td>\n",
       "      <td>0</td>\n",
       "      <td>2</td>\n",
       "      <td>11093.6</td>\n",
       "      <td>23100000</td>\n",
       "      <td>0</td>\n",
       "    </tr>\n",
       "  </tbody>\n",
       "</table>\n",
       "<p>4937 rows × 22 columns</p>\n",
       "</div>"
      ],
      "text/plain": [
       "                                                    url  url_length  \\\n",
       "0                                https://bit.ly/3C67RTD          22   \n",
       "1                https://prod-rd-10040.firebaseapp.com/          38   \n",
       "2                                     https://blues.org          17   \n",
       "3                           http://farmerregistry.co.in          27   \n",
       "4             https://mediacombb-100205.weeblysite.com/          41   \n",
       "...                                                 ...         ...   \n",
       "4932                     https://ring.com/users/sign_in          30   \n",
       "4933                          https://support.ring.com/          25   \n",
       "4934           https://ring.com/collections/tech-lovers          40   \n",
       "4935                                  https://ring.com/          17   \n",
       "4936  https://ring.com/collections/business-security...          54   \n",
       "\n",
       "      dot_count  has_at  special_char_count   entropy  suspicious_keywords  \\\n",
       "0             1       0                   0  2.584963                    0   \n",
       "1             2       0                   2  3.952303                    0   \n",
       "2             1       0                   0  3.169925                    0   \n",
       "3             2       0                   0  3.621928                    0   \n",
       "4             2       0                   1  4.054229                    0   \n",
       "...         ...     ...                 ...       ...                  ...   \n",
       "4932          1       0                   0  3.000000                    0   \n",
       "4933          2       0                   0  3.500000                    0   \n",
       "4934          1       0                   1  3.000000                    0   \n",
       "4935          1       0                   0  3.000000                    0   \n",
       "4936          1       0                   2  3.000000                    0   \n",
       "\n",
       "      subdomain_length  is_free_hosting  has_hyphen  ...  fetchCount  \\\n",
       "0                    0                0           0  ...           0   \n",
       "1                   13                0           1  ...           0   \n",
       "2                    0                0           0  ...           2   \n",
       "3                   14                0           0  ...           0   \n",
       "4                   17                1           1  ...           0   \n",
       "...                ...              ...         ...  ...         ...   \n",
       "4932                 0                0           0  ...           0   \n",
       "4933                 7                0           0  ...           0   \n",
       "4934                 0                0           0  ...           0   \n",
       "4935                 0                0           0  ...           0   \n",
       "4936                 0                0           0  ...           0   \n",
       "\n",
       "      xhrCount  wsCount  scriptInjectionCount  eventListenerCount  \\\n",
       "0            0        0                     0                   0   \n",
       "1            2        0                     2                 143   \n",
       "2            4        0                     5                 562   \n",
       "3            0        0                     0                   0   \n",
       "4            0        0                     0                   0   \n",
       "...        ...      ...                   ...                 ...   \n",
       "4932         0        0                     0                   0   \n",
       "4933         0        0                     0                   0   \n",
       "4934         0        0                     0                   0   \n",
       "4935         0        0                     0                   0   \n",
       "4936         0        0                     0                   0   \n",
       "\n",
       "      domMutationCount  attributeMutationCount  pageLoadTime  memoryUsed  \\\n",
       "0                    0                       0        6122.0    10000000   \n",
       "1                    0                       0        6437.0    19300000   \n",
       "2                    5                       0        9974.0    16100000   \n",
       "3                    0                       0        6021.0    10000000   \n",
       "4                    0                       0        6029.0    10000000   \n",
       "...                ...                     ...           ...         ...   \n",
       "4932                 0                       0       20126.0    10000000   \n",
       "4933                 0                       0       17366.5    42100000   \n",
       "4934                 0                       2       17905.7    50400000   \n",
       "4935                 2                      22       14605.9    24500000   \n",
       "4936                 0                       2       11093.6    23100000   \n",
       "\n",
       "      label  \n",
       "0         1  \n",
       "1         1  \n",
       "2         0  \n",
       "3         0  \n",
       "4         1  \n",
       "...     ...  \n",
       "4932      0  \n",
       "4933      0  \n",
       "4934      0  \n",
       "4935      0  \n",
       "4936      0  \n",
       "\n",
       "[4937 rows x 22 columns]"
      ]
     },
     "execution_count": 91,
     "metadata": {},
     "output_type": "execute_result"
    }
   ],
   "source": [
    "df"
   ]
  },
  {
   "cell_type": "markdown",
   "id": "6bc96444-ef38-475e-9ab1-6259c2fba235",
   "metadata": {},
   "source": [
    "### 1. Optimize n_estimators via OOB error"
   ]
  },
  {
   "cell_type": "code",
   "execution_count": 92,
   "id": "2289f8f1-d1fe-4b66-b474-c2c08f3f2b44",
   "metadata": {},
   "outputs": [
    {
     "name": "stderr",
     "output_type": "stream",
     "text": [
      "/opt/anaconda3/envs/TaskLighthouseENV/lib/python3.9/site-packages/sklearn/ensemble/_forest.py:612: UserWarning: Some inputs do not have OOB scores. This probably means too few trees were used to compute any reliable OOB estimates.\n",
      "  warn(\n",
      "/opt/anaconda3/envs/TaskLighthouseENV/lib/python3.9/site-packages/sklearn/ensemble/_forest.py:612: UserWarning: Some inputs do not have OOB scores. This probably means too few trees were used to compute any reliable OOB estimates.\n",
      "  warn(\n"
     ]
    }
   ],
   "source": [
    "tree_range = list(range(10, 301, 10))\n",
    "oob_errors = []\n",
    "for n in tree_range:\n",
    "    rf = RandomForestClassifier(n_estimators=n, oob_score=True, n_jobs=-1, random_state=42)\n",
    "    rf.fit(X, y)\n",
    "    oob_errors.append(1 - rf.oob_score_)"
   ]
  },
  {
   "cell_type": "code",
   "execution_count": 93,
   "id": "7bed8d3d-56d0-4ee5-a66b-ed99615d070b",
   "metadata": {},
   "outputs": [
    {
     "name": "stdout",
     "output_type": "stream",
     "text": [
      "label\n",
      "0    3256\n",
      "1    1681\n",
      "Name: count, dtype: int64\n"
     ]
    }
   ],
   "source": [
    "# verify labels\n",
    "print(y.value_counts())\n"
   ]
  },
  {
   "cell_type": "markdown",
   "id": "3de529c5-ab86-48ca-8e99-efe493bbdab2",
   "metadata": {},
   "source": [
    "draw the data"
   ]
  },
  {
   "cell_type": "code",
   "execution_count": 108,
   "id": "82b163cd-fc4f-4b5e-99c5-b716386543d2",
   "metadata": {},
   "outputs": [
    {
     "data": {
      "image/png": "[encoded data removed]",
      "text/plain": [
       "<Figure size 600x400 with 1 Axes>"
      ]
     },
     "metadata": {},
     "output_type": "display_data"
    }
   ],
   "source": [
    "# find the global minimum\n",
    "best_idx = np.argmin(oob_errors)\n",
    "best_ntrees = tree_range[best_idx]\n",
    "        \n",
    "plt.figure(figsize=(6, 4))\n",
    "plt.plot(tree_range, oob_errors, label=\"OOB Error\")\n",
    "plt.axvline(best_ntrees, color='red', linestyle='--', label=f\"Selected n trees = {best_ntrees}\")\n",
    "plt.grid(True, linestyle='--', alpha=0.5)\n",
    "plt.title(\"OOB Error vs. Number of Trees\")\n",
    "plt.xlabel(\"Number of Trees\")\n",
    "plt.ylabel(\"OOB Error\")\n",
    "plt.legend()\n",
    "plt.show()"
   ]
  },
  {
   "cell_type": "code",
   "execution_count": 109,
   "id": "3ebd219a-6c23-4cca-953e-8f27ff07e6db",
   "metadata": {},
   "outputs": [
    {
     "data": {
      "text/plain": [
       "80"
      ]
     },
     "execution_count": 109,
     "metadata": {},
     "output_type": "execute_result"
    }
   ],
   "source": [
    "best_ntrees"
   ]
  },
  {
   "cell_type": "code",
   "execution_count": 110,
   "id": "f6896523-6e58-4157-9c94-95f0c9df2226",
   "metadata": {},
   "outputs": [
    {
     "data": {
      "text/plain": [
       "0.03625683613530484"
      ]
     },
     "execution_count": 110,
     "metadata": {},
     "output_type": "execute_result"
    }
   ],
   "source": [
    "oob_errors[tree_range.index(best_ntrees)]"
   ]
  },
  {
   "cell_type": "markdown",
   "id": "ba2137f4-eefa-4fd9-803f-9c7bf50e59f9",
   "metadata": {},
   "source": [
    "### 2. Feature importances"
   ]
  },
  {
   "cell_type": "markdown",
   "id": "0097c895-1a86-4ff2-b676-8249cb4cd1ea",
   "metadata": {},
   "source": [
    " Find out the most informative features"
   ]
  },
  {
   "cell_type": "code",
   "execution_count": 111,
   "id": "11fd575b-2dfd-42a4-a4a6-85b9ef32f0f9",
   "metadata": {},
   "outputs": [],
   "source": [
    "# calculate the importance score of each feature based on the informationgain\n",
    "rf_sel = RandomForestClassifier(n_estimators=best_ntrees, n_jobs=-1, random_state=42)\n",
    "rf_sel.fit(X, y)\n",
    "importances = rf_sel.feature_importances_\n",
    "indices = np.argsort(importances)[::-1]"
   ]
  },
  {
   "cell_type": "markdown",
   "id": "81b0e5a9-8202-4619-a093-04b1d2dce615",
   "metadata": {},
   "source": [
    "Draw the data"
   ]
  },
  {
   "cell_type": "code",
   "execution_count": 112,
   "id": "441ce7c1-04c2-44fb-81fb-5fc6b467c16e",
   "metadata": {},
   "outputs": [
    {
     "data": {
      "image/png": "[encoded data removed]",
      "text/plain": [
       "<Figure size 640x480 with 1 Axes>"
      ]
     },
     "metadata": {},
     "output_type": "display_data"
    }
   ],
   "source": [
    "top_n = 20\n",
    "plt.figure()\n",
    "plt.bar(range(top_n), importances[indices][:top_n])\n",
    "plt.xticks(range(top_n), [X.columns[i] for i in indices[:top_n]], rotation=90)\n",
    "plt.title(\"Top 20 Feature Importances\")\n",
    "plt.xlabel(\"Feature\")\n",
    "plt.ylabel(\"Importance\")\n",
    "plt.tight_layout()\n",
    "plt.show()"
   ]
  },
  {
   "cell_type": "markdown",
   "id": "91ff2fd3-ff39-4a35-8f12-95608ce5ab9f",
   "metadata": {},
   "source": [
    "### 3. Feature Selection"
   ]
  },
  {
   "cell_type": "markdown",
   "id": "888878c5-efa7-4fc4-a72d-28bab7324a0f",
   "metadata": {},
   "source": [
    "### 3.1. Eliminate by feature–feature correlations"
   ]
  },
  {
   "cell_type": "code",
   "execution_count": 113,
   "id": "d14bfc64-82fd-4ff7-a22e-b68f1bb2cf4f",
   "metadata": {},
   "outputs": [
    {
     "name": "stdout",
     "output_type": "stream",
     "text": [
      "Feature pairs with |r| bigger then 0.8:\n",
      "\n",
      "* feature url_length           is highly correlated with special_char_count   : r = 0.897\n"
     ]
    }
   ],
   "source": [
    "corr = X.corr().abs() # correlation matrix\n",
    "\n",
    "upper = corr.where(np.triu(np.ones(corr.shape), k=1).astype(bool))\n",
    "\n",
    "# Find index pairs where correlation bigger then 0.8\n",
    "high_corr_pairs = [\n",
    "    (upper.columns[i], upper.columns[j], upper.iat[i, j])\n",
    "    for i in range(len(upper.columns))\n",
    "    for j in range(i+1, len(upper.columns))\n",
    "    if upper.iat[i, j] >= 0.8\n",
    "]\n",
    "\n",
    "print(\"Feature pairs with |r| bigger then 0.8:\\n\")\n",
    "for f1, f2, r in high_corr_pairs:\n",
    "    print(f\"* feature {f1:20s} is highly correlated with {f2:20s} : r = {r:.3f}\")\n"
   ]
  },
  {
   "cell_type": "markdown",
   "id": "517b7912-2f37-41fd-9b09-86f3e1db2c8c",
   "metadata": {},
   "source": [
    "1) We will drop special_char_count sing we have already seen that url_length is the 1st importance feature, so special_char_count adds almost no new information."
   ]
  },
  {
   "cell_type": "markdown",
   "id": "3912fc14-7429-4f13-b740-8c5da1db8d1e",
   "metadata": {},
   "source": [
    "#### Drop correlated columns"
   ]
  },
  {
   "cell_type": "code",
   "execution_count": 114,
   "id": "8255ca5e-139d-460e-ba66-322b82d1077a",
   "metadata": {},
   "outputs": [],
   "source": [
    "to_drop = [\"special_char_count\"]\n",
    "X_reduced = X.drop(columns=to_drop)\n",
    "\n",
    "# Retain all features ordered by importance\n",
    "orig_order = [X.columns[i] for i in indices]\n",
    "ordered_feats = [f for f in orig_order if f in X_reduced.columns]"
   ]
  },
  {
   "cell_type": "markdown",
   "id": "eb8ccbfa-a608-4848-b90f-6e5509bdd565",
   "metadata": {},
   "source": [
    "### 3.2 Wrapper-Based Feature Selection"
   ]
  },
  {
   "cell_type": "markdown",
   "id": "e4400d7d-7ea1-46a6-bd5f-775355a6769a",
   "metadata": {},
   "source": [
    "We care about making the TPR >= 0.98 and minimizing the FPR.\n",
    "We want to choose the smallest feature‐set that minimizes false alerts under this recall constraint ensuring that the vast majority of phishing attempts are correctly identified.\n",
    "So for each k, we compute the ROC curve and find the FPR at the point where TPR >= 0.98 to return the k where FPR is the lowest."
   ]
  },
  {
   "cell_type": "markdown",
   "id": "8a7328bf-2e1b-40ec-a332-677875b6b04c",
   "metadata": {},
   "source": [
    "Build models on the top n features for n = 1…N and cross‐validate each n"
   ]
  },
  {
   "cell_type": "code",
   "execution_count": 153,
   "id": "c8a09349-a44f-4635-ada1-b3bf8189f7d2",
   "metadata": {},
   "outputs": [],
   "source": [
    "# Define number of features to evaluate\n",
    "ns = list(range(1, len(ordered_feats) + 1))\n",
    "\n",
    "skf = StratifiedKFold(n_splits=5, shuffle=True, random_state=42)\n",
    "results = []\n",
    "\n",
    "for n in ns:\n",
    "    feats = ordered_feats[:n] \n",
    "    oof_true, oof_prob = [], []  # Collect out-of-fold labels and predicted probabilities\n",
    "\n",
    "    for tr_idx, te_idx in skf.split(X_reduced[feats], y):\n",
    "        clf = RandomForestClassifier(n_estimators=best_ntrees, random_state=42)\n",
    "        clf.fit(X_reduced.iloc[tr_idx][feats], y[tr_idx])\n",
    "        probs = clf.predict_proba(X_reduced.iloc[te_idx][feats])[:, 1]\n",
    "\n",
    "        oof_true.extend(y[te_idx])\n",
    "        oof_prob.extend(probs)\n",
    "\n",
    "    # Compute ROC curve for all predictions\n",
    "    fpr, tpr, thresholds = roc_curve(oof_true, oof_prob)\n",
    "\n",
    "    # Find first threshold where TPR >= 98%\n",
    "    idx98 = np.argmax(tpr >= 0.96)\n",
    "    threshold_98 = thresholds[idx98]\n",
    "    fpr_98 = fpr[idx98]\n",
    "\n",
    "    results.append((n, threshold_98, fpr_98))\n",
    "\n"
   ]
  },
  {
   "cell_type": "code",
   "execution_count": 154,
   "id": "0cf89341-a9fb-44a9-8748-d361df606c78",
   "metadata": {},
   "outputs": [
    {
     "data": {
      "text/plain": [
       "[(1, 0.02402040979424116, 0.6243857493857494),\n",
       " (2, 0.0447172619047619, 0.24232186732186733),\n",
       " (3, 0.2, 0.13206388206388206),\n",
       " (4, 0.275, 0.06388206388206388),\n",
       " (5, 0.275, 0.057432432432432436),\n",
       " (6, 0.2625, 0.06357493857493858),\n",
       " (7, 0.2375, 0.06695331695331695),\n",
       " (8, 0.3, 0.04391891891891892),\n",
       " (9, 0.2875, 0.05036855036855037),\n",
       " (10, 0.2875, 0.05067567567567568),\n",
       " (11, 0.3, 0.044533169533169534),\n",
       " (12, 0.2875, 0.05006142506142506),\n",
       " (13, 0.275, 0.05036855036855037),\n",
       " (14, 0.3, 0.04269041769041769),\n",
       " (15, 0.3, 0.04207616707616708),\n",
       " (16, 0.325, 0.036855036855036855),\n",
       " (17, 0.2875, 0.04668304668304668),\n",
       " (18, 0.3, 0.0433046683046683),\n",
       " (19, 0.3, 0.04269041769041769)]"
      ]
     },
     "execution_count": 154,
     "metadata": {},
     "output_type": "execute_result"
    }
   ],
   "source": [
    "results"
   ]
  },
  {
   "cell_type": "markdown",
   "id": "04450dc5-a31c-4f5a-80da-b0e5454d7e0a",
   "metadata": {},
   "source": [
    "We will select the smallest n feature‐set for which no further meaningful reduction in FPR is achieved."
   ]
  },
  {
   "cell_type": "code",
   "execution_count": 155,
   "id": "2a3913e6-c1af-4fdc-8b05-aa7561e97e05",
   "metadata": {},
   "outputs": [
    {
     "name": "stdout",
     "output_type": "stream",
     "text": [
      "Selected n = 16 features (FPR = 0.036855, Thr = 0.325000)\n"
     ]
    }
   ],
   "source": [
    "fprs = [fpr for (_, _, fpr) in results]\n",
    "min_fpr = min(fprs)\n",
    "\n",
    "best_n, best_thr, best_fpr = min(results, key=lambda x: x[2])\n",
    "\n",
    "tol = 0.005\n",
    "best_n, best_thr, best_fpr = next(\n",
    "    (n, thr, fpr) \n",
    "    for (n, thr, fpr) in results \n",
    "    if fpr <= min_fpr + tol\n",
    ")\n",
    "\n",
    "print(f\"Selected n = {best_n} features (FPR = {best_fpr:.6f}, Thr = {best_thr:.6f})\")"
   ]
  },
  {
   "cell_type": "markdown",
   "id": "068f159c-73e8-473e-9861-55587fa2aa4b",
   "metadata": {},
   "source": [
    "Draw the data"
   ]
  },
  {
   "cell_type": "code",
   "execution_count": 156,
   "id": "51e0eec6-9265-4863-a54b-60dd9ed6c66c",
   "metadata": {},
   "outputs": [
    {
     "data": {
      "image/png": "[encoded data removed]",
      "text/plain": [
       "<Figure size 600x400 with 1 Axes>"
      ]
     },
     "metadata": {},
     "output_type": "display_data"
    }
   ],
   "source": [
    "ns, thresholds, fprs = zip(*results)\n",
    "\n",
    "plt.figure(figsize=(6, 4))\n",
    "plt.plot(ns, fprs, marker='o', color='royalblue', label=\"FPR where TPR at least 98%\")\n",
    "plt.axvline(best_n, color='red', linestyle='--', label=f\"Selected n = {best_n}\")\n",
    "plt.title(\"FPR vs. Number of Selected Features\\nWhere TPR At Least 98%\")\n",
    "plt.xlabel(\"Number of Features (n)\")\n",
    "plt.ylabel(\"False Positive Rate (FPR)\")\n",
    "plt.ylim(0, max(fprs)*1.1)\n",
    "plt.xticks(ns)\n",
    "plt.grid(True, linestyle='--', alpha=0.5)\n",
    "plt.legend()\n",
    "plt.tight_layout()\n",
    "plt.show()"
   ]
  },
  {
   "cell_type": "markdown",
   "id": "9f7fd041-83e6-447e-b98e-2afbcb9326c9",
   "metadata": {},
   "source": [
    "We Choose the smallest k whose FPR where TPR-98% is the lowest."
   ]
  },
  {
   "cell_type": "code",
   "execution_count": 134,
   "id": "06e5ab7b-f966-40bd-8e1b-33008385fa4f",
   "metadata": {},
   "outputs": [
    {
     "name": "stdout",
     "output_type": "stream",
     "text": [
      "Selected n = 9 features\n",
      "Threshold achieving TPR at least 98% : 0.163\n",
      "corresponding FPR: 0.100\n"
     ]
    }
   ],
   "source": [
    "print(f\"Selected n = {best_n} features\")\n",
    "print(f\"Threshold achieving TPR at least 98% : {best_thr:.3f}\")\n",
    "print(f\"corresponding FPR: {best_fpr:.3f}\")"
   ]
  },
  {
   "cell_type": "markdown",
   "id": "6d9cbeae-ad52-42c4-b752-6f8a75b8c4d5",
   "metadata": {},
   "source": [
    "#### Select the optimal subset among 20 features."
   ]
  },
  {
   "cell_type": "code",
   "execution_count": 137,
   "id": "cf6be17a-ccf6-4dda-b8eb-13d7f84f2687",
   "metadata": {},
   "outputs": [
    {
     "name": "stdout",
     "output_type": "stream",
     "text": [
      "selected_features:  ['entropy', 'url_length', 'pageLoadTime', 'subdomain_length', 'memoryUsed', 'domMutationCount', 'dot_count', 'eventListenerCount', 'attributeMutationCount']\n"
     ]
    }
   ],
   "source": [
    "selected_features = ordered_feats[:best_n]\n",
    "print(\"selected_features: \", selected_features)\n",
    "\n",
    "X_sel = X_reduced[selected_features]"
   ]
  },
  {
   "cell_type": "markdown",
   "id": "213c4134-7f33-4ace-96d6-676fff6a18e8",
   "metadata": {},
   "source": [
    "### 4. ROC curve using the final selected features and model"
   ]
  },
  {
   "cell_type": "markdown",
   "id": "dae92809-e116-4d34-b407-0b18a4f391c8",
   "metadata": {},
   "source": [
    "We will check the usage of different thresholds from 0 to 1 since different threshold for classification can\n",
    "lead to different performance of the classifier. \n",
    "We compute the ROC curve (and AUC) on these 5-fold predictions to get a nearly unbiased estimate of how our chosen feature set generalizes, and identify the false‐positive rate at the threshold where recall (TPR) first reaches 98 %. "
   ]
  },
  {
   "cell_type": "code",
   "execution_count": 139,
   "id": "2fd2570b-9159-428d-afe6-cb6265a511a9",
   "metadata": {},
   "outputs": [],
   "source": [
    "feats = selected_features\n",
    "skf = StratifiedKFold(n_splits=5, shuffle=True, random_state=42)\n",
    "oof_true, oof_prob = [], []"
   ]
  },
  {
   "cell_type": "code",
   "execution_count": 86,
   "id": "9227a8b2-9cf5-4846-8fca-08f2d53beb0d",
   "metadata": {},
   "outputs": [],
   "source": [
    "for tr_idx, te_idx in skf.split(X_sel[feats], y):\n",
    "    clf = RandomForestClassifier(n_estimators=best_ntrees, random_state=42)\n",
    "    clf.fit(X_sel.iloc[tr_idx][feats], y[tr_idx])\n",
    "    probs = clf.predict_proba(X_sel.iloc[te_idx][feats])[:, 1]\n",
    "    oof_true.extend(y[te_idx])\n",
    "    oof_prob.extend(probs)\n",
    "\n",
    "from sklearn.metrics import roc_curve, roc_auc_score\n",
    "\n",
    "fpr_oof, tpr_oof, thr_oof = roc_curve(oof_true, oof_prob)\n",
    "auc_oof = roc_auc_score(oof_true, oof_prob)\n",
    "idx_oof = np.argmax(tpr_oof >= 0.98)\n",
    "fpr_oof_sel, tpr_oof_sel = fpr_oof[idx_oof], tpr_oof[idx_oof]"
   ]
  },
  {
   "cell_type": "code",
   "execution_count": 87,
   "id": "6eaaa98d-93e2-4900-a4da-bde1476a8fdb",
   "metadata": {},
   "outputs": [
    {
     "data": {
      "image/png": "[encoded data removed]",
      "text/plain": [
       "<Figure size 600x400 with 1 Axes>"
      ]
     },
     "metadata": {},
     "output_type": "display_data"
    }
   ],
   "source": [
    "plt.figure(figsize=(6, 4))\n",
    "plt.plot(fpr_arr, tpr_arr, label=\"ROC Curve\")\n",
    "plt.xlabel(\"False Positive Rate\")\n",
    "plt.ylabel(\"True Positive Rate\")\n",
    "plt.title(\"ROC Curve on Final Selected Features\")\n",
    "plt.legend()\n",
    "plt.show()"
   ]
  },
  {
   "cell_type": "code",
   "execution_count": 138,
   "id": "03f39ada-40a3-48da-86d7-9f72ae56ac11",
   "metadata": {},
   "outputs": [
    {
     "name": "stdout",
     "output_type": "stream",
     "text": [
      "Optimal threshold:  0.1625\n"
     ]
    }
   ],
   "source": [
    "print(\"Optimal threshold: \", best_thr)"
   ]
  },
  {
   "cell_type": "markdown",
   "id": "d27701df-b1b4-4f05-a833-cb024d716777",
   "metadata": {},
   "source": [
    "### 5. Final Cross-Validated Evaluation (Fixed Features & Threshold)"
   ]
  },
  {
   "cell_type": "markdown",
   "id": "72f8ee83-616e-4612-a7e9-195590a46041",
   "metadata": {},
   "source": [
    "Decided to use 5-folds for evaluation"
   ]
  },
  {
   "cell_type": "code",
   "execution_count": 50,
   "id": "23425334-13fe-4927-b1d0-dd970cbbec52",
   "metadata": {},
   "outputs": [],
   "source": [
    "skf = StratifiedKFold(n_splits=5, shuffle=True, random_state=42)\n",
    "\n",
    "precisions = []\n",
    "recalls = []\n",
    "f1s = []\n",
    "fprs = []\n",
    "tprs = []\n",
    "\n",
    "for train_idx, test_idx in skf.split(X_sel, y):\n",
    "    X_train, X_test = X_sel.iloc[train_idx], X_sel.iloc[test_idx]\n",
    "    y_train, y_test = y.iloc[train_idx], y.iloc[test_idx]\n",
    "\n",
    "    model = RandomForestClassifier(n_estimators=best_ntrees, random_state=42)\n",
    "    model.fit(X_train, y_train)\n",
    "\n",
    "    y_probs = model.predict_proba(X_test)[:, 1]\n",
    "    y_pred = (y_probs >= best_thr).astype(int)\n",
    "\n",
    "    cm = confusion_matrix(y_test, y_pred)\n",
    "    tp, fn, fp, tn = cm[1,1], cm[1,0], cm[0,1], cm[0,0]\n",
    "\n",
    "    precisions.append(precision_score(y_test, y_pred))\n",
    "    recalls.append(recall_score(y_test, y_pred))\n",
    "    f1s.append(f1_score(y_test, y_pred))\n",
    "    tprs.append(tp / (tp + fn))\n",
    "    fprs.append(fp / (fp + tn))"
   ]
  },
  {
   "cell_type": "code",
   "execution_count": 51,
   "id": "12b9cf5c-9f5e-43f5-bab2-2926375316ae",
   "metadata": {},
   "outputs": [
    {
     "name": "stdout",
     "output_type": "stream",
     "text": [
      "Cross-Validation Performance:\n",
      "\n",
      "Precision: 0.8861\n",
      "Recall (TPR): 0.9804\n",
      "False Positive Rate (FPR): 0.0780\n",
      "F1 Score: 0.9308\n"
     ]
    }
   ],
   "source": [
    "# Print mean scores\n",
    "print(\"Cross-Validation Performance:\\n\")\n",
    "print(f\"Precision: {np.mean(precisions):.4f}\")\n",
    "print(f\"Recall (TPR): {np.mean(tprs):.4f}\")\n",
    "print(f\"False Positive Rate (FPR): {np.mean(fprs):.4f}\")\n",
    "print(f\"F1 Score: {np.mean(f1s):.4f}\")"
   ]
  },
  {
   "cell_type": "markdown",
   "id": "cb457737-99bf-41ed-967b-e0e4e70ca386",
   "metadata": {},
   "source": [
    "## DELETE AFTER: Export the model to the extension!!"
   ]
  },
  {
   "cell_type": "markdown",
   "id": "b927d0ce-4988-4b85-b722-d74dc405572b",
   "metadata": {},
   "source": [
    "## Train the final model"
   ]
  },
  {
   "cell_type": "code",
   "execution_count": 29,
   "id": "8ebb9780-ee2b-472e-9e52-11c323a65b66",
   "metadata": {},
   "outputs": [
    {
     "data": {
      "text/html": [
       "<style>#sk-container-id-1 {color: black;background-color: white;}#sk-container-id-1 pre{padding: 0;}#sk-container-id-1 div.sk-toggleable {background-color: white;}#sk-container-id-1 label.sk-toggleable__label {cursor: pointer;display: block;width: 100%;margin-bottom: 0;padding: 0.3em;box-sizing: border-box;text-align: center;}#sk-container-id-1 label.sk-toggleable__label-arrow:before {content: \"▸\";float: left;margin-right: 0.25em;color: #696969;}#sk-container-id-1 label.sk-toggleable__label-arrow:hover:before {color: black;}#sk-container-id-1 div.sk-estimator:hover label.sk-toggleable__label-arrow:before {color: black;}#sk-container-id-1 div.sk-toggleable__content {max-height: 0;max-width: 0;overflow: hidden;text-align: left;background-color: #f0f8ff;}#sk-container-id-1 div.sk-toggleable__content pre {margin: 0.2em;color: black;border-radius: 0.25em;background-color: #f0f8ff;}#sk-container-id-1 input.sk-toggleable__control:checked~div.sk-toggleable__content {max-height: 200px;max-width: 100%;overflow: auto;}#sk-container-id-1 input.sk-toggleable__control:checked~label.sk-toggleable__label-arrow:before {content: \"▾\";}#sk-container-id-1 div.sk-estimator input.sk-toggleable__control:checked~label.sk-toggleable__label {background-color: #d4ebff;}#sk-container-id-1 div.sk-label input.sk-toggleable__control:checked~label.sk-toggleable__label {background-color: #d4ebff;}#sk-container-id-1 input.sk-hidden--visually {border: 0;clip: rect(1px 1px 1px 1px);clip: rect(1px, 1px, 1px, 1px);height: 1px;margin: -1px;overflow: hidden;padding: 0;position: absolute;width: 1px;}#sk-container-id-1 div.sk-estimator {font-family: monospace;background-color: #f0f8ff;border: 1px dotted black;border-radius: 0.25em;box-sizing: border-box;margin-bottom: 0.5em;}#sk-container-id-1 div.sk-estimator:hover {background-color: #d4ebff;}#sk-container-id-1 div.sk-parallel-item::after {content: \"\";width: 100%;border-bottom: 1px solid gray;flex-grow: 1;}#sk-container-id-1 div.sk-label:hover label.sk-toggleable__label {background-color: #d4ebff;}#sk-container-id-1 div.sk-serial::before {content: \"\";position: absolute;border-left: 1px solid gray;box-sizing: border-box;top: 0;bottom: 0;left: 50%;z-index: 0;}#sk-container-id-1 div.sk-serial {display: flex;flex-direction: column;align-items: center;background-color: white;padding-right: 0.2em;padding-left: 0.2em;position: relative;}#sk-container-id-1 div.sk-item {position: relative;z-index: 1;}#sk-container-id-1 div.sk-parallel {display: flex;align-items: stretch;justify-content: center;background-color: white;position: relative;}#sk-container-id-1 div.sk-item::before, #sk-container-id-1 div.sk-parallel-item::before {content: \"\";position: absolute;border-left: 1px solid gray;box-sizing: border-box;top: 0;bottom: 0;left: 50%;z-index: -1;}#sk-container-id-1 div.sk-parallel-item {display: flex;flex-direction: column;z-index: 1;position: relative;background-color: white;}#sk-container-id-1 div.sk-parallel-item:first-child::after {align-self: flex-end;width: 50%;}#sk-container-id-1 div.sk-parallel-item:last-child::after {align-self: flex-start;width: 50%;}#sk-container-id-1 div.sk-parallel-item:only-child::after {width: 0;}#sk-container-id-1 div.sk-dashed-wrapped {border: 1px dashed gray;margin: 0 0.4em 0.5em 0.4em;box-sizing: border-box;padding-bottom: 0.4em;background-color: white;}#sk-container-id-1 div.sk-label label {font-family: monospace;font-weight: bold;display: inline-block;line-height: 1.2em;}#sk-container-id-1 div.sk-label-container {text-align: center;}#sk-container-id-1 div.sk-container {/* jupyter's `normalize.less` sets `[hidden] { display: none; }` but bootstrap.min.css set `[hidden] { display: none !important; }` so we also need the `!important` here to be able to override the default hidden behavior on the sphinx rendered scikit-learn.org. See: https://github.com/scikit-learn/scikit-learn/issues/21755 */display: inline-block !important;position: relative;}#sk-container-id-1 div.sk-text-repr-fallback {display: none;}</style><div id=\"sk-container-id-1\" class=\"sk-top-container\"><div class=\"sk-text-repr-fallback\"><pre>RandomForestClassifier(n_estimators=130, random_state=42)</pre><b>In a Jupyter environment, please rerun this cell to show the HTML representation or trust the notebook. <br />On GitHub, the HTML representation is unable to render, please try loading this page with nbviewer.org.</b></div><div class=\"sk-container\" hidden><div class=\"sk-item\"><div class=\"sk-estimator sk-toggleable\"><input class=\"sk-toggleable__control sk-hidden--visually\" id=\"sk-estimator-id-1\" type=\"checkbox\" checked><label for=\"sk-estimator-id-1\" class=\"sk-toggleable__label sk-toggleable__label-arrow\">RandomForestClassifier</label><div class=\"sk-toggleable__content\"><pre>RandomForestClassifier(n_estimators=130, random_state=42)</pre></div></div></div></div></div>"
      ],
      "text/plain": [
       "RandomForestClassifier(n_estimators=130, random_state=42)"
      ]
     },
     "execution_count": 29,
     "metadata": {},
     "output_type": "execute_result"
    }
   ],
   "source": [
    "final_model = RandomForestClassifier(n_estimators=best_ntrees, random_state=42)\n",
    "final_model.fit(X_sel, y)"
   ]
  },
  {
   "cell_type": "markdown",
   "id": "c34942e2-b9f6-44d1-9efe-68f835ed2e45",
   "metadata": {},
   "source": [
    "1. save the model to a pkl file"
   ]
  },
  {
   "cell_type": "code",
   "execution_count": 30,
   "id": "8035c076-a18f-48ca-b1fb-4af6e927ee6a",
   "metadata": {},
   "outputs": [
    {
     "data": {
      "text/plain": [
       "['rf_model.pkl']"
      ]
     },
     "execution_count": 30,
     "metadata": {},
     "output_type": "execute_result"
    }
   ],
   "source": [
    "joblib.dump(final_model, \"rf_model.pkl\")"
   ]
  },
  {
   "cell_type": "markdown",
   "id": "9b54332b-b7fc-4a3e-9d37-24579659bcac",
   "metadata": {},
   "source": [
    "2. use m2cgen to emit JS"
   ]
  },
  {
   "cell_type": "code",
   "execution_count": 31,
   "id": "eabd55ae-f611-460a-9c8a-298773f75bed",
   "metadata": {},
   "outputs": [],
   "source": [
    "rf = joblib.load(\"rf_model.pkl\")\n",
    "js_code = m2c.export_to_javascript(rf, function_name=\"predictPhishScore\")\n",
    "\n",
    "# write it into the extension folder\n",
    "with open(\"./SimpleExtension/predict_model.js\", \"w\") as f:\n",
    "    f.write(js_code)"
   ]
  }
 ],
 "metadata": {
  "kernelspec": {
   "display_name": "Python 3 (ipykernel)",
   "language": "python",
   "name": "python3"
  },
  "language_info": {
   "codemirror_mode": {
    "name": "ipython",
    "version": 3
   },
   "file_extension": ".py",
   "mimetype": "text/x-python",
   "name": "python",
   "nbconvert_exporter": "python",
   "pygments_lexer": "ipython3",
   "version": "3.9.19"
  }
 },
 "nbformat": 4,
 "nbformat_minor": 5
}
