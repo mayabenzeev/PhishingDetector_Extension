{
 "cells": [
  {
   "cell_type": "markdown",
   "id": "bd60b3b0-18d9-4f3c-94da-3aa4d49d3784",
   "metadata": {},
   "source": [
    "# Phishing URL Dataset Analysis"
   ]
  },
  {
   "cell_type": "code",
   "execution_count": 116,
   "id": "6e6bdca5-eb22-4066-a53d-ac596100f875",
   "metadata": {},
   "outputs": [],
   "source": [
    "# !pip install m2cgen\n",
    "import warnings\n",
    "warnings.filterwarnings('ignore', category=UserWarning)\n",
    "\n",
    "import pandas as pd\n",
    "import numpy as np\n",
    "import time\n",
    "import matplotlib.pyplot as plt\n",
    "from sklearn.ensemble import RandomForestClassifier\n",
    "from sklearn.model_selection import StratifiedKFold, cross_val_score, train_test_split\n",
    "from sklearn.metrics import (\n",
    "    precision_score, recall_score, f1_score,\n",
    "    confusion_matrix, roc_curve\n",
    ")\n",
    "import joblib\n",
    "import m2cgen as m2c"
   ]
  },
  {
   "cell_type": "markdown",
   "id": "1525333c-01f9-4e01-be91-8bf1e1a9b54b",
   "metadata": {},
   "source": [
    "### Load the precomputed dataset"
   ]
  },
  {
   "cell_type": "code",
   "execution_count": 147,
   "id": "c057c76a-7d57-4b47-a90d-84ec09afde79",
   "metadata": {},
   "outputs": [
    {
     "name": "stdout",
     "output_type": "stream",
     "text": [
      "Analysis copy.ipynb   \u001b[34mdata_analysis\u001b[m\u001b[m/        package.json\n",
      "Analysis.ipynb        \u001b[34mdatasets\u001b[m\u001b[m/             rf_model.pkl\n",
      "\u001b[34mSimpleExtension\u001b[m\u001b[m/      \u001b[34mnode_modules\u001b[m\u001b[m/\n",
      "\u001b[34mSimpleExtension copy\u001b[m\u001b[m/ package-lock.json\n"
     ]
    }
   ],
   "source": [
    "ls"
   ]
  },
  {
   "cell_type": "code",
   "execution_count": 148,
   "id": "30e18149-4f9d-453b-ae1f-15b9c5456578",
   "metadata": {},
   "outputs": [],
   "source": [
    "df = pd.read_csv(\"datasets/features.csv\")"
   ]
  },
  {
   "cell_type": "code",
   "execution_count": 149,
   "id": "9c19c253-284a-4dcc-b309-61af79a934f0",
   "metadata": {},
   "outputs": [],
   "source": [
    "df_pos = df[df['label'] == 1].sample(n=500, random_state=42)\n",
    "df_neg = df[df['label'] == 0].sample(n=2000, random_state=42)\n",
    "df_sub = pd.concat([df_pos, df_neg]) \\\n",
    "           .sample(frac=1, random_state=42) \\\n",
    "           .reset_index(drop=True)\n",
    "df = df_sub"
   ]
  },
  {
   "cell_type": "code",
   "execution_count": 150,
   "id": "c67eaa54-e41b-46fa-b2e7-0da49ff86362",
   "metadata": {},
   "outputs": [],
   "source": [
    "X = df.drop([\"label\",\"url\"], axis=1)\n",
    "y = df[\"label\"]"
   ]
  },
  {
   "cell_type": "code",
   "execution_count": 151,
   "id": "58cead74-05ee-4f19-b059-f9a5cdec8075",
   "metadata": {},
   "outputs": [
    {
     "data": {
      "text/html": [
       "<div>\n",
       "<style scoped>\n",
       "    .dataframe tbody tr th:only-of-type {\n",
       "        vertical-align: middle;\n",
       "    }\n",
       "\n",
       "    .dataframe tbody tr th {\n",
       "        vertical-align: top;\n",
       "    }\n",
       "\n",
       "    .dataframe thead th {\n",
       "        text-align: right;\n",
       "    }\n",
       "</style>\n",
       "<table border=\"1\" class=\"dataframe\">\n",
       "  <thead>\n",
       "    <tr style=\"text-align: right;\">\n",
       "      <th></th>\n",
       "      <th>url</th>\n",
       "      <th>url_length</th>\n",
       "      <th>dot_count</th>\n",
       "      <th>has_at</th>\n",
       "      <th>special_char_count</th>\n",
       "      <th>entropy</th>\n",
       "      <th>suspicious_keywords</th>\n",
       "      <th>subdomain_length</th>\n",
       "      <th>is_free_hosting</th>\n",
       "      <th>has_hyphen</th>\n",
       "      <th>...</th>\n",
       "      <th>fetchCount</th>\n",
       "      <th>xhrCount</th>\n",
       "      <th>wsCount</th>\n",
       "      <th>scriptInjectionCount</th>\n",
       "      <th>eventListenerCount</th>\n",
       "      <th>domMutationCount</th>\n",
       "      <th>attributeMutationCount</th>\n",
       "      <th>pageLoadTime</th>\n",
       "      <th>memoryUsed</th>\n",
       "      <th>label</th>\n",
       "    </tr>\n",
       "  </thead>\n",
       "  <tbody>\n",
       "    <tr>\n",
       "      <th>0</th>\n",
       "      <td>https://www.nationalgeographic.com/history</td>\n",
       "      <td>42</td>\n",
       "      <td>2</td>\n",
       "      <td>0</td>\n",
       "      <td>0</td>\n",
       "      <td>3.767183</td>\n",
       "      <td>0</td>\n",
       "      <td>3</td>\n",
       "      <td>0</td>\n",
       "      <td>0</td>\n",
       "      <td>...</td>\n",
       "      <td>8</td>\n",
       "      <td>12</td>\n",
       "      <td>0</td>\n",
       "      <td>41</td>\n",
       "      <td>430</td>\n",
       "      <td>10</td>\n",
       "      <td>0</td>\n",
       "      <td>12640.8</td>\n",
       "      <td>68000000</td>\n",
       "      <td>0</td>\n",
       "    </tr>\n",
       "    <tr>\n",
       "      <th>1</th>\n",
       "      <td>https://www.yelp.com/writeareview</td>\n",
       "      <td>33</td>\n",
       "      <td>2</td>\n",
       "      <td>0</td>\n",
       "      <td>0</td>\n",
       "      <td>3.022055</td>\n",
       "      <td>0</td>\n",
       "      <td>3</td>\n",
       "      <td>0</td>\n",
       "      <td>0</td>\n",
       "      <td>...</td>\n",
       "      <td>2</td>\n",
       "      <td>2</td>\n",
       "      <td>0</td>\n",
       "      <td>7</td>\n",
       "      <td>213</td>\n",
       "      <td>8</td>\n",
       "      <td>0</td>\n",
       "      <td>10460.9</td>\n",
       "      <td>19300000</td>\n",
       "      <td>0</td>\n",
       "    </tr>\n",
       "    <tr>\n",
       "      <th>2</th>\n",
       "      <td>https://www.atlassian.com/collections/teamwork</td>\n",
       "      <td>46</td>\n",
       "      <td>2</td>\n",
       "      <td>0</td>\n",
       "      <td>0</td>\n",
       "      <td>3.292770</td>\n",
       "      <td>0</td>\n",
       "      <td>3</td>\n",
       "      <td>0</td>\n",
       "      <td>0</td>\n",
       "      <td>...</td>\n",
       "      <td>5</td>\n",
       "      <td>2</td>\n",
       "      <td>0</td>\n",
       "      <td>23</td>\n",
       "      <td>607</td>\n",
       "      <td>85</td>\n",
       "      <td>0</td>\n",
       "      <td>11259.5</td>\n",
       "      <td>33100000</td>\n",
       "      <td>0</td>\n",
       "    </tr>\n",
       "    <tr>\n",
       "      <th>3</th>\n",
       "      <td>https://lineshop.biz</td>\n",
       "      <td>20</td>\n",
       "      <td>1</td>\n",
       "      <td>0</td>\n",
       "      <td>0</td>\n",
       "      <td>3.418296</td>\n",
       "      <td>0</td>\n",
       "      <td>0</td>\n",
       "      <td>0</td>\n",
       "      <td>0</td>\n",
       "      <td>...</td>\n",
       "      <td>0</td>\n",
       "      <td>0</td>\n",
       "      <td>0</td>\n",
       "      <td>0</td>\n",
       "      <td>1</td>\n",
       "      <td>0</td>\n",
       "      <td>1</td>\n",
       "      <td>6129.0</td>\n",
       "      <td>10000000</td>\n",
       "      <td>0</td>\n",
       "    </tr>\n",
       "    <tr>\n",
       "      <th>4</th>\n",
       "      <td>https://pikabu.ru/communities</td>\n",
       "      <td>29</td>\n",
       "      <td>1</td>\n",
       "      <td>0</td>\n",
       "      <td>0</td>\n",
       "      <td>2.947703</td>\n",
       "      <td>0</td>\n",
       "      <td>0</td>\n",
       "      <td>0</td>\n",
       "      <td>0</td>\n",
       "      <td>...</td>\n",
       "      <td>10</td>\n",
       "      <td>14</td>\n",
       "      <td>1</td>\n",
       "      <td>12</td>\n",
       "      <td>1417</td>\n",
       "      <td>52</td>\n",
       "      <td>0</td>\n",
       "      <td>14946.9</td>\n",
       "      <td>64000000</td>\n",
       "      <td>0</td>\n",
       "    </tr>\n",
       "    <tr>\n",
       "      <th>...</th>\n",
       "      <td>...</td>\n",
       "      <td>...</td>\n",
       "      <td>...</td>\n",
       "      <td>...</td>\n",
       "      <td>...</td>\n",
       "      <td>...</td>\n",
       "      <td>...</td>\n",
       "      <td>...</td>\n",
       "      <td>...</td>\n",
       "      <td>...</td>\n",
       "      <td>...</td>\n",
       "      <td>...</td>\n",
       "      <td>...</td>\n",
       "      <td>...</td>\n",
       "      <td>...</td>\n",
       "      <td>...</td>\n",
       "      <td>...</td>\n",
       "      <td>...</td>\n",
       "      <td>...</td>\n",
       "      <td>...</td>\n",
       "      <td>...</td>\n",
       "    </tr>\n",
       "    <tr>\n",
       "      <th>2495</th>\n",
       "      <td>https://www.miwifi.com/miwifi_faq.html</td>\n",
       "      <td>38</td>\n",
       "      <td>2</td>\n",
       "      <td>0</td>\n",
       "      <td>0</td>\n",
       "      <td>2.610577</td>\n",
       "      <td>0</td>\n",
       "      <td>3</td>\n",
       "      <td>0</td>\n",
       "      <td>0</td>\n",
       "      <td>...</td>\n",
       "      <td>0</td>\n",
       "      <td>2</td>\n",
       "      <td>0</td>\n",
       "      <td>72</td>\n",
       "      <td>43</td>\n",
       "      <td>0</td>\n",
       "      <td>0</td>\n",
       "      <td>13935.6</td>\n",
       "      <td>10000000</td>\n",
       "      <td>0</td>\n",
       "    </tr>\n",
       "    <tr>\n",
       "      <th>2496</th>\n",
       "      <td>https://marijuana.com</td>\n",
       "      <td>21</td>\n",
       "      <td>1</td>\n",
       "      <td>0</td>\n",
       "      <td>0</td>\n",
       "      <td>3.180833</td>\n",
       "      <td>0</td>\n",
       "      <td>0</td>\n",
       "      <td>0</td>\n",
       "      <td>0</td>\n",
       "      <td>...</td>\n",
       "      <td>0</td>\n",
       "      <td>2</td>\n",
       "      <td>0</td>\n",
       "      <td>2</td>\n",
       "      <td>6</td>\n",
       "      <td>8</td>\n",
       "      <td>0</td>\n",
       "      <td>7024.0</td>\n",
       "      <td>10000000</td>\n",
       "      <td>0</td>\n",
       "    </tr>\n",
       "    <tr>\n",
       "      <th>2497</th>\n",
       "      <td>https://mailchimp.com/pricing/marketing/</td>\n",
       "      <td>40</td>\n",
       "      <td>1</td>\n",
       "      <td>0</td>\n",
       "      <td>0</td>\n",
       "      <td>3.026987</td>\n",
       "      <td>0</td>\n",
       "      <td>0</td>\n",
       "      <td>0</td>\n",
       "      <td>0</td>\n",
       "      <td>...</td>\n",
       "      <td>27</td>\n",
       "      <td>25</td>\n",
       "      <td>0</td>\n",
       "      <td>159</td>\n",
       "      <td>2699</td>\n",
       "      <td>230</td>\n",
       "      <td>0</td>\n",
       "      <td>15957.4</td>\n",
       "      <td>42100000</td>\n",
       "      <td>0</td>\n",
       "    </tr>\n",
       "    <tr>\n",
       "      <th>2498</th>\n",
       "      <td>https://truyentranh3q.com</td>\n",
       "      <td>25</td>\n",
       "      <td>1</td>\n",
       "      <td>0</td>\n",
       "      <td>0</td>\n",
       "      <td>3.734522</td>\n",
       "      <td>0</td>\n",
       "      <td>0</td>\n",
       "      <td>0</td>\n",
       "      <td>0</td>\n",
       "      <td>...</td>\n",
       "      <td>30</td>\n",
       "      <td>1</td>\n",
       "      <td>0</td>\n",
       "      <td>5</td>\n",
       "      <td>1542</td>\n",
       "      <td>0</td>\n",
       "      <td>39</td>\n",
       "      <td>8530.0</td>\n",
       "      <td>10000000</td>\n",
       "      <td>0</td>\n",
       "    </tr>\n",
       "    <tr>\n",
       "      <th>2499</th>\n",
       "      <td>https://oursogo.com</td>\n",
       "      <td>19</td>\n",
       "      <td>1</td>\n",
       "      <td>0</td>\n",
       "      <td>0</td>\n",
       "      <td>2.732159</td>\n",
       "      <td>0</td>\n",
       "      <td>0</td>\n",
       "      <td>0</td>\n",
       "      <td>0</td>\n",
       "      <td>...</td>\n",
       "      <td>1</td>\n",
       "      <td>2</td>\n",
       "      <td>0</td>\n",
       "      <td>2</td>\n",
       "      <td>157</td>\n",
       "      <td>0</td>\n",
       "      <td>0</td>\n",
       "      <td>8942.0</td>\n",
       "      <td>10000000</td>\n",
       "      <td>0</td>\n",
       "    </tr>\n",
       "  </tbody>\n",
       "</table>\n",
       "<p>2500 rows × 22 columns</p>\n",
       "</div>"
      ],
      "text/plain": [
       "                                                 url  url_length  dot_count  \\\n",
       "0         https://www.nationalgeographic.com/history          42          2   \n",
       "1                  https://www.yelp.com/writeareview          33          2   \n",
       "2     https://www.atlassian.com/collections/teamwork          46          2   \n",
       "3                               https://lineshop.biz          20          1   \n",
       "4                      https://pikabu.ru/communities          29          1   \n",
       "...                                              ...         ...        ...   \n",
       "2495          https://www.miwifi.com/miwifi_faq.html          38          2   \n",
       "2496                           https://marijuana.com          21          1   \n",
       "2497        https://mailchimp.com/pricing/marketing/          40          1   \n",
       "2498                       https://truyentranh3q.com          25          1   \n",
       "2499                             https://oursogo.com          19          1   \n",
       "\n",
       "      has_at  special_char_count   entropy  suspicious_keywords  \\\n",
       "0          0                   0  3.767183                    0   \n",
       "1          0                   0  3.022055                    0   \n",
       "2          0                   0  3.292770                    0   \n",
       "3          0                   0  3.418296                    0   \n",
       "4          0                   0  2.947703                    0   \n",
       "...      ...                 ...       ...                  ...   \n",
       "2495       0                   0  2.610577                    0   \n",
       "2496       0                   0  3.180833                    0   \n",
       "2497       0                   0  3.026987                    0   \n",
       "2498       0                   0  3.734522                    0   \n",
       "2499       0                   0  2.732159                    0   \n",
       "\n",
       "      subdomain_length  is_free_hosting  has_hyphen  ...  fetchCount  \\\n",
       "0                    3                0           0  ...           8   \n",
       "1                    3                0           0  ...           2   \n",
       "2                    3                0           0  ...           5   \n",
       "3                    0                0           0  ...           0   \n",
       "4                    0                0           0  ...          10   \n",
       "...                ...              ...         ...  ...         ...   \n",
       "2495                 3                0           0  ...           0   \n",
       "2496                 0                0           0  ...           0   \n",
       "2497                 0                0           0  ...          27   \n",
       "2498                 0                0           0  ...          30   \n",
       "2499                 0                0           0  ...           1   \n",
       "\n",
       "      xhrCount  wsCount  scriptInjectionCount  eventListenerCount  \\\n",
       "0           12        0                    41                 430   \n",
       "1            2        0                     7                 213   \n",
       "2            2        0                    23                 607   \n",
       "3            0        0                     0                   1   \n",
       "4           14        1                    12                1417   \n",
       "...        ...      ...                   ...                 ...   \n",
       "2495         2        0                    72                  43   \n",
       "2496         2        0                     2                   6   \n",
       "2497        25        0                   159                2699   \n",
       "2498         1        0                     5                1542   \n",
       "2499         2        0                     2                 157   \n",
       "\n",
       "      domMutationCount  attributeMutationCount  pageLoadTime  memoryUsed  \\\n",
       "0                   10                       0       12640.8    68000000   \n",
       "1                    8                       0       10460.9    19300000   \n",
       "2                   85                       0       11259.5    33100000   \n",
       "3                    0                       1        6129.0    10000000   \n",
       "4                   52                       0       14946.9    64000000   \n",
       "...                ...                     ...           ...         ...   \n",
       "2495                 0                       0       13935.6    10000000   \n",
       "2496                 8                       0        7024.0    10000000   \n",
       "2497               230                       0       15957.4    42100000   \n",
       "2498                 0                      39        8530.0    10000000   \n",
       "2499                 0                       0        8942.0    10000000   \n",
       "\n",
       "      label  \n",
       "0         0  \n",
       "1         0  \n",
       "2         0  \n",
       "3         0  \n",
       "4         0  \n",
       "...     ...  \n",
       "2495      0  \n",
       "2496      0  \n",
       "2497      0  \n",
       "2498      0  \n",
       "2499      0  \n",
       "\n",
       "[2500 rows x 22 columns]"
      ]
     },
     "execution_count": 151,
     "metadata": {},
     "output_type": "execute_result"
    }
   ],
   "source": [
    "df"
   ]
  },
  {
   "cell_type": "markdown",
   "id": "6bc96444-ef38-475e-9ab1-6259c2fba235",
   "metadata": {},
   "source": [
    "### 1. Optimize n_estimators via OOB error"
   ]
  },
  {
   "cell_type": "code",
   "execution_count": 152,
   "id": "2289f8f1-d1fe-4b66-b474-c2c08f3f2b44",
   "metadata": {},
   "outputs": [],
   "source": [
    "tree_range = list(range(10, 301, 10))\n",
    "oob_errors = []\n",
    "for n in tree_range:\n",
    "    rf = RandomForestClassifier(n_estimators=n, oob_score=True, n_jobs=-1, random_state=42)\n",
    "    rf.fit(X, y)\n",
    "    oob_errors.append(1 - rf.oob_score_)"
   ]
  },
  {
   "cell_type": "code",
   "execution_count": 153,
   "id": "7bed8d3d-56d0-4ee5-a66b-ed99615d070b",
   "metadata": {},
   "outputs": [
    {
     "name": "stdout",
     "output_type": "stream",
     "text": [
      "label\n",
      "0    2000\n",
      "1     500\n",
      "Name: count, dtype: int64\n"
     ]
    }
   ],
   "source": [
    "# verify labels\n",
    "print(y.value_counts())\n"
   ]
  },
  {
   "cell_type": "markdown",
   "id": "3de529c5-ab86-48ca-8e99-efe493bbdab2",
   "metadata": {},
   "source": [
    "draw the data"
   ]
  },
  {
   "cell_type": "code",
   "execution_count": 154,
   "id": "82b163cd-fc4f-4b5e-99c5-b716386543d2",
   "metadata": {},
   "outputs": [
    {
     "data": {
      "image/png": "[encoded data removed]",
      "text/plain": [
       "<Figure size 600x400 with 1 Axes>"
      ]
     },
     "metadata": {},
     "output_type": "display_data"
    }
   ],
   "source": [
    "# find the global minimum\n",
    "best_idx = np.argmin(oob_errors)\n",
    "best_ntrees = tree_range[best_idx]\n",
    "        \n",
    "plt.figure(figsize=(6, 4))\n",
    "plt.plot(tree_range, oob_errors, label=\"OOB Error\")\n",
    "plt.axvline(best_ntrees, color='red', linestyle='--', label=f\"Selected n trees = {best_ntrees}\")\n",
    "plt.grid(True, linestyle='--', alpha=0.5)\n",
    "plt.title(\"OOB Error vs. Number of Trees\")\n",
    "plt.xlabel(\"Number of Trees\")\n",
    "plt.ylabel(\"OOB Error\")\n",
    "plt.legend()\n",
    "plt.show()"
   ]
  },
  {
   "cell_type": "code",
   "execution_count": 155,
   "id": "3ebd219a-6c23-4cca-953e-8f27ff07e6db",
   "metadata": {},
   "outputs": [
    {
     "data": {
      "text/plain": [
       "90"
      ]
     },
     "execution_count": 155,
     "metadata": {},
     "output_type": "execute_result"
    }
   ],
   "source": [
    "best_ntrees"
   ]
  },
  {
   "cell_type": "code",
   "execution_count": 156,
   "id": "f6896523-6e58-4157-9c94-95f0c9df2226",
   "metadata": {},
   "outputs": [
    {
     "data": {
      "text/plain": [
       "0.023599999999999954"
      ]
     },
     "execution_count": 156,
     "metadata": {},
     "output_type": "execute_result"
    }
   ],
   "source": [
    "oob_errors[tree_range.index(best_ntrees)]"
   ]
  },
  {
   "cell_type": "markdown",
   "id": "ba2137f4-eefa-4fd9-803f-9c7bf50e59f9",
   "metadata": {},
   "source": [
    "### 2. Feature importances"
   ]
  },
  {
   "cell_type": "markdown",
   "id": "0097c895-1a86-4ff2-b676-8249cb4cd1ea",
   "metadata": {},
   "source": [
    " Find out the most informative features"
   ]
  },
  {
   "cell_type": "code",
   "execution_count": 157,
   "id": "11fd575b-2dfd-42a4-a4a6-85b9ef32f0f9",
   "metadata": {},
   "outputs": [],
   "source": [
    "# calculate the importance score of each feature based on the informationgain\n",
    "rf_sel = RandomForestClassifier(n_estimators=best_ntrees, n_jobs=-1, random_state=42)\n",
    "rf_sel.fit(X, y)\n",
    "importances = rf_sel.feature_importances_\n",
    "indices = np.argsort(importances)[::-1]"
   ]
  },
  {
   "cell_type": "markdown",
   "id": "81b0e5a9-8202-4619-a093-04b1d2dce615",
   "metadata": {},
   "source": [
    "Draw the data"
   ]
  },
  {
   "cell_type": "code",
   "execution_count": 158,
   "id": "441ce7c1-04c2-44fb-81fb-5fc6b467c16e",
   "metadata": {},
   "outputs": [
    {
     "data": {
      "image/png": "[encoded data removed]",
      "text/plain": [
       "<Figure size 640x480 with 1 Axes>"
      ]
     },
     "metadata": {},
     "output_type": "display_data"
    }
   ],
   "source": [
    "top_n = 19\n",
    "plt.figure()\n",
    "plt.bar(range(top_n), importances[indices][:top_n])\n",
    "plt.xticks(range(top_n), [X.columns[i] for i in indices[:top_n]], rotation=90)\n",
    "plt.title(\"Top 19 Feature Importances\")\n",
    "plt.xlabel(\"Feature\")\n",
    "plt.ylabel(\"Importance\")\n",
    "plt.tight_layout()\n",
    "plt.show()"
   ]
  },
  {
   "cell_type": "markdown",
   "id": "91ff2fd3-ff39-4a35-8f12-95608ce5ab9f",
   "metadata": {},
   "source": [
    "### 3. Feature Selection"
   ]
  },
  {
   "cell_type": "markdown",
   "id": "888878c5-efa7-4fc4-a72d-28bab7324a0f",
   "metadata": {},
   "source": [
    "### 3.1. Eliminate by feature–feature correlations"
   ]
  },
  {
   "cell_type": "code",
   "execution_count": 159,
   "id": "d14bfc64-82fd-4ff7-a22e-b68f1bb2cf4f",
   "metadata": {},
   "outputs": [
    {
     "name": "stdout",
     "output_type": "stream",
     "text": [
      "Feature pairs with |r| bigger then 0.8:\n",
      "\n",
      "* feature url_length           is highly correlated with special_char_count   : r = 0.921\n"
     ]
    }
   ],
   "source": [
    "corr = X.corr().abs() # correlation matrix\n",
    "\n",
    "upper = corr.where(np.triu(np.ones(corr.shape), k=1).astype(bool))\n",
    "\n",
    "# Find index pairs where correlation bigger then 0.8\n",
    "high_corr_pairs = [\n",
    "    (upper.columns[i], upper.columns[j], upper.iat[i, j])\n",
    "    for i in range(len(upper.columns))\n",
    "    for j in range(i+1, len(upper.columns))\n",
    "    if upper.iat[i, j] >= 0.8\n",
    "]\n",
    "\n",
    "print(\"Feature pairs with |r| bigger then 0.8:\\n\")\n",
    "for f1, f2, r in high_corr_pairs:\n",
    "    print(f\"* feature {f1:20s} is highly correlated with {f2:20s} : r = {r:.3f}\")\n"
   ]
  },
  {
   "cell_type": "markdown",
   "id": "517b7912-2f37-41fd-9b09-86f3e1db2c8c",
   "metadata": {},
   "source": [
    "##### We will drop special_char_count sing we have already seen that url_length is the 1st importance feature, so special_char_count adds almost no new information."
   ]
  },
  {
   "cell_type": "markdown",
   "id": "3912fc14-7429-4f13-b740-8c5da1db8d1e",
   "metadata": {},
   "source": [
    "#### Drop correlated columns"
   ]
  },
  {
   "cell_type": "code",
   "execution_count": 160,
   "id": "8255ca5e-139d-460e-ba66-322b82d1077a",
   "metadata": {},
   "outputs": [],
   "source": [
    "to_drop = [\"special_char_count\"]\n",
    "X_reduced = X.drop(columns=to_drop)\n",
    "\n",
    "# Retain all features ordered by importance\n",
    "orig_order = [X.columns[i] for i in indices]\n",
    "ordered_feats = [f for f in orig_order if f in X_reduced.columns]"
   ]
  },
  {
   "cell_type": "markdown",
   "id": "eb8ccbfa-a608-4848-b90f-6e5509bdd565",
   "metadata": {},
   "source": [
    "### 3.2 Wrapper-Based Feature Selection"
   ]
  },
  {
   "cell_type": "markdown",
   "id": "e4400d7d-7ea1-46a6-bd5f-775355a6769a",
   "metadata": {},
   "source": [
    "We care about making the TPR >= 0.97 and minimizing the FPR.\n",
    "We want to choose the smallest feature‐set that minimizes false alerts under this recall constraint ensuring that the vast majority of phishing attempts are correctly identified.\n",
    "So for each k, we compute the ROC curve and find the FPR at the point where TPR >= 0.97 to return the k where FPR is the lowest."
   ]
  },
  {
   "cell_type": "markdown",
   "id": "8a7328bf-2e1b-40ec-a332-677875b6b04c",
   "metadata": {},
   "source": [
    "Build models on the top n features for n = 1…N and cross‐validate each n"
   ]
  },
  {
   "cell_type": "code",
   "execution_count": 161,
   "id": "c8a09349-a44f-4635-ada1-b3bf8189f7d2",
   "metadata": {},
   "outputs": [],
   "source": [
    "# Define number of features to evaluate\n",
    "ns = list(range(1, len(ordered_feats) + 1))\n",
    "\n",
    "skf = StratifiedKFold(n_splits=5, shuffle=True, random_state=42)\n",
    "results = []\n",
    "\n",
    "for n in ns:\n",
    "    feats = ordered_feats[:n] \n",
    "    oof_true, oof_prob = [], []  # Collect out-of-fold labels and predicted probabilities\n",
    "\n",
    "    for tr_idx, te_idx in skf.split(X_reduced[feats], y):\n",
    "        clf = RandomForestClassifier(n_estimators=best_ntrees, random_state=42)\n",
    "        clf.fit(X_reduced.iloc[tr_idx][feats], y[tr_idx])\n",
    "        probs = clf.predict_proba(X_reduced.iloc[te_idx][feats])[:, 1]\n",
    "\n",
    "        oof_true.extend(y[te_idx])\n",
    "        oof_prob.extend(probs)\n",
    "\n",
    "    # Compute ROC curve for all predictions\n",
    "    fpr, tpr, thresholds = roc_curve(oof_true, oof_prob)\n",
    "\n",
    "    # Find first threshold where TPR >= 97%\n",
    "    idx97 = np.argmax(tpr >= 0.97)\n",
    "    threshold_97 = thresholds[idx97]\n",
    "    fpr_97 = fpr[idx97]\n",
    "\n",
    "    results.append((n, threshold_97, fpr_97))"
   ]
  },
  {
   "cell_type": "markdown",
   "id": "04450dc5-a31c-4f5a-80da-b0e5454d7e0a",
   "metadata": {},
   "source": [
    "We will select the smallest n feature‐set for which no further meaningful reduction in FPR is achieved."
   ]
  },
  {
   "cell_type": "code",
   "execution_count": 165,
   "id": "2a3913e6-c1af-4fdc-8b05-aa7561e97e05",
   "metadata": {},
   "outputs": [
    {
     "name": "stdout",
     "output_type": "stream",
     "text": [
      "Selected n = 13 features (FPR = 0.062500, Thr = 0.144444)\n"
     ]
    }
   ],
   "source": [
    "fprs = [fpr for (_, _, fpr) in results]\n",
    "min_fpr = min(fprs)\n",
    "\n",
    "best_n, best_thr, best_fpr = min(results, key=lambda x: x[2])\n",
    "\n",
    "tol = 0.0005\n",
    "best_n, best_thr, best_fpr = next(\n",
    "    (n, thr, fpr) \n",
    "    for (n, thr, fpr) in results \n",
    "    if fpr <= min_fpr + tol\n",
    ")\n",
    "\n",
    "print(f\"Selected n = {best_n} features (FPR = {best_fpr:.6f}, Thr = {best_thr:.6f})\")"
   ]
  },
  {
   "cell_type": "markdown",
   "id": "068f159c-73e8-473e-9861-55587fa2aa4b",
   "metadata": {},
   "source": [
    "Draw the data"
   ]
  },
  {
   "cell_type": "code",
   "execution_count": 166,
   "id": "51e0eec6-9265-4863-a54b-60dd9ed6c66c",
   "metadata": {},
   "outputs": [
    {
     "data": {
      "image/png": "[encoded data removed]",
      "text/plain": [
       "<Figure size 600x400 with 1 Axes>"
      ]
     },
     "metadata": {},
     "output_type": "display_data"
    }
   ],
   "source": [
    "ns, thresholds, fprs = zip(*results)\n",
    "\n",
    "plt.figure(figsize=(6, 4))\n",
    "plt.plot(ns, fprs, marker='o', color='royalblue', label=\"FPR where TPR at least 97%\")\n",
    "plt.axvline(best_n, color='red', linestyle='--', label=f\"Selected n = {best_n}\")\n",
    "plt.title(\"FPR vs. Number of Selected Features\\nWhere TPR At Least 97%\")\n",
    "plt.xlabel(\"Number of Features (n)\")\n",
    "plt.ylabel(\"False Positive Rate (FPR)\")\n",
    "plt.ylim(0, max(fprs)*1.1)\n",
    "plt.xticks(ns)\n",
    "plt.grid(True, linestyle='--', alpha=0.5)\n",
    "plt.legend()\n",
    "plt.tight_layout()\n",
    "plt.show()"
   ]
  },
  {
   "cell_type": "markdown",
   "id": "9f7fd041-83e6-447e-b98e-2afbcb9326c9",
   "metadata": {},
   "source": [
    "We Choose the smallest n whose FPR where TPR-97% is the lowest."
   ]
  },
  {
   "cell_type": "code",
   "execution_count": 167,
   "id": "06e5ab7b-f966-40bd-8e1b-33008385fa4f",
   "metadata": {},
   "outputs": [
    {
     "name": "stdout",
     "output_type": "stream",
     "text": [
      "Selected n = 13 features\n",
      "corresponding FPR: 0.062\n"
     ]
    }
   ],
   "source": [
    "print(f\"Selected n = {best_n} features\")\n",
    "print(f\"corresponding FPR: {best_fpr:.3f}\")"
   ]
  },
  {
   "cell_type": "markdown",
   "id": "6d9cbeae-ad52-42c4-b752-6f8a75b8c4d5",
   "metadata": {},
   "source": [
    "#### Select the optimal subset among 19 features."
   ]
  },
  {
   "cell_type": "code",
   "execution_count": 168,
   "id": "cf6be17a-ccf6-4dda-b8eb-13d7f84f2687",
   "metadata": {},
   "outputs": [
    {
     "name": "stdout",
     "output_type": "stream",
     "text": [
      "selected_features:  ['entropy', 'url_length', 'pageLoadTime', 'eventListenerCount', 'subdomain_length', 'memoryUsed', 'scriptInjectionCount', 'domMutationCount', 'dot_count', 'fetchCount', 'xhrCount', 'is_free_hosting', 'attributeMutationCount']\n"
     ]
    }
   ],
   "source": [
    "selected_features = ordered_feats[:best_n]\n",
    "print(\"selected_features: \", selected_features)\n",
    "\n",
    "X_sel = X_reduced[selected_features]"
   ]
  },
  {
   "cell_type": "markdown",
   "id": "213c4134-7f33-4ace-96d6-676fff6a18e8",
   "metadata": {},
   "source": [
    "### 4. ROC curve using the final selected features and model"
   ]
  },
  {
   "cell_type": "markdown",
   "id": "dae92809-e116-4d34-b407-0b18a4f391c8",
   "metadata": {},
   "source": [
    "Plotting the ROC curve of the final model trained on **all** data."
   ]
  },
  {
   "cell_type": "code",
   "execution_count": 169,
   "id": "2fd2570b-9159-428d-afe6-cb6265a511a9",
   "metadata": {},
   "outputs": [],
   "source": [
    "feats = selected_features\n",
    "skf = StratifiedKFold(n_splits=5, shuffle=True, random_state=42)\n",
    "oof_true, oof_prob = [], []"
   ]
  },
  {
   "cell_type": "code",
   "execution_count": 170,
   "id": "9227a8b2-9cf5-4846-8fca-08f2d53beb0d",
   "metadata": {},
   "outputs": [],
   "source": [
    "for tr_idx, te_idx in skf.split(X_sel[feats], y):\n",
    "    clf = RandomForestClassifier(n_estimators=best_ntrees, random_state=42)\n",
    "    clf.fit(X_sel.iloc[tr_idx][feats], y[tr_idx])\n",
    "    probs = clf.predict_proba(X_sel.iloc[te_idx][feats])[:, 1]\n",
    "    oof_true.extend(y[te_idx])\n",
    "    oof_prob.extend(probs)\n",
    "    \n",
    "fpr_oof, tpr_oof, thr_oof = roc_curve(oof_true, oof_prob)\n",
    "auc_oof = roc_auc_score(oof_true, oof_prob)\n",
    "idx_oof = np.argmax(tpr_oof >= 0.97)\n",
    "fpr_oof_sel, tpr_oof_sel = fpr_oof[idx_oof], tpr_oof[idx_oof]"
   ]
  },
  {
   "cell_type": "code",
   "execution_count": 171,
   "id": "6eaaa98d-93e2-4900-a4da-bde1476a8fdb",
   "metadata": {},
   "outputs": [
    {
     "data": {
      "image/png": "[encoded data removed]",
      "text/plain": [
       "<Figure size 600x400 with 1 Axes>"
      ]
     },
     "metadata": {},
     "output_type": "display_data"
    }
   ],
   "source": [
    "plt.figure(figsize=(6, 4))\n",
    "plt.plot(fpr_oof, tpr_oof, label=\"ROC Curve\")\n",
    "plt.xlabel(\"False Positive Rate\")\n",
    "plt.ylabel(\"True Positive Rate\")\n",
    "plt.title(\"ROC Curve on Final Selected Features\")\n",
    "plt.legend()\n",
    "plt.show()"
   ]
  },
  {
   "cell_type": "markdown",
   "id": "5a12d9fc-d604-46dc-86c4-7fe8a7fa0d63",
   "metadata": {},
   "source": [
    "The ROC curve shows it almost perfectly separates phishing from benign URLs. The threshold we picked sits in a region with few false alarms, confirming our choice. "
   ]
  },
  {
   "cell_type": "code",
   "execution_count": 172,
   "id": "03f39ada-40a3-48da-86d7-9f72ae56ac11",
   "metadata": {},
   "outputs": [
    {
     "name": "stdout",
     "output_type": "stream",
     "text": [
      "Optimal threshold:  0.14444444444444443\n"
     ]
    }
   ],
   "source": [
    "print(\"Optimal threshold: \", best_thr)"
   ]
  },
  {
   "cell_type": "markdown",
   "id": "d27701df-b1b4-4f05-a833-cb024d716777",
   "metadata": {},
   "source": [
    "### 5. Final Cross-Validated Evaluation (Fixed Features & Threshold)"
   ]
  },
  {
   "cell_type": "markdown",
   "id": "72f8ee83-616e-4612-a7e9-195590a46041",
   "metadata": {},
   "source": [
    "Decided to use 5-folds for evaluation"
   ]
  },
  {
   "cell_type": "code",
   "execution_count": 173,
   "id": "23425334-13fe-4927-b1d0-dd970cbbec52",
   "metadata": {},
   "outputs": [],
   "source": [
    "skf = StratifiedKFold(n_splits=5, shuffle=True, random_state=42)\n",
    "\n",
    "precisions = []\n",
    "recalls = []\n",
    "f1s = []\n",
    "fprs = []\n",
    "tprs = []\n",
    "\n",
    "for train_idx, test_idx in skf.split(X_sel, y):\n",
    "    X_train, X_test = X_sel.iloc[train_idx], X_sel.iloc[test_idx]\n",
    "    y_train, y_test = y.iloc[train_idx], y.iloc[test_idx]\n",
    "\n",
    "    model = RandomForestClassifier(n_estimators=best_ntrees, random_state=42)\n",
    "    model.fit(X_train, y_train)\n",
    "\n",
    "    y_probs = model.predict_proba(X_test)[:, 1]\n",
    "    y_pred = (y_probs >= best_thr).astype(int)\n",
    "\n",
    "    cm = confusion_matrix(y_test, y_pred)\n",
    "    tp, fn, fp, tn = cm[1,1], cm[1,0], cm[0,1], cm[0,0]\n",
    "\n",
    "    precisions.append(precision_score(y_test, y_pred))\n",
    "    recalls.append(recall_score(y_test, y_pred))\n",
    "    f1s.append(f1_score(y_test, y_pred))\n",
    "    tprs.append(tp / (tp + fn))\n",
    "    fprs.append(fp / (fp + tn))"
   ]
  },
  {
   "cell_type": "code",
   "execution_count": 174,
   "id": "12b9cf5c-9f5e-43f5-bab2-2926375316ae",
   "metadata": {},
   "outputs": [
    {
     "name": "stdout",
     "output_type": "stream",
     "text": [
      "Cross-Validation Performance:\n",
      "\n",
      "Precision: 0.7954\n",
      "Recall (TPR): 0.9700\n",
      "False Positive Rate (FPR): 0.0625\n",
      "F1 Score: 0.8740\n"
     ]
    }
   ],
   "source": [
    "# Print mean scores\n",
    "print(\"Cross-Validation Performance:\\n\")\n",
    "print(f\"Precision: {np.mean(precisions):.4f}\")\n",
    "print(f\"Recall (TPR): {np.mean(tprs):.4f}\")\n",
    "print(f\"False Positive Rate (FPR): {np.mean(fprs):.4f}\")\n",
    "print(f\"F1 Score: {np.mean(f1s):.4f}\")"
   ]
  },
  {
   "cell_type": "markdown",
   "id": "cb457737-99bf-41ed-967b-e0e4e70ca386",
   "metadata": {},
   "source": [
    "## DELETE AFTER: Export the model to the extension!!"
   ]
  },
  {
   "cell_type": "markdown",
   "id": "b927d0ce-4988-4b85-b722-d74dc405572b",
   "metadata": {},
   "source": [
    "## Train the final model"
   ]
  },
  {
   "cell_type": "code",
   "execution_count": 175,
   "id": "8ebb9780-ee2b-472e-9e52-11c323a65b66",
   "metadata": {},
   "outputs": [
    {
     "data": {
      "text/html": [
       "<style>#sk-container-id-3 {\n",
       "  /* Definition of color scheme common for light and dark mode */\n",
       "  --sklearn-color-text: #000;\n",
       "  --sklearn-color-text-muted: #666;\n",
       "  --sklearn-color-line: gray;\n",
       "  /* Definition of color scheme for unfitted estimators */\n",
       "  --sklearn-color-unfitted-level-0: #fff5e6;\n",
       "  --sklearn-color-unfitted-level-1: #f6e4d2;\n",
       "  --sklearn-color-unfitted-level-2: #ffe0b3;\n",
       "  --sklearn-color-unfitted-level-3: chocolate;\n",
       "  /* Definition of color scheme for fitted estimators */\n",
       "  --sklearn-color-fitted-level-0: #f0f8ff;\n",
       "  --sklearn-color-fitted-level-1: #d4ebff;\n",
       "  --sklearn-color-fitted-level-2: #b3dbfd;\n",
       "  --sklearn-color-fitted-level-3: cornflowerblue;\n",
       "\n",
       "  /* Specific color for light theme */\n",
       "  --sklearn-color-text-on-default-background: var(--sg-text-color, var(--theme-code-foreground, var(--jp-content-font-color1, black)));\n",
       "  --sklearn-color-background: var(--sg-background-color, var(--theme-background, var(--jp-layout-color0, white)));\n",
       "  --sklearn-color-border-box: var(--sg-text-color, var(--theme-code-foreground, var(--jp-content-font-color1, black)));\n",
       "  --sklearn-color-icon: #696969;\n",
       "\n",
       "  @media (prefers-color-scheme: dark) {\n",
       "    /* Redefinition of color scheme for dark theme */\n",
       "    --sklearn-color-text-on-default-background: var(--sg-text-color, var(--theme-code-foreground, var(--jp-content-font-color1, white)));\n",
       "    --sklearn-color-background: var(--sg-background-color, var(--theme-background, var(--jp-layout-color0, #111)));\n",
       "    --sklearn-color-border-box: var(--sg-text-color, var(--theme-code-foreground, var(--jp-content-font-color1, white)));\n",
       "    --sklearn-color-icon: #878787;\n",
       "  }\n",
       "}\n",
       "\n",
       "#sk-container-id-3 {\n",
       "  color: var(--sklearn-color-text);\n",
       "}\n",
       "\n",
       "#sk-container-id-3 pre {\n",
       "  padding: 0;\n",
       "}\n",
       "\n",
       "#sk-container-id-3 input.sk-hidden--visually {\n",
       "  border: 0;\n",
       "  clip: rect(1px 1px 1px 1px);\n",
       "  clip: rect(1px, 1px, 1px, 1px);\n",
       "  height: 1px;\n",
       "  margin: -1px;\n",
       "  overflow: hidden;\n",
       "  padding: 0;\n",
       "  position: absolute;\n",
       "  width: 1px;\n",
       "}\n",
       "\n",
       "#sk-container-id-3 div.sk-dashed-wrapped {\n",
       "  border: 1px dashed var(--sklearn-color-line);\n",
       "  margin: 0 0.4em 0.5em 0.4em;\n",
       "  box-sizing: border-box;\n",
       "  padding-bottom: 0.4em;\n",
       "  background-color: var(--sklearn-color-background);\n",
       "}\n",
       "\n",
       "#sk-container-id-3 div.sk-container {\n",
       "  /* jupyter's `normalize.less` sets `[hidden] { display: none; }`\n",
       "     but bootstrap.min.css set `[hidden] { display: none !important; }`\n",
       "     so we also need the `!important` here to be able to override the\n",
       "     default hidden behavior on the sphinx rendered scikit-learn.org.\n",
       "     See: https://github.com/scikit-learn/scikit-learn/issues/21755 */\n",
       "  display: inline-block !important;\n",
       "  position: relative;\n",
       "}\n",
       "\n",
       "#sk-container-id-3 div.sk-text-repr-fallback {\n",
       "  display: none;\n",
       "}\n",
       "\n",
       "div.sk-parallel-item,\n",
       "div.sk-serial,\n",
       "div.sk-item {\n",
       "  /* draw centered vertical line to link estimators */\n",
       "  background-image: linear-gradient(var(--sklearn-color-text-on-default-background), var(--sklearn-color-text-on-default-background));\n",
       "  background-size: 2px 100%;\n",
       "  background-repeat: no-repeat;\n",
       "  background-position: center center;\n",
       "}\n",
       "\n",
       "/* Parallel-specific style estimator block */\n",
       "\n",
       "#sk-container-id-3 div.sk-parallel-item::after {\n",
       "  content: \"\";\n",
       "  width: 100%;\n",
       "  border-bottom: 2px solid var(--sklearn-color-text-on-default-background);\n",
       "  flex-grow: 1;\n",
       "}\n",
       "\n",
       "#sk-container-id-3 div.sk-parallel {\n",
       "  display: flex;\n",
       "  align-items: stretch;\n",
       "  justify-content: center;\n",
       "  background-color: var(--sklearn-color-background);\n",
       "  position: relative;\n",
       "}\n",
       "\n",
       "#sk-container-id-3 div.sk-parallel-item {\n",
       "  display: flex;\n",
       "  flex-direction: column;\n",
       "}\n",
       "\n",
       "#sk-container-id-3 div.sk-parallel-item:first-child::after {\n",
       "  align-self: flex-end;\n",
       "  width: 50%;\n",
       "}\n",
       "\n",
       "#sk-container-id-3 div.sk-parallel-item:last-child::after {\n",
       "  align-self: flex-start;\n",
       "  width: 50%;\n",
       "}\n",
       "\n",
       "#sk-container-id-3 div.sk-parallel-item:only-child::after {\n",
       "  width: 0;\n",
       "}\n",
       "\n",
       "/* Serial-specific style estimator block */\n",
       "\n",
       "#sk-container-id-3 div.sk-serial {\n",
       "  display: flex;\n",
       "  flex-direction: column;\n",
       "  align-items: center;\n",
       "  background-color: var(--sklearn-color-background);\n",
       "  padding-right: 1em;\n",
       "  padding-left: 1em;\n",
       "}\n",
       "\n",
       "\n",
       "/* Toggleable style: style used for estimator/Pipeline/ColumnTransformer box that is\n",
       "clickable and can be expanded/collapsed.\n",
       "- Pipeline and ColumnTransformer use this feature and define the default style\n",
       "- Estimators will overwrite some part of the style using the `sk-estimator` class\n",
       "*/\n",
       "\n",
       "/* Pipeline and ColumnTransformer style (default) */\n",
       "\n",
       "#sk-container-id-3 div.sk-toggleable {\n",
       "  /* Default theme specific background. It is overwritten whether we have a\n",
       "  specific estimator or a Pipeline/ColumnTransformer */\n",
       "  background-color: var(--sklearn-color-background);\n",
       "}\n",
       "\n",
       "/* Toggleable label */\n",
       "#sk-container-id-3 label.sk-toggleable__label {\n",
       "  cursor: pointer;\n",
       "  display: flex;\n",
       "  width: 100%;\n",
       "  margin-bottom: 0;\n",
       "  padding: 0.5em;\n",
       "  box-sizing: border-box;\n",
       "  text-align: center;\n",
       "  align-items: start;\n",
       "  justify-content: space-between;\n",
       "  gap: 0.5em;\n",
       "}\n",
       "\n",
       "#sk-container-id-3 label.sk-toggleable__label .caption {\n",
       "  font-size: 0.6rem;\n",
       "  font-weight: lighter;\n",
       "  color: var(--sklearn-color-text-muted);\n",
       "}\n",
       "\n",
       "#sk-container-id-3 label.sk-toggleable__label-arrow:before {\n",
       "  /* Arrow on the left of the label */\n",
       "  content: \"▸\";\n",
       "  float: left;\n",
       "  margin-right: 0.25em;\n",
       "  color: var(--sklearn-color-icon);\n",
       "}\n",
       "\n",
       "#sk-container-id-3 label.sk-toggleable__label-arrow:hover:before {\n",
       "  color: var(--sklearn-color-text);\n",
       "}\n",
       "\n",
       "/* Toggleable content - dropdown */\n",
       "\n",
       "#sk-container-id-3 div.sk-toggleable__content {\n",
       "  max-height: 0;\n",
       "  max-width: 0;\n",
       "  overflow: hidden;\n",
       "  text-align: left;\n",
       "  /* unfitted */\n",
       "  background-color: var(--sklearn-color-unfitted-level-0);\n",
       "}\n",
       "\n",
       "#sk-container-id-3 div.sk-toggleable__content.fitted {\n",
       "  /* fitted */\n",
       "  background-color: var(--sklearn-color-fitted-level-0);\n",
       "}\n",
       "\n",
       "#sk-container-id-3 div.sk-toggleable__content pre {\n",
       "  margin: 0.2em;\n",
       "  border-radius: 0.25em;\n",
       "  color: var(--sklearn-color-text);\n",
       "  /* unfitted */\n",
       "  background-color: var(--sklearn-color-unfitted-level-0);\n",
       "}\n",
       "\n",
       "#sk-container-id-3 div.sk-toggleable__content.fitted pre {\n",
       "  /* unfitted */\n",
       "  background-color: var(--sklearn-color-fitted-level-0);\n",
       "}\n",
       "\n",
       "#sk-container-id-3 input.sk-toggleable__control:checked~div.sk-toggleable__content {\n",
       "  /* Expand drop-down */\n",
       "  max-height: 200px;\n",
       "  max-width: 100%;\n",
       "  overflow: auto;\n",
       "}\n",
       "\n",
       "#sk-container-id-3 input.sk-toggleable__control:checked~label.sk-toggleable__label-arrow:before {\n",
       "  content: \"▾\";\n",
       "}\n",
       "\n",
       "/* Pipeline/ColumnTransformer-specific style */\n",
       "\n",
       "#sk-container-id-3 div.sk-label input.sk-toggleable__control:checked~label.sk-toggleable__label {\n",
       "  color: var(--sklearn-color-text);\n",
       "  background-color: var(--sklearn-color-unfitted-level-2);\n",
       "}\n",
       "\n",
       "#sk-container-id-3 div.sk-label.fitted input.sk-toggleable__control:checked~label.sk-toggleable__label {\n",
       "  background-color: var(--sklearn-color-fitted-level-2);\n",
       "}\n",
       "\n",
       "/* Estimator-specific style */\n",
       "\n",
       "/* Colorize estimator box */\n",
       "#sk-container-id-3 div.sk-estimator input.sk-toggleable__control:checked~label.sk-toggleable__label {\n",
       "  /* unfitted */\n",
       "  background-color: var(--sklearn-color-unfitted-level-2);\n",
       "}\n",
       "\n",
       "#sk-container-id-3 div.sk-estimator.fitted input.sk-toggleable__control:checked~label.sk-toggleable__label {\n",
       "  /* fitted */\n",
       "  background-color: var(--sklearn-color-fitted-level-2);\n",
       "}\n",
       "\n",
       "#sk-container-id-3 div.sk-label label.sk-toggleable__label,\n",
       "#sk-container-id-3 div.sk-label label {\n",
       "  /* The background is the default theme color */\n",
       "  color: var(--sklearn-color-text-on-default-background);\n",
       "}\n",
       "\n",
       "/* On hover, darken the color of the background */\n",
       "#sk-container-id-3 div.sk-label:hover label.sk-toggleable__label {\n",
       "  color: var(--sklearn-color-text);\n",
       "  background-color: var(--sklearn-color-unfitted-level-2);\n",
       "}\n",
       "\n",
       "/* Label box, darken color on hover, fitted */\n",
       "#sk-container-id-3 div.sk-label.fitted:hover label.sk-toggleable__label.fitted {\n",
       "  color: var(--sklearn-color-text);\n",
       "  background-color: var(--sklearn-color-fitted-level-2);\n",
       "}\n",
       "\n",
       "/* Estimator label */\n",
       "\n",
       "#sk-container-id-3 div.sk-label label {\n",
       "  font-family: monospace;\n",
       "  font-weight: bold;\n",
       "  display: inline-block;\n",
       "  line-height: 1.2em;\n",
       "}\n",
       "\n",
       "#sk-container-id-3 div.sk-label-container {\n",
       "  text-align: center;\n",
       "}\n",
       "\n",
       "/* Estimator-specific */\n",
       "#sk-container-id-3 div.sk-estimator {\n",
       "  font-family: monospace;\n",
       "  border: 1px dotted var(--sklearn-color-border-box);\n",
       "  border-radius: 0.25em;\n",
       "  box-sizing: border-box;\n",
       "  margin-bottom: 0.5em;\n",
       "  /* unfitted */\n",
       "  background-color: var(--sklearn-color-unfitted-level-0);\n",
       "}\n",
       "\n",
       "#sk-container-id-3 div.sk-estimator.fitted {\n",
       "  /* fitted */\n",
       "  background-color: var(--sklearn-color-fitted-level-0);\n",
       "}\n",
       "\n",
       "/* on hover */\n",
       "#sk-container-id-3 div.sk-estimator:hover {\n",
       "  /* unfitted */\n",
       "  background-color: var(--sklearn-color-unfitted-level-2);\n",
       "}\n",
       "\n",
       "#sk-container-id-3 div.sk-estimator.fitted:hover {\n",
       "  /* fitted */\n",
       "  background-color: var(--sklearn-color-fitted-level-2);\n",
       "}\n",
       "\n",
       "/* Specification for estimator info (e.g. \"i\" and \"?\") */\n",
       "\n",
       "/* Common style for \"i\" and \"?\" */\n",
       "\n",
       ".sk-estimator-doc-link,\n",
       "a:link.sk-estimator-doc-link,\n",
       "a:visited.sk-estimator-doc-link {\n",
       "  float: right;\n",
       "  font-size: smaller;\n",
       "  line-height: 1em;\n",
       "  font-family: monospace;\n",
       "  background-color: var(--sklearn-color-background);\n",
       "  border-radius: 1em;\n",
       "  height: 1em;\n",
       "  width: 1em;\n",
       "  text-decoration: none !important;\n",
       "  margin-left: 0.5em;\n",
       "  text-align: center;\n",
       "  /* unfitted */\n",
       "  border: var(--sklearn-color-unfitted-level-1) 1pt solid;\n",
       "  color: var(--sklearn-color-unfitted-level-1);\n",
       "}\n",
       "\n",
       ".sk-estimator-doc-link.fitted,\n",
       "a:link.sk-estimator-doc-link.fitted,\n",
       "a:visited.sk-estimator-doc-link.fitted {\n",
       "  /* fitted */\n",
       "  border: var(--sklearn-color-fitted-level-1) 1pt solid;\n",
       "  color: var(--sklearn-color-fitted-level-1);\n",
       "}\n",
       "\n",
       "/* On hover */\n",
       "div.sk-estimator:hover .sk-estimator-doc-link:hover,\n",
       ".sk-estimator-doc-link:hover,\n",
       "div.sk-label-container:hover .sk-estimator-doc-link:hover,\n",
       ".sk-estimator-doc-link:hover {\n",
       "  /* unfitted */\n",
       "  background-color: var(--sklearn-color-unfitted-level-3);\n",
       "  color: var(--sklearn-color-background);\n",
       "  text-decoration: none;\n",
       "}\n",
       "\n",
       "div.sk-estimator.fitted:hover .sk-estimator-doc-link.fitted:hover,\n",
       ".sk-estimator-doc-link.fitted:hover,\n",
       "div.sk-label-container:hover .sk-estimator-doc-link.fitted:hover,\n",
       ".sk-estimator-doc-link.fitted:hover {\n",
       "  /* fitted */\n",
       "  background-color: var(--sklearn-color-fitted-level-3);\n",
       "  color: var(--sklearn-color-background);\n",
       "  text-decoration: none;\n",
       "}\n",
       "\n",
       "/* Span, style for the box shown on hovering the info icon */\n",
       ".sk-estimator-doc-link span {\n",
       "  display: none;\n",
       "  z-index: 9999;\n",
       "  position: relative;\n",
       "  font-weight: normal;\n",
       "  right: .2ex;\n",
       "  padding: .5ex;\n",
       "  margin: .5ex;\n",
       "  width: min-content;\n",
       "  min-width: 20ex;\n",
       "  max-width: 50ex;\n",
       "  color: var(--sklearn-color-text);\n",
       "  box-shadow: 2pt 2pt 4pt #999;\n",
       "  /* unfitted */\n",
       "  background: var(--sklearn-color-unfitted-level-0);\n",
       "  border: .5pt solid var(--sklearn-color-unfitted-level-3);\n",
       "}\n",
       "\n",
       ".sk-estimator-doc-link.fitted span {\n",
       "  /* fitted */\n",
       "  background: var(--sklearn-color-fitted-level-0);\n",
       "  border: var(--sklearn-color-fitted-level-3);\n",
       "}\n",
       "\n",
       ".sk-estimator-doc-link:hover span {\n",
       "  display: block;\n",
       "}\n",
       "\n",
       "/* \"?\"-specific style due to the `<a>` HTML tag */\n",
       "\n",
       "#sk-container-id-3 a.estimator_doc_link {\n",
       "  float: right;\n",
       "  font-size: 1rem;\n",
       "  line-height: 1em;\n",
       "  font-family: monospace;\n",
       "  background-color: var(--sklearn-color-background);\n",
       "  border-radius: 1rem;\n",
       "  height: 1rem;\n",
       "  width: 1rem;\n",
       "  text-decoration: none;\n",
       "  /* unfitted */\n",
       "  color: var(--sklearn-color-unfitted-level-1);\n",
       "  border: var(--sklearn-color-unfitted-level-1) 1pt solid;\n",
       "}\n",
       "\n",
       "#sk-container-id-3 a.estimator_doc_link.fitted {\n",
       "  /* fitted */\n",
       "  border: var(--sklearn-color-fitted-level-1) 1pt solid;\n",
       "  color: var(--sklearn-color-fitted-level-1);\n",
       "}\n",
       "\n",
       "/* On hover */\n",
       "#sk-container-id-3 a.estimator_doc_link:hover {\n",
       "  /* unfitted */\n",
       "  background-color: var(--sklearn-color-unfitted-level-3);\n",
       "  color: var(--sklearn-color-background);\n",
       "  text-decoration: none;\n",
       "}\n",
       "\n",
       "#sk-container-id-3 a.estimator_doc_link.fitted:hover {\n",
       "  /* fitted */\n",
       "  background-color: var(--sklearn-color-fitted-level-3);\n",
       "}\n",
       "</style><div id=\"sk-container-id-3\" class=\"sk-top-container\"><div class=\"sk-text-repr-fallback\"><pre>RandomForestClassifier(n_estimators=90, random_state=42)</pre><b>In a Jupyter environment, please rerun this cell to show the HTML representation or trust the notebook. <br />On GitHub, the HTML representation is unable to render, please try loading this page with nbviewer.org.</b></div><div class=\"sk-container\" hidden><div class=\"sk-item\"><div class=\"sk-estimator fitted sk-toggleable\"><input class=\"sk-toggleable__control sk-hidden--visually\" id=\"sk-estimator-id-3\" type=\"checkbox\" checked><label for=\"sk-estimator-id-3\" class=\"sk-toggleable__label fitted sk-toggleable__label-arrow\"><div><div>RandomForestClassifier</div></div><div><a class=\"sk-estimator-doc-link fitted\" rel=\"noreferrer\" target=\"_blank\" href=\"https://scikit-learn.org/1.6/modules/generated/sklearn.ensemble.RandomForestClassifier.html\">?<span>Documentation for RandomForestClassifier</span></a><span class=\"sk-estimator-doc-link fitted\">i<span>Fitted</span></span></div></label><div class=\"sk-toggleable__content fitted\"><pre>RandomForestClassifier(n_estimators=90, random_state=42)</pre></div> </div></div></div></div>"
      ],
      "text/plain": [
       "RandomForestClassifier(n_estimators=90, random_state=42)"
      ]
     },
     "execution_count": 175,
     "metadata": {},
     "output_type": "execute_result"
    }
   ],
   "source": [
    "final_model = RandomForestClassifier(n_estimators=best_ntrees, random_state=42)\n",
    "final_model.fit(X_sel, y)"
   ]
  },
  {
   "cell_type": "markdown",
   "id": "c34942e2-b9f6-44d1-9efe-68f835ed2e45",
   "metadata": {},
   "source": [
    "1. save the model to a pkl file"
   ]
  },
  {
   "cell_type": "code",
   "execution_count": 176,
   "id": "8035c076-a18f-48ca-b1fb-4af6e927ee6a",
   "metadata": {},
   "outputs": [
    {
     "data": {
      "text/plain": [
       "['rf_model.pkl']"
      ]
     },
     "execution_count": 176,
     "metadata": {},
     "output_type": "execute_result"
    }
   ],
   "source": [
    "joblib.dump(final_model, \"rf_model.pkl\")"
   ]
  },
  {
   "cell_type": "markdown",
   "id": "9b54332b-b7fc-4a3e-9d37-24579659bcac",
   "metadata": {},
   "source": [
    "2. use m2cgen to emit JS"
   ]
  },
  {
   "cell_type": "code",
   "execution_count": 177,
   "id": "eabd55ae-f611-460a-9c8a-298773f75bed",
   "metadata": {},
   "outputs": [],
   "source": [
    "rf = joblib.load(\"rf_model.pkl\")\n",
    "\n",
    "js_code = m2c.export_to_javascript(rf, function_name=\"predictPhishScore\")\n",
    "\n",
    "# write it into the extension folder\n",
    "with open(\"./SimpleExtension/predict_model.js\", \"w\") as f:\n",
    "    f.write(js_code)"
   ]
  },
  {
   "cell_type": "code",
   "execution_count": null,
   "id": "a39a3e7f-9fac-4441-9905-48ecaddf2bd6",
   "metadata": {},
   "outputs": [],
   "source": []
  },
  {
   "cell_type": "code",
   "execution_count": null,
   "id": "24cf3c14-0d64-498e-90bd-4a98966e83b9",
   "metadata": {},
   "outputs": [],
   "source": []
  },
  {
   "cell_type": "code",
   "execution_count": null,
   "id": "12f0cc29-c009-4157-b2a4-8530b3d1444d",
   "metadata": {},
   "outputs": [],
   "source": []
  }
 ],
 "metadata": {
  "kernelspec": {
   "display_name": "Python 3 (ipykernel)",
   "language": "python",
   "name": "python3"
  },
  "language_info": {
   "codemirror_mode": {
    "name": "ipython",
    "version": 3
   },
   "file_extension": ".py",
   "mimetype": "text/x-python",
   "name": "python",
   "nbconvert_exporter": "python",
   "pygments_lexer": "ipython3",
   "version": "3.9.19"
  }
 },
 "nbformat": 4,
 "nbformat_minor": 5
}
