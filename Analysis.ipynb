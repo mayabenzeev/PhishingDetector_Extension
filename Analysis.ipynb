{
 "cells": [
  {
   "cell_type": "markdown",
   "id": "bd60b3b0-18d9-4f3c-94da-3aa4d49d3784",
   "metadata": {},
   "source": [
    "# Phishing URL Dataset Analysis"
   ]
  },
  {
   "cell_type": "code",
   "execution_count": 1,
   "id": "6e6bdca5-eb22-4066-a53d-ac596100f875",
   "metadata": {},
   "outputs": [],
   "source": [
    "import pandas as pd\n",
    "import numpy as np\n",
    "import time\n",
    "import matplotlib.pyplot as plt\n",
    "from sklearn.ensemble import RandomForestClassifier\n",
    "from sklearn.model_selection import StratifiedKFold, cross_val_score, train_test_split\n",
    "from sklearn.metrics import (\n",
    "    precision_score, recall_score, f1_score,\n",
    "    confusion_matrix, roc_curve\n",
    ")\n",
    "import joblib"
   ]
  },
  {
   "cell_type": "markdown",
   "id": "1525333c-01f9-4e01-be91-8bf1e1a9b54b",
   "metadata": {},
   "source": [
    "### Load the precomputed dataset"
   ]
  },
  {
   "cell_type": "code",
   "execution_count": 2,
   "id": "c057c76a-7d57-4b47-a90d-84ec09afde79",
   "metadata": {},
   "outputs": [
    {
     "name": "stdout",
     "output_type": "stream",
     "text": [
      " Volume in drive C has no label.\n",
      " Volume Serial Number is D41D-6D76\n",
      "\n",
      " Directory of C:\\Users\\USER\\Desktop\\Reichman\\Third yaer\\semester b\\cyber & AI\\phishing_detector_extension\\PhishingDetector_Extension\n",
      "\n",
      "05/11/2025  01:13 PM    <DIR>          .\n",
      "05/10/2025  05:33 PM    <DIR>          ..\n",
      "05/10/2025  09:40 AM               118 .gitignore\n",
      "05/10/2025  10:09 AM    <DIR>          .ipynb_checkpoints\n",
      "05/11/2025  01:13 PM           179,060 Analysis.ipynb\n",
      "05/10/2025  09:40 AM    <DIR>          data_analysis\n",
      "04/30/2025  06:52 PM           135,730 phishing_analysis 2.ipynb\n",
      "04/30/2025  06:52 PM           207,715 phishing_analysis.ipynb\n",
      "05/10/2025  05:45 PM         1,662,760 rf_model.json\n",
      "05/10/2025  06:28 PM    <DIR>          SimpleExtension\n",
      "05/10/2025  10:47 AM             3,960 trainer.py\n",
      "               6 File(s)      2,189,343 bytes\n",
      "               5 Dir(s)  875,933,974,528 bytes free\n"
     ]
    }
   ],
   "source": [
    "ls"
   ]
  },
  {
   "cell_type": "code",
   "execution_count": 3,
   "id": "c67eaa54-e41b-46fa-b2e7-0da49ff86362",
   "metadata": {},
   "outputs": [],
   "source": [
    "df = pd.read_csv(\"../datasets/features.csv\")\n",
    "X = df.drop([\"label\",\"url\"], axis=1)\n",
    "y = df[\"label\"]"
   ]
  },
  {
   "cell_type": "code",
   "execution_count": 4,
   "id": "58cead74-05ee-4f19-b059-f9a5cdec8075",
   "metadata": {},
   "outputs": [
    {
     "data": {
      "text/html": [
       "<div>\n",
       "<style scoped>\n",
       "    .dataframe tbody tr th:only-of-type {\n",
       "        vertical-align: middle;\n",
       "    }\n",
       "\n",
       "    .dataframe tbody tr th {\n",
       "        vertical-align: top;\n",
       "    }\n",
       "\n",
       "    .dataframe thead th {\n",
       "        text-align: right;\n",
       "    }\n",
       "</style>\n",
       "<table border=\"1\" class=\"dataframe\">\n",
       "  <thead>\n",
       "    <tr style=\"text-align: right;\">\n",
       "      <th></th>\n",
       "      <th>url</th>\n",
       "      <th>url_length</th>\n",
       "      <th>dot_count</th>\n",
       "      <th>has_at</th>\n",
       "      <th>special_char_count</th>\n",
       "      <th>entropy</th>\n",
       "      <th>suspicious_keywords</th>\n",
       "      <th>subdomain_length</th>\n",
       "      <th>is_free_hosting</th>\n",
       "      <th>has_hyphen</th>\n",
       "      <th>...</th>\n",
       "      <th>fetchCount</th>\n",
       "      <th>xhrCount</th>\n",
       "      <th>wsCount</th>\n",
       "      <th>scriptInjectionCount</th>\n",
       "      <th>eventListenerCount</th>\n",
       "      <th>domMutationCount</th>\n",
       "      <th>attributeMutationCount</th>\n",
       "      <th>pageLoadTime</th>\n",
       "      <th>memoryUsed</th>\n",
       "      <th>label</th>\n",
       "    </tr>\n",
       "  </thead>\n",
       "  <tbody>\n",
       "    <tr>\n",
       "      <th>0</th>\n",
       "      <td>https://kalmatron.su</td>\n",
       "      <td>20</td>\n",
       "      <td>1</td>\n",
       "      <td>0</td>\n",
       "      <td>0</td>\n",
       "      <td>3.418296</td>\n",
       "      <td>0</td>\n",
       "      <td>0</td>\n",
       "      <td>0</td>\n",
       "      <td>0</td>\n",
       "      <td>...</td>\n",
       "      <td>0</td>\n",
       "      <td>0</td>\n",
       "      <td>0</td>\n",
       "      <td>0</td>\n",
       "      <td>0</td>\n",
       "      <td>0</td>\n",
       "      <td>0</td>\n",
       "      <td>6174</td>\n",
       "      <td>10000000</td>\n",
       "      <td>0</td>\n",
       "    </tr>\n",
       "    <tr>\n",
       "      <th>1</th>\n",
       "      <td>https://mauviisephotoo.weebly.com/</td>\n",
       "      <td>34</td>\n",
       "      <td>2</td>\n",
       "      <td>0</td>\n",
       "      <td>0</td>\n",
       "      <td>3.893661</td>\n",
       "      <td>0</td>\n",
       "      <td>14</td>\n",
       "      <td>1</td>\n",
       "      <td>0</td>\n",
       "      <td>...</td>\n",
       "      <td>0</td>\n",
       "      <td>0</td>\n",
       "      <td>0</td>\n",
       "      <td>0</td>\n",
       "      <td>0</td>\n",
       "      <td>2</td>\n",
       "      <td>4</td>\n",
       "      <td>6524</td>\n",
       "      <td>12700000</td>\n",
       "      <td>1</td>\n",
       "    </tr>\n",
       "    <tr>\n",
       "      <th>2</th>\n",
       "      <td>https://ekontrol.pl</td>\n",
       "      <td>19</td>\n",
       "      <td>1</td>\n",
       "      <td>0</td>\n",
       "      <td>0</td>\n",
       "      <td>3.095795</td>\n",
       "      <td>0</td>\n",
       "      <td>0</td>\n",
       "      <td>0</td>\n",
       "      <td>0</td>\n",
       "      <td>...</td>\n",
       "      <td>0</td>\n",
       "      <td>0</td>\n",
       "      <td>0</td>\n",
       "      <td>0</td>\n",
       "      <td>0</td>\n",
       "      <td>3</td>\n",
       "      <td>243</td>\n",
       "      <td>7167</td>\n",
       "      <td>27600000</td>\n",
       "      <td>0</td>\n",
       "    </tr>\n",
       "    <tr>\n",
       "      <th>3</th>\n",
       "      <td>https://mariab.pk</td>\n",
       "      <td>17</td>\n",
       "      <td>1</td>\n",
       "      <td>0</td>\n",
       "      <td>0</td>\n",
       "      <td>2.947703</td>\n",
       "      <td>0</td>\n",
       "      <td>0</td>\n",
       "      <td>0</td>\n",
       "      <td>0</td>\n",
       "      <td>...</td>\n",
       "      <td>0</td>\n",
       "      <td>0</td>\n",
       "      <td>0</td>\n",
       "      <td>0</td>\n",
       "      <td>0</td>\n",
       "      <td>25</td>\n",
       "      <td>379</td>\n",
       "      <td>8448</td>\n",
       "      <td>26000000</td>\n",
       "      <td>0</td>\n",
       "    </tr>\n",
       "    <tr>\n",
       "      <th>4</th>\n",
       "      <td>https://dancearoundthekitchen.com</td>\n",
       "      <td>33</td>\n",
       "      <td>1</td>\n",
       "      <td>0</td>\n",
       "      <td>0</td>\n",
       "      <td>3.673270</td>\n",
       "      <td>0</td>\n",
       "      <td>0</td>\n",
       "      <td>0</td>\n",
       "      <td>0</td>\n",
       "      <td>...</td>\n",
       "      <td>0</td>\n",
       "      <td>0</td>\n",
       "      <td>0</td>\n",
       "      <td>0</td>\n",
       "      <td>0</td>\n",
       "      <td>5</td>\n",
       "      <td>0</td>\n",
       "      <td>11238</td>\n",
       "      <td>50400000</td>\n",
       "      <td>0</td>\n",
       "    </tr>\n",
       "    <tr>\n",
       "      <th>...</th>\n",
       "      <td>...</td>\n",
       "      <td>...</td>\n",
       "      <td>...</td>\n",
       "      <td>...</td>\n",
       "      <td>...</td>\n",
       "      <td>...</td>\n",
       "      <td>...</td>\n",
       "      <td>...</td>\n",
       "      <td>...</td>\n",
       "      <td>...</td>\n",
       "      <td>...</td>\n",
       "      <td>...</td>\n",
       "      <td>...</td>\n",
       "      <td>...</td>\n",
       "      <td>...</td>\n",
       "      <td>...</td>\n",
       "      <td>...</td>\n",
       "      <td>...</td>\n",
       "      <td>...</td>\n",
       "      <td>...</td>\n",
       "      <td>...</td>\n",
       "    </tr>\n",
       "    <tr>\n",
       "      <th>8177</th>\n",
       "      <td>https://new.express.adobe.com/webpage/eq9QlGn1...</td>\n",
       "      <td>51</td>\n",
       "      <td>3</td>\n",
       "      <td>0</td>\n",
       "      <td>0</td>\n",
       "      <td>3.594466</td>\n",
       "      <td>0</td>\n",
       "      <td>11</td>\n",
       "      <td>0</td>\n",
       "      <td>0</td>\n",
       "      <td>...</td>\n",
       "      <td>0</td>\n",
       "      <td>0</td>\n",
       "      <td>0</td>\n",
       "      <td>0</td>\n",
       "      <td>0</td>\n",
       "      <td>3</td>\n",
       "      <td>0</td>\n",
       "      <td>7588</td>\n",
       "      <td>148000000</td>\n",
       "      <td>1</td>\n",
       "    </tr>\n",
       "    <tr>\n",
       "      <th>8178</th>\n",
       "      <td>https://cyberpoint.com</td>\n",
       "      <td>22</td>\n",
       "      <td>1</td>\n",
       "      <td>0</td>\n",
       "      <td>0</td>\n",
       "      <td>3.521641</td>\n",
       "      <td>0</td>\n",
       "      <td>0</td>\n",
       "      <td>0</td>\n",
       "      <td>0</td>\n",
       "      <td>...</td>\n",
       "      <td>0</td>\n",
       "      <td>0</td>\n",
       "      <td>0</td>\n",
       "      <td>0</td>\n",
       "      <td>0</td>\n",
       "      <td>5</td>\n",
       "      <td>0</td>\n",
       "      <td>6025</td>\n",
       "      <td>10000000</td>\n",
       "      <td>0</td>\n",
       "    </tr>\n",
       "    <tr>\n",
       "      <th>8179</th>\n",
       "      <td>https://megasoftware.net</td>\n",
       "      <td>24</td>\n",
       "      <td>1</td>\n",
       "      <td>0</td>\n",
       "      <td>0</td>\n",
       "      <td>3.452820</td>\n",
       "      <td>0</td>\n",
       "      <td>0</td>\n",
       "      <td>0</td>\n",
       "      <td>0</td>\n",
       "      <td>...</td>\n",
       "      <td>0</td>\n",
       "      <td>0</td>\n",
       "      <td>0</td>\n",
       "      <td>0</td>\n",
       "      <td>0</td>\n",
       "      <td>315</td>\n",
       "      <td>8</td>\n",
       "      <td>7784</td>\n",
       "      <td>10000000</td>\n",
       "      <td>0</td>\n",
       "    </tr>\n",
       "    <tr>\n",
       "      <th>8180</th>\n",
       "      <td>https://did.li/1rbmC</td>\n",
       "      <td>20</td>\n",
       "      <td>1</td>\n",
       "      <td>0</td>\n",
       "      <td>0</td>\n",
       "      <td>1.918296</td>\n",
       "      <td>0</td>\n",
       "      <td>0</td>\n",
       "      <td>0</td>\n",
       "      <td>0</td>\n",
       "      <td>...</td>\n",
       "      <td>0</td>\n",
       "      <td>0</td>\n",
       "      <td>0</td>\n",
       "      <td>0</td>\n",
       "      <td>0</td>\n",
       "      <td>5</td>\n",
       "      <td>0</td>\n",
       "      <td>6287</td>\n",
       "      <td>11900000</td>\n",
       "      <td>1</td>\n",
       "    </tr>\n",
       "    <tr>\n",
       "      <th>8181</th>\n",
       "      <td>https://crm.avtovelomoto.by/bitrix/br.html?bra...</td>\n",
       "      <td>51</td>\n",
       "      <td>2</td>\n",
       "      <td>0</td>\n",
       "      <td>0</td>\n",
       "      <td>3.405822</td>\n",
       "      <td>0</td>\n",
       "      <td>3</td>\n",
       "      <td>0</td>\n",
       "      <td>0</td>\n",
       "      <td>...</td>\n",
       "      <td>0</td>\n",
       "      <td>0</td>\n",
       "      <td>0</td>\n",
       "      <td>0</td>\n",
       "      <td>0</td>\n",
       "      <td>0</td>\n",
       "      <td>0</td>\n",
       "      <td>6514</td>\n",
       "      <td>592557</td>\n",
       "      <td>1</td>\n",
       "    </tr>\n",
       "  </tbody>\n",
       "</table>\n",
       "<p>8182 rows × 22 columns</p>\n",
       "</div>"
      ],
      "text/plain": [
       "                                                    url  url_length  \\\n",
       "0                                  https://kalmatron.su          20   \n",
       "1                    https://mauviisephotoo.weebly.com/          34   \n",
       "2                                   https://ekontrol.pl          19   \n",
       "3                                     https://mariab.pk          17   \n",
       "4                     https://dancearoundthekitchen.com          33   \n",
       "...                                                 ...         ...   \n",
       "8177  https://new.express.adobe.com/webpage/eq9QlGn1...          51   \n",
       "8178                             https://cyberpoint.com          22   \n",
       "8179                           https://megasoftware.net          24   \n",
       "8180                               https://did.li/1rbmC          20   \n",
       "8181  https://crm.avtovelomoto.by/bitrix/br.html?bra...          51   \n",
       "\n",
       "      dot_count  has_at  special_char_count   entropy  suspicious_keywords  \\\n",
       "0             1       0                   0  3.418296                    0   \n",
       "1             2       0                   0  3.893661                    0   \n",
       "2             1       0                   0  3.095795                    0   \n",
       "3             1       0                   0  2.947703                    0   \n",
       "4             1       0                   0  3.673270                    0   \n",
       "...         ...     ...                 ...       ...                  ...   \n",
       "8177          3       0                   0  3.594466                    0   \n",
       "8178          1       0                   0  3.521641                    0   \n",
       "8179          1       0                   0  3.452820                    0   \n",
       "8180          1       0                   0  1.918296                    0   \n",
       "8181          2       0                   0  3.405822                    0   \n",
       "\n",
       "      subdomain_length  is_free_hosting  has_hyphen  ...  fetchCount  \\\n",
       "0                    0                0           0  ...           0   \n",
       "1                   14                1           0  ...           0   \n",
       "2                    0                0           0  ...           0   \n",
       "3                    0                0           0  ...           0   \n",
       "4                    0                0           0  ...           0   \n",
       "...                ...              ...         ...  ...         ...   \n",
       "8177                11                0           0  ...           0   \n",
       "8178                 0                0           0  ...           0   \n",
       "8179                 0                0           0  ...           0   \n",
       "8180                 0                0           0  ...           0   \n",
       "8181                 3                0           0  ...           0   \n",
       "\n",
       "      xhrCount  wsCount  scriptInjectionCount  eventListenerCount  \\\n",
       "0            0        0                     0                   0   \n",
       "1            0        0                     0                   0   \n",
       "2            0        0                     0                   0   \n",
       "3            0        0                     0                   0   \n",
       "4            0        0                     0                   0   \n",
       "...        ...      ...                   ...                 ...   \n",
       "8177         0        0                     0                   0   \n",
       "8178         0        0                     0                   0   \n",
       "8179         0        0                     0                   0   \n",
       "8180         0        0                     0                   0   \n",
       "8181         0        0                     0                   0   \n",
       "\n",
       "      domMutationCount  attributeMutationCount  pageLoadTime  memoryUsed  \\\n",
       "0                    0                       0          6174    10000000   \n",
       "1                    2                       4          6524    12700000   \n",
       "2                    3                     243          7167    27600000   \n",
       "3                   25                     379          8448    26000000   \n",
       "4                    5                       0         11238    50400000   \n",
       "...                ...                     ...           ...         ...   \n",
       "8177                 3                       0          7588   148000000   \n",
       "8178                 5                       0          6025    10000000   \n",
       "8179               315                       8          7784    10000000   \n",
       "8180                 5                       0          6287    11900000   \n",
       "8181                 0                       0          6514      592557   \n",
       "\n",
       "      label  \n",
       "0         0  \n",
       "1         1  \n",
       "2         0  \n",
       "3         0  \n",
       "4         0  \n",
       "...     ...  \n",
       "8177      1  \n",
       "8178      0  \n",
       "8179      0  \n",
       "8180      1  \n",
       "8181      1  \n",
       "\n",
       "[8182 rows x 22 columns]"
      ]
     },
     "execution_count": 4,
     "metadata": {},
     "output_type": "execute_result"
    }
   ],
   "source": [
    "df"
   ]
  },
  {
   "cell_type": "markdown",
   "id": "6bc96444-ef38-475e-9ab1-6259c2fba235",
   "metadata": {},
   "source": [
    "### 1. Optimize n_estimators via OOB error"
   ]
  },
  {
   "cell_type": "code",
   "execution_count": 5,
   "id": "2289f8f1-d1fe-4b66-b474-c2c08f3f2b44",
   "metadata": {},
   "outputs": [
    {
     "name": "stderr",
     "output_type": "stream",
     "text": [
      "C:\\Users\\USER\\anaconda3\\Lib\\site-packages\\sklearn\\ensemble\\_forest.py:583: UserWarning: Some inputs do not have OOB scores. This probably means too few trees were used to compute any reliable OOB estimates.\n",
      "  warn(\n",
      "C:\\Users\\USER\\anaconda3\\Lib\\site-packages\\sklearn\\ensemble\\_forest.py:583: UserWarning: Some inputs do not have OOB scores. This probably means too few trees were used to compute any reliable OOB estimates.\n",
      "  warn(\n"
     ]
    }
   ],
   "source": [
    "tree_range = list(range(10, 301, 10))\n",
    "oob_errors = []\n",
    "for n in tree_range:\n",
    "    rf = RandomForestClassifier(n_estimators=n, oob_score=True, n_jobs=-1, random_state=42)\n",
    "    rf.fit(X, y)\n",
    "    oob_errors.append(1 - rf.oob_score_)"
   ]
  },
  {
   "cell_type": "code",
   "execution_count": 6,
   "id": "7bed8d3d-56d0-4ee5-a66b-ed99615d070b",
   "metadata": {},
   "outputs": [
    {
     "name": "stdout",
     "output_type": "stream",
     "text": [
      "label\n",
      "0    4774\n",
      "1    3408\n",
      "Name: count, dtype: int64\n"
     ]
    }
   ],
   "source": [
    "# verify labels\n",
    "print(y.value_counts())\n"
   ]
  },
  {
   "cell_type": "markdown",
   "id": "3de529c5-ab86-48ca-8e99-efe493bbdab2",
   "metadata": {},
   "source": [
    "draw the data"
   ]
  },
  {
   "cell_type": "code",
   "execution_count": 7,
   "id": "22e9e815-1034-43a3-86d8-7387e85f7bc9",
   "metadata": {},
   "outputs": [
    {
     "data": {
      "image/png": "[encoded data removed]",
      "text/plain": [
       "<Figure size 640x480 with 1 Axes>"
      ]
     },
     "metadata": {},
     "output_type": "display_data"
    }
   ],
   "source": [
    "# Early stopping logic: find smallest n within ε of min error\n",
    "min_error = min(oob_errors)\n",
    "tolerance = 0.001  # Acceptable difference\n",
    "best_n = next(n for i, n in enumerate(tree_range) if oob_errors[i] <= min_error + tolerance)\n",
    "\n",
    "plt.figure()\n",
    "plt.plot(tree_range, oob_errors)\n",
    "plt.title(\"OOB Error vs. Number of Trees\")\n",
    "plt.xlabel(\"Number of Trees\")\n",
    "plt.ylabel(\"OOB Error\")\n",
    "plt.show()"
   ]
  },
  {
   "cell_type": "code",
   "execution_count": 8,
   "id": "eedc8f18-0d6b-42e8-9159-82262970ff76",
   "metadata": {},
   "outputs": [
    {
     "data": {
      "text/plain": [
       "50"
      ]
     },
     "execution_count": 8,
     "metadata": {},
     "output_type": "execute_result"
    }
   ],
   "source": [
    "best_n"
   ]
  },
  {
   "cell_type": "markdown",
   "id": "ba2137f4-eefa-4fd9-803f-9c7bf50e59f9",
   "metadata": {},
   "source": [
    "### 2. Feature importances"
   ]
  },
  {
   "cell_type": "code",
   "execution_count": 9,
   "id": "11fd575b-2dfd-42a4-a4a6-85b9ef32f0f9",
   "metadata": {},
   "outputs": [],
   "source": [
    "rf_sel = RandomForestClassifier(n_estimators=best_n, n_jobs=-1, random_state=42)\n",
    "rf_sel.fit(X, y)\n",
    "importances = rf_sel.feature_importances_\n",
    "indices = np.argsort(importances)[::-1]\n"
   ]
  },
  {
   "cell_type": "markdown",
   "id": "81b0e5a9-8202-4619-a093-04b1d2dce615",
   "metadata": {},
   "source": [
    "draw the data"
   ]
  },
  {
   "cell_type": "code",
   "execution_count": 10,
   "id": "441ce7c1-04c2-44fb-81fb-5fc6b467c16e",
   "metadata": {},
   "outputs": [
    {
     "data": {
      "image/png": "[encoded data removed]",
      "text/plain": [
       "<Figure size 640x480 with 1 Axes>"
      ]
     },
     "metadata": {},
     "output_type": "display_data"
    }
   ],
   "source": [
    "top_n = 20\n",
    "plt.figure()\n",
    "plt.bar(range(top_n), importances[indices][:top_n])\n",
    "plt.xticks(range(top_n), [X.columns[i] for i in indices[:top_n]], rotation=90)\n",
    "plt.title(\"Top 20 Feature Importances\")\n",
    "plt.xlabel(\"Feature\")\n",
    "plt.ylabel(\"Importance\")\n",
    "plt.tight_layout()\n",
    "plt.show()"
   ]
  },
  {
   "cell_type": "markdown",
   "id": "8b0a4a8a-93a1-4391-86cd-6e84c3d71041",
   "metadata": {},
   "source": [
    "### 3. MAE vs number of selected features"
   ]
  },
  {
   "cell_type": "code",
   "execution_count": 11,
   "id": "c8a09349-a44f-4635-ada1-b3bf8189f7d2",
   "metadata": {},
   "outputs": [],
   "source": [
    "mae_scores = []\n",
    "ks = list(range(1, len(X.columns) + 1))\n",
    "for k in ks:\n",
    "    sel = [X.columns[i] for i in indices[:k]]\n",
    "    scores = -cross_val_score(\n",
    "        RandomForestClassifier(n_estimators=best_n, random_state=42),\n",
    "        X[sel], y,\n",
    "        cv=5,\n",
    "        scoring=\"neg_mean_absolute_error\",\n",
    "        n_jobs=-1\n",
    "    )\n",
    "    mae_scores.append(scores.mean())"
   ]
  },
  {
   "cell_type": "markdown",
   "id": "068f159c-73e8-473e-9861-55587fa2aa4b",
   "metadata": {},
   "source": [
    "draw the data"
   ]
  },
  {
   "cell_type": "code",
   "execution_count": 12,
   "id": "5267942b-c2ce-4c24-bb31-d701468d60cd",
   "metadata": {},
   "outputs": [
    {
     "data": {
      "image/png": "[encoded data removed]",
      "text/plain": [
       "<Figure size 640x480 with 1 Axes>"
      ]
     },
     "metadata": {},
     "output_type": "display_data"
    }
   ],
   "source": [
    "plt.figure()\n",
    "plt.plot(ks, mae_scores)\n",
    "plt.title(\"MAE vs. Number of Features\")\n",
    "plt.xlabel(\"Number of Selected Features\")\n",
    "plt.ylabel(\"MAE\")\n",
    "plt.show()"
   ]
  },
  {
   "cell_type": "code",
   "execution_count": 13,
   "id": "5ae89578-7ac2-4503-8a62-9cb4688d514d",
   "metadata": {},
   "outputs": [],
   "source": [
    "best_k = ks[np.argmin(mae_scores)]\n",
    "selected_features = [X.columns[i] for i in indices[:best_k]]\n",
    "X_sel = X[selected_features]"
   ]
  },
  {
   "cell_type": "code",
   "execution_count": 14,
   "id": "2a4accb1-a5fe-4fb5-816c-e88550c8c161",
   "metadata": {},
   "outputs": [
    {
     "name": "stdout",
     "output_type": "stream",
     "text": [
      "selected_features:  ['url_length', 'entropy', 'subdomain_length', 'dot_count']\n"
     ]
    }
   ],
   "source": [
    "print(\"selected_features: \", selected_features)"
   ]
  },
  {
   "cell_type": "markdown",
   "id": "213c4134-7f33-4ace-96d6-676fff6a18e8",
   "metadata": {},
   "source": [
    "### 4. ROC curve and threshold selection"
   ]
  },
  {
   "cell_type": "code",
   "execution_count": 15,
   "id": "2fd2570b-9159-428d-afe6-cb6265a511a9",
   "metadata": {},
   "outputs": [],
   "source": [
    "skf = StratifiedKFold(n_splits=10, shuffle=True, random_state=42)\n",
    "all_val_probs = []\n",
    "all_val_labels = []"
   ]
  },
  {
   "cell_type": "code",
   "execution_count": 16,
   "id": "9227a8b2-9cf5-4846-8fca-08f2d53beb0d",
   "metadata": {},
   "outputs": [],
   "source": [
    "for train_idx, val_idx in skf.split(X_sel, y):\n",
    "    m = RandomForestClassifier(n_estimators=best_n, random_state=42)\n",
    "    m.fit(X_sel.iloc[train_idx], y.iloc[train_idx])\n",
    "    probs = m.predict_proba(X_sel.iloc[val_idx])[:, 1]\n",
    "    all_val_probs.extend(probs)\n",
    "    all_val_labels.extend(y.iloc[val_idx])"
   ]
  },
  {
   "cell_type": "code",
   "execution_count": 17,
   "id": "98f8fefc-51d6-4fc9-9510-40ba6335b10d",
   "metadata": {},
   "outputs": [],
   "source": [
    "all_val_probs = np.array(all_val_probs)\n",
    "all_val_labels = np.array(all_val_labels)"
   ]
  },
  {
   "cell_type": "code",
   "execution_count": 18,
   "id": "92ce3677-1a87-4d01-a674-fd14dc14f3ae",
   "metadata": {},
   "outputs": [],
   "source": [
    "fpr_arr, tpr_arr, thr_arr = roc_curve(all_val_labels, all_val_probs)\n",
    "j_scores = tpr_arr - fpr_arr\n",
    "best_idx = np.argmax(j_scores)\n",
    "best_threshold = thr_arr[best_idx]"
   ]
  },
  {
   "cell_type": "code",
   "execution_count": 19,
   "id": "6eaaa98d-93e2-4900-a4da-bde1476a8fdb",
   "metadata": {},
   "outputs": [
    {
     "data": {
      "image/png": "[encoded data removed]",
      "text/plain": [
       "<Figure size 640x480 with 1 Axes>"
      ]
     },
     "metadata": {},
     "output_type": "display_data"
    }
   ],
   "source": [
    "plt.figure()\n",
    "plt.plot(fpr_arr, tpr_arr)\n",
    "plt.title(\"ROC Curve\")\n",
    "plt.xlabel(\"False Positive Rate\")\n",
    "plt.ylabel(\"True Positive Rate\")\n",
    "plt.show()"
   ]
  },
  {
   "cell_type": "code",
   "execution_count": 20,
   "id": "03f39ada-40a3-48da-86d7-9f72ae56ac11",
   "metadata": {},
   "outputs": [
    {
     "name": "stdout",
     "output_type": "stream",
     "text": [
      "Optimal threshold:  0.58\n"
     ]
    }
   ],
   "source": [
    "print(\"Optimal threshold: \", best_threshold)"
   ]
  },
  {
   "cell_type": "markdown",
   "id": "d27701df-b1b4-4f05-a833-cb024d716777",
   "metadata": {},
   "source": [
    "### 5. Final train/test evaluation"
   ]
  },
  {
   "cell_type": "code",
   "execution_count": 21,
   "id": "23425334-13fe-4927-b1d0-dd970cbbec52",
   "metadata": {},
   "outputs": [
    {
     "name": "stdout",
     "output_type": "stream",
     "text": [
      "🔄 Evaluating model using 10-fold cross-validation...\n",
      "\n",
      "📊 Cross-Validation Performance (averaged over folds):\n",
      "Precision: 0.9867\n",
      "Recall (TPR): 0.9786\n",
      "False Positive Rate (FPR): 0.0094\n",
      "F1 Score: 0.9826\n"
     ]
    }
   ],
   "source": [
    "from sklearn.model_selection import StratifiedKFold\n",
    "\n",
    "print(\"🔄 Evaluating model using 10-fold cross-validation...\")\n",
    "\n",
    "skf = StratifiedKFold(n_splits=5, shuffle=True, random_state=42)\n",
    "\n",
    "precisions = []\n",
    "recalls = []\n",
    "f1s = []\n",
    "fprs = []\n",
    "tprs = []\n",
    "\n",
    "for train_idx, test_idx in skf.split(X_sel, y):\n",
    "    X_train, X_test = X_sel.iloc[train_idx], X_sel.iloc[test_idx]\n",
    "    y_train, y_test = y.iloc[train_idx], y.iloc[test_idx]\n",
    "\n",
    "    model = RandomForestClassifier(n_estimators=best_n, random_state=42)\n",
    "    model.fit(X_train, y_train)\n",
    "\n",
    "    y_probs = model.predict_proba(X_test)[:, 1]\n",
    "    y_pred = (y_probs >= best_threshold).astype(int)\n",
    "\n",
    "    cm = confusion_matrix(y_test, y_pred)\n",
    "    tp, fn, fp, tn = cm[1,1], cm[1,0], cm[0,1], cm[0,0]\n",
    "\n",
    "    precisions.append(precision_score(y_test, y_pred))\n",
    "    recalls.append(recall_score(y_test, y_pred))\n",
    "    f1s.append(f1_score(y_test, y_pred))\n",
    "    tprs.append(tp / (tp + fn))\n",
    "    fprs.append(fp / (fp + tn))\n",
    "\n",
    "# Print mean scores\n",
    "print(\"\\n📊 Cross-Validation Performance (averaged over folds):\")\n",
    "print(f\"Precision: {np.mean(precisions):.4f}\")\n",
    "print(f\"Recall (TPR): {np.mean(tprs):.4f}\")\n",
    "print(f\"False Positive Rate (FPR): {np.mean(fprs):.4f}\")\n",
    "print(f\"F1 Score: {np.mean(f1s):.4f}\")"
   ]
  },
  {
   "cell_type": "markdown",
   "id": "cb457737-99bf-41ed-967b-e0e4e70ca386",
   "metadata": {},
   "source": [
    "Export the model to the extension!!"
   ]
  },
  {
   "cell_type": "code",
   "execution_count": 22,
   "id": "f4b07551-3251-43df-a26d-b3903be23a9f",
   "metadata": {},
   "outputs": [],
   "source": [
    "import json\n",
    "from sklearn.tree import export_text, export_graphviz\n",
    "from sklearn.tree import _tree\n",
    "\n",
    "final_model = RandomForestClassifier(n_estimators=best_n, random_state=42)\n",
    "final_model.fit(X_sel, y)\n",
    "\n",
    "def tree_to_dict(tree, feature_names):\n",
    "    tree_ = tree.tree_\n",
    "\n",
    "    def recurse(node):\n",
    "        if tree_.feature[node] != _tree.TREE_UNDEFINED:\n",
    "            name = feature_names[tree_.feature[node]]\n",
    "            threshold = tree_.threshold[node]\n",
    "            return {\n",
    "                \"feature\": name,\n",
    "                \"threshold\": threshold,\n",
    "                \"left\": recurse(tree_.children_left[node]),\n",
    "                \"right\": recurse(tree_.children_right[node])\n",
    "            }\n",
    "        else:\n",
    "            return {\"value\": tree_.value[node].tolist()}\n",
    "\n",
    "    return recurse(0)\n",
    "\n",
    "# Pass the real feature names from your selected training columns\n",
    "rf_json = [tree_to_dict(estimator, selected_features) for estimator in final_model.estimators_]\n",
    "\n",
    "# Export to JSON\n",
    "with open(\"./SimpleExtension/rf_model.json\", \"w\") as f:\n",
    "    json.dump(rf_json, f)\n"
   ]
  },
  {
   "cell_type": "code",
   "execution_count": null,
   "id": "985109c7-a03b-483d-a938-a4c1a4763598",
   "metadata": {},
   "outputs": [],
   "source": []
  }
 ],
 "metadata": {
  "kernelspec": {
   "display_name": "Python 3 (ipykernel)",
   "language": "python",
   "name": "python3"
  },
  "language_info": {
   "codemirror_mode": {
    "name": "ipython",
    "version": 3
   },
   "file_extension": ".py",
   "mimetype": "text/x-python",
   "name": "python",
   "nbconvert_exporter": "python",
   "pygments_lexer": "ipython3",
   "version": "3.11.7"
  }
 },
 "nbformat": 4,
 "nbformat_minor": 5
}
